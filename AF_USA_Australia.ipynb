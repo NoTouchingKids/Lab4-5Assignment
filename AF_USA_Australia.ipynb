{
 "cells": [
  {
   "cell_type": "markdown",
   "metadata": {
    "collapsed": false
   },
   "source": [
    "<h3>Lab 4/5: Assignment</h3>\n",
    "\n",
    "# USA - Australia Comparison on Census Data\n",
    "\n",
    "---"
   ]
  },
  {
   "cell_type": "code",
   "execution_count": null,
   "metadata": {
    "collapsed": false
   },
   "outputs": [],
   "source": [
    "import re\n",
    "import numpy as np\n",
    "import matplotlib.pyplot as plt"
   ]
  },
  {
   "cell_type": "markdown",
   "metadata": {},
   "source": [
    "Read in all the appropriate files. \n",
    "Create a list for each Category, this list will hold all of the appropriate files, enabling us to iterate over these lists."
   ]
  },
  {
   "cell_type": "code",
   "execution_count": 3,
   "metadata": {
    "collapsed": false
   },
   "outputs": [],
   "source": [
    "G09_FILES = [\"AUS census Data/2021Census_G09F_AUS_AUS.csv\",\n",
    "             \"AUS census Data/2021Census_G09G_AUS_AUS.csv\",\n",
    "             \"AUS census Data/2021Census_G09H_AUS_AUS.csv\"\n",
    "            ]\n",
    "\n",
    "G10_FILES = [\"AUS census Data/2016Census_G10A_AUS.csv\",\n",
    "             \"AUS census Data/2016Census_G10B_AUS.csv\",\n",
    "             \"AUS census Data/2016Census_G10C_AUS.csv\"]\n"
   ]
  },
  {
   "cell_type": "markdown",
   "metadata": {},
   "source": [
    "Lets use our functions to investigate the data structure, organisation and cleaning required.\n",
    "\n",
    "Print a temp sample of the first and last 10 cells for each data file"
   ]
  },
  {
   "cell_type": "code",
   "execution_count": null,
   "metadata": {
    "collapsed": false
   },
   "outputs": [
    {
     "ename": "FileNotFoundError",
     "evalue": "[Errno 2] No such file or directory: '2021Census_G09H_AUS_AUS.csv'",
     "output_type": "error",
     "traceback": [
      "\u001b[0;31m---------------------------------------------------------------------------\u001b[0m",
      "\u001b[0;31mFileNotFoundError\u001b[0m                         Traceback (most recent call last)",
      "\u001b[1;32m/Users/alexiafassetta/Documents/cits2402/LabAsse/Lab4-5Assignment/AF_USA_Australia.ipynb Cell 4\u001b[0m in \u001b[0;36m<cell line: 13>\u001b[0;34m()\u001b[0m\n\u001b[1;32m     <a href='vscode-notebook-cell:/Users/alexiafassetta/Documents/cits2402/LabAsse/Lab4-5Assignment/AF_USA_Australia.ipynb#X11sZmlsZQ%3D%3D?line=10'>11</a>\u001b[0m \u001b[39m#Test \u001b[39;00m\n\u001b[1;32m     <a href='vscode-notebook-cell:/Users/alexiafassetta/Documents/cits2402/LabAsse/Lab4-5Assignment/AF_USA_Australia.ipynb#X11sZmlsZQ%3D%3D?line=11'>12</a>\u001b[0m filename \u001b[39m=\u001b[39m \u001b[39m\"\u001b[39m\u001b[39m2021Census_G09H_AUS_AUS.csv\u001b[39m\u001b[39m\"\u001b[39m\n\u001b[0;32m---> <a href='vscode-notebook-cell:/Users/alexiafassetta/Documents/cits2402/LabAsse/Lab4-5Assignment/AF_USA_Australia.ipynb#X11sZmlsZQ%3D%3D?line=12'>13</a>\u001b[0m a \u001b[39m=\u001b[39m read_file(filename)\n\u001b[1;32m     <a href='vscode-notebook-cell:/Users/alexiafassetta/Documents/cits2402/LabAsse/Lab4-5Assignment/AF_USA_Australia.ipynb#X11sZmlsZQ%3D%3D?line=13'>14</a>\u001b[0m b \u001b[39m=\u001b[39m a[\u001b[39m0\u001b[39m]\n",
      "\u001b[1;32m/Users/alexiafassetta/Documents/cits2402/LabAsse/Lab4-5Assignment/AF_USA_Australia.ipynb Cell 4\u001b[0m in \u001b[0;36mread_file\u001b[0;34m(filename)\u001b[0m\n\u001b[1;32m      <a href='vscode-notebook-cell:/Users/alexiafassetta/Documents/cits2402/LabAsse/Lab4-5Assignment/AF_USA_Australia.ipynb#X11sZmlsZQ%3D%3D?line=0'>1</a>\u001b[0m \u001b[39mdef\u001b[39;00m \u001b[39mread_file\u001b[39m(filename):\n\u001b[1;32m      <a href='vscode-notebook-cell:/Users/alexiafassetta/Documents/cits2402/LabAsse/Lab4-5Assignment/AF_USA_Australia.ipynb#X11sZmlsZQ%3D%3D?line=1'>2</a>\u001b[0m     \u001b[39m\"\"\"\u001b[39;00m\n\u001b[1;32m      <a href='vscode-notebook-cell:/Users/alexiafassetta/Documents/cits2402/LabAsse/Lab4-5Assignment/AF_USA_Australia.ipynb#X11sZmlsZQ%3D%3D?line=2'>3</a>\u001b[0m \u001b[39m    Reads in a file, removing the first column of each row (\"AUS_CODE_2020\"). Returns a list containing a list of every row.\u001b[39;00m\n\u001b[1;32m      <a href='vscode-notebook-cell:/Users/alexiafassetta/Documents/cits2402/LabAsse/Lab4-5Assignment/AF_USA_Australia.ipynb#X11sZmlsZQ%3D%3D?line=3'>4</a>\u001b[0m \u001b[39m    \"\"\"\u001b[39;00m\n\u001b[0;32m----> <a href='vscode-notebook-cell:/Users/alexiafassetta/Documents/cits2402/LabAsse/Lab4-5Assignment/AF_USA_Australia.ipynb#X11sZmlsZQ%3D%3D?line=4'>5</a>\u001b[0m     \u001b[39mwith\u001b[39;00m \u001b[39mopen\u001b[39;49m(filename, \u001b[39m'\u001b[39;49m\u001b[39mr\u001b[39;49m\u001b[39m'\u001b[39;49m) \u001b[39mas\u001b[39;00m file:\n\u001b[1;32m      <a href='vscode-notebook-cell:/Users/alexiafassetta/Documents/cits2402/LabAsse/Lab4-5Assignment/AF_USA_Australia.ipynb#X11sZmlsZQ%3D%3D?line=5'>6</a>\u001b[0m         contents \u001b[39m=\u001b[39m file\u001b[39m.\u001b[39mreadlines()\n\u001b[1;32m      <a href='vscode-notebook-cell:/Users/alexiafassetta/Documents/cits2402/LabAsse/Lab4-5Assignment/AF_USA_Australia.ipynb#X11sZmlsZQ%3D%3D?line=7'>8</a>\u001b[0m     \u001b[39mfor\u001b[39;00m (index, value) \u001b[39min\u001b[39;00m \u001b[39menumerate\u001b[39m(contents):\n",
      "\u001b[0;31mFileNotFoundError\u001b[0m: [Errno 2] No such file or directory: '2021Census_G09H_AUS_AUS.csv'"
     ]
    }
   ],
   "source": [
    "def read_file(filename):\n",
    "    \"\"\"\n",
    "    Reads in a file, removing the first column of each row (\"AUS_CODE_2020\"). Returns a list containing a list of every row.\n",
    "    \"\"\"\n",
    "    with open(filename, 'r') as file:\n",
    "        contents = file.readlines()\n",
    "\n",
    "    for (index, value) in enumerate(contents):\n",
    "        contents[index] = value.strip(\"\\n\").split(\",\")[1:]\n",
    "    return contents\n",
    "#Test \n",
    "filename = \"AUS census Data/2021Census_G09H_AUS_AUS.csv\"\n",
    "a = read_file(filename)\n",
    "b = a[0]\n",
    "#print(b)"
   ]
  },
  {
   "cell_type": "code",
   "execution_count": 6,
   "metadata": {
    "collapsed": false
   },
   "outputs": [],
   "source": [
    "def create_dictionary(keys, value, dictionary):\n",
    "    \"\"\"\n",
    "    Takes two lists (one of keys and the other of values) and adds to specified dictionary\n",
    "    \"\"\"\n",
    "    for (index, key) in enumerate(keys): # enumerate maintains a counter as a key for each value within an object, allowing easier access to items\n",
    "        dictionary[key] = value[index]\n",
    "    return dictionary\n"
   ]
  },
  {
   "cell_type": "code",
   "execution_count": null,
   "metadata": {
    "collapsed": false
   },
   "outputs": [],
   "source": [
    "G09 = {}\n",
    "G10 = {}\n",
    "\n",
    "for file in G09_FILES:\n",
    "    temp09 = read_file(file)\n",
    "    G09 = create_dictionary(temp09[0], temp09[1],G09)\n",
    "\n",
    "for file in G10_FILES:\n",
    "    temp10 = read_file(file)\n",
    "    G10 = create_dictionary(temp10[0], temp10[1], G10)\n"
   ]
  },
  {
   "cell_type": "code",
   "execution_count": null,
   "metadata": {
    "collapsed": false
   },
   "outputs": [
    {
     "name": "stdout",
     "output_type": "stream",
     "text": [
      "Beginning of G13 headers:  ['F_Vietnam_0_4', 'F_Vietnam_5_14', 'F_Vietnam_15_24', 'F_Vietnam_25_44', 'F_Vietnam_45_54', 'F_Vietnam_55_64', 'F_Vietnam_65_74', 'F_Vietnam_75_84', 'F_Vietnam_85ov', 'F_Vietnam_Tot', 'F_Wales_0_4', 'F_Wales_5_14', 'F_Wales_15_24', 'F_Wales_25_44', 'F_Wales_45_54', 'F_Wales_55_64', 'F_Wales_65_74', 'F_Wales_75_84', 'F_Wales_85ov', 'F_Wales_Tot'] \n",
      ",\n",
      "End of G13 headers:  ['P_COB_NS_0_4', 'P_COB_NS_5_14', 'P_COB_NS_15_24', 'P_COB_NS_25_44', 'P_COB_NS_45_54', 'P_COB_NS_55_64', 'P_COB_NS_65_74', 'P_COB_NS_75_84', 'P_COB_NS_85ov', 'P_COB_NS_Tot', 'P_Tot_0_4', 'P_Tot_5_14', 'P_Tot_15_24', 'P_Tot_25_44', 'P_Tot_45_54', 'P_Tot_55_64', 'P_Tot_65_74', 'P_Tot_75_84', 'P_Tot_85ov', 'P_Tot_Tot']\n"
     ]
    }
   ],
   "source": [
    "print(\"Beginning of G09 headers: \", list(G09)[:20],'\\n,' \"\\nEnd of G09 headers: \", list(G09)[len(G09)-20:])"
   ]
  },
  {
   "cell_type": "code",
   "execution_count": 8,
   "metadata": {
    "collapsed": false
   },
   "outputs": [],
   "source": [
    "def clean_dictionary(from_dictionary):\n",
    "    G13_Total = {}\n",
    "    G13_AusPop = {}\n",
    "    for (key,value) in from_dictionary.items():\n",
    "        if \"Australia\" in key:\n",
    "            G13_AusPop[key] = int(value)\n",
    "        elif key[0] == \"P\":\n",
    "            G13_Total[key] = int(value)\n",
    "    return G13_Total, G13_AusPop"
   ]
  },
  {
   "cell_type": "code",
   "execution_count": 9,
   "metadata": {
    "collapsed": false
   },
   "outputs": [
    {
     "name": "stdout",
     "output_type": "stream",
     "text": [
      "{'P_Afghanistan_0_4': 322, 'P_Afghanistan_5_14': 3896, 'P_Afghanistan_15_24': 9223, 'P_Afghanistan_25_44': 30560, 'P_Afghanistan_45_54': 8467, 'P_Afghanistan_55_64': 4585, 'P_Afghanistan_65_74': 2012, 'P_Afghanistan_75_84': 602, 'P_Afghanistan_85ov': 135, 'P_Afghanistan_Tot': 59797, 'P_Bangladesh_0_4': 333, 'P_Bangladesh_5_14': 2982, 'P_Bangladesh_15_24': 4281, 'P_Bangladesh_25_44': 31695, 'P_Bangladesh_45_54': 6876, 'P_Bangladesh_55_64': 3482, 'P_Bangladesh_65_74': 1560, 'P_Bangladesh_75_84': 254, 'P_Bangladesh_85ov': 33, 'P_Bangladesh_Tot': 51491, 'P_Bosnia_Herzegov_0_4': 17, 'P_Bosnia_Herzegov_5_14': 123, 'P_Bosnia_Herzegov_15_24': 400, 'P_Bosnia_Herzegov_25_44': 8709, 'P_Bosnia_Herzegov_45_54': 4340, 'P_Bosnia_Herzegov_55_64': 6289, 'P_Bosnia_Herzegov_65_74': 3815, 'P_Bosnia_Herzegov_75_84': 1952, 'P_Bosnia_Herzegov_85ov': 522, 'P_Bosnia_Herzegov_Tot': 26171, 'P_Brazil_0_4': 207, 'P_Brazil_5_14': 1496, 'P_Brazil_15_24': 2882, 'P_Brazil_25_44': 35170, 'P_Brazil_45_54': 4136, 'P_Brazil_55_64': 1712, 'P_Brazil_65_74': 765, 'P_Brazil_75_84': 287, 'P_Brazil_85ov': 69, 'P_Brazil_Tot': 46720, 'P_Cambodia_0_4': 181, 'P_Cambodia_5_14': 1091, 'P_Cambodia_15_24': 2921, 'P_Cambodia_25_44': 13229, 'P_Cambodia_45_54': 7942, 'P_Cambodia_55_64': 6785, 'P_Cambodia_65_74': 4665, 'P_Cambodia_75_84': 1671, 'P_Cambodia_85ov': 556, 'P_Cambodia_Tot': 39043, 'P_Canada_0_4': 727, 'P_Canada_5_14': 2944, 'P_Canada_15_24': 3415, 'P_Canada_25_44': 20124, 'P_Canada_45_54': 9061, 'P_Canada_55_64': 7045, 'P_Canada_65_74': 4601, 'P_Canada_75_84': 1855, 'P_Canada_85ov': 451, 'P_Canada_Tot': 50223, 'P_Chile_0_4': 105, 'P_Chile_5_14': 528, 'P_Chile_15_24': 846, 'P_Chile_25_44': 9410, 'P_Chile_45_54': 5608, 'P_Chile_55_64': 5146, 'P_Chile_65_74': 4838, 'P_Chile_75_84': 2885, 'P_Chile_85ov': 496, 'P_Chile_Tot': 29860, 'P_China_0_4': 1875, 'P_China_5_14': 20206, 'P_China_15_24': 56384, 'P_China_25_44': 243970, 'P_China_45_54': 74649, 'P_China_55_64': 76298, 'P_China_65_74': 48562, 'P_China_75_84': 18472, 'P_China_85ov': 9196, 'P_China_Tot': 549618, 'P_Croatia_0_4': 14, 'P_Croatia_5_14': 146, 'P_Croatia_15_24': 245, 'P_Croatia_25_44': 5102, 'P_Croatia_45_54': 4225, 'P_Croatia_55_64': 8867, 'P_Croatia_65_74': 10842, 'P_Croatia_75_84': 10215, 'P_Croatia_85ov': 3652, 'P_Croatia_Tot': 43302, 'P_Egypt_0_4': 279, 'P_Egypt_5_14': 2799, 'P_Egypt_15_24': 3073, 'P_Egypt_25_44': 10951, 'P_Egypt_45_54': 4148, 'P_Egypt_55_64': 6220, 'P_Egypt_65_74': 8097, 'P_Egypt_75_84': 5533, 'P_Egypt_85ov': 2119, 'P_Egypt_Tot': 43213, 'P_England_0_4': 3057, 'P_England_5_14': 30418, 'P_England_15_24': 50526, 'P_England_25_44': 163957, 'P_England_45_54': 144491, 'P_England_55_64': 196480, 'P_England_65_74': 170659, 'P_England_75_84': 124330, 'P_England_85ov': 43567, 'P_England_Tot': 927490, 'P_Fiji_0_4': 110, 'P_Fiji_5_14': 1307, 'P_Fiji_15_24': 3611, 'P_Fiji_25_44': 24683, 'P_Fiji_45_54': 14288, 'P_Fiji_55_64': 13120, 'P_Fiji_65_74': 7787, 'P_Fiji_75_84': 3265, 'P_Fiji_85ov': 774, 'P_Fiji_Tot': 68947, 'P_France_0_4': 242, 'P_France_5_14': 1510, 'P_France_15_24': 2289, 'P_France_25_44': 17282, 'P_France_45_54': 5096, 'P_France_55_64': 4109, 'P_France_65_74': 3083, 'P_France_75_84': 1689, 'P_France_85ov': 711, 'P_France_Tot': 36019, 'P_Germany_0_4': 340, 'P_Germany_5_14': 1523, 'P_Germany_15_24': 3222, 'P_Germany_25_44': 19380, 'P_Germany_45_54': 11341, 'P_Germany_55_64': 12992, 'P_Germany_65_74': 25494, 'P_Germany_75_84': 19779, 'P_Germany_85ov': 7191, 'P_Germany_Tot': 101255, 'P_Greece_0_4': 80, 'P_Greece_5_14': 944, 'P_Greece_15_24': 1857, 'P_Greece_25_44': 4963, 'P_Greece_45_54': 4934, 'P_Greece_55_64': 12371, 'P_Greece_65_74': 22597, 'P_Greece_75_84': 30866, 'P_Greece_85ov': 13699, 'P_Greece_Tot': 92314, 'P_Hong_Kong_SAR_Ch_0_4': 902, 'P_Hong_Kong_SAR_Ch_5_14': 5773, 'P_Hong_Kong_SAR_Ch_15_24': 10069, 'P_Hong_Kong_SAR_Ch_25_44': 36190, 'P_Hong_Kong_SAR_Ch_45_54': 12546, 'P_Hong_Kong_SAR_Ch_55_64': 17143, 'P_Hong_Kong_SAR_Ch_65_74': 13686, 'P_Hong_Kong_SAR_Ch_75_84': 2884, 'P_Hong_Kong_SAR_Ch_85ov': 950, 'P_Hong_Kong_SAR_Ch_Tot': 100148, 'P_India_0_4': 6597, 'P_India_5_14': 43134, 'P_India_15_24': 64295, 'P_India_25_44': 415298, 'P_India_45_54': 65098, 'P_India_55_64': 36640, 'P_India_65_74': 25804, 'P_India_75_84': 12394, 'P_India_85ov': 4097, 'P_India_Tot': 673352, 'P_Indonesia_0_4': 540, 'P_Indonesia_5_14': 3110, 'P_Indonesia_15_24': 10714, 'P_Indonesia_25_44': 40151, 'P_Indonesia_45_54': 13752, 'P_Indonesia_55_64': 7533, 'P_Indonesia_65_74': 7421, 'P_Indonesia_75_84': 2922, 'P_Indonesia_85ov': 928, 'P_Indonesia_Tot': 87075, 'P_Iran_0_4': 240, 'P_Iran_5_14': 3984, 'P_Iran_15_24': 6283, 'P_Iran_25_44': 37259, 'P_Iran_45_54': 9820, 'P_Iran_55_64': 6729, 'P_Iran_65_74': 4222, 'P_Iran_75_84': 1769, 'P_Iran_85ov': 586, 'P_Iran_Tot': 70899, 'P_Iraq_0_4': 326, 'P_Iraq_5_14': 8162, 'P_Iraq_15_24': 11264, 'P_Iraq_25_44': 34962, 'P_Iraq_45_54': 16142, 'P_Iraq_55_64': 11979, 'P_Iraq_65_74': 6499, 'P_Iraq_75_84': 2756, 'P_Iraq_85ov': 838, 'P_Iraq_Tot': 92922, 'P_Ireland_0_4': 263, 'P_Ireland_5_14': 3625, 'P_Ireland_15_24': 3604, 'P_Ireland_25_44': 35143, 'P_Ireland_45_54': 11279, 'P_Ireland_55_64': 9628, 'P_Ireland_65_74': 8851, 'P_Ireland_75_84': 6145, 'P_Ireland_85ov': 2390, 'P_Ireland_Tot': 80927, 'P_Italy_0_4': 156, 'P_Italy_5_14': 1329, 'P_Italy_15_24': 2267, 'P_Italy_25_44': 18727, 'P_Italy_45_54': 8373, 'P_Italy_55_64': 20939, 'P_Italy_65_74': 43109, 'P_Italy_75_84': 42025, 'P_Italy_85ov': 26388, 'P_Italy_Tot': 163326, 'P_Japan_0_4': 591, 'P_Japan_5_14': 2884, 'P_Japan_15_24': 4002, 'P_Japan_25_44': 18767, 'P_Japan_45_54': 10695, 'P_Japan_55_64': 4524, 'P_Japan_65_74': 2516, 'P_Japan_75_84': 906, 'P_Japan_85ov': 374, 'P_Japan_Tot': 45267, 'P_Korea_South_0_4': 565, 'P_Korea_South_5_14': 4447, 'P_Korea_South_15_24': 9046, 'P_Korea_South_25_44': 51549, 'P_Korea_South_45_54': 18385, 'P_Korea_South_55_64': 10032, 'P_Korea_South_65_74': 5024, 'P_Korea_South_75_84': 2400, 'P_Korea_South_85ov': 651, 'P_Korea_South_Tot': 102092, 'P_Lebanon_0_4': 423, 'P_Lebanon_5_14': 1673, 'P_Lebanon_15_24': 2905, 'P_Lebanon_25_44': 21044, 'P_Lebanon_45_54': 18111, 'P_Lebanon_55_64': 19937, 'P_Lebanon_65_74': 14478, 'P_Lebanon_75_84': 6869, 'P_Lebanon_85ov': 1904, 'P_Lebanon_Tot': 87340, 'P_Malaysia_0_4': 793, 'P_Malaysia_5_14': 7053, 'P_Malaysia_15_24': 17135, 'P_Malaysia_25_44': 65508, 'P_Malaysia_45_54': 23979, 'P_Malaysia_55_64': 21930, 'P_Malaysia_65_74': 19804, 'P_Malaysia_75_84': 7642, 'P_Malaysia_85ov': 1770, 'P_Malaysia_Tot': 165616, 'P_Malta_0_4': 14, 'P_Malta_5_14': 81, 'P_Malta_15_24': 190, 'P_Malta_25_44': 1158, 'P_Malta_45_54': 1483, 'P_Malta_55_64': 5357, 'P_Malta_65_74': 13930, 'P_Malta_75_84': 10068, 'P_Malta_85ov': 3141, 'P_Malta_Tot': 35413, 'P_Mauritius_0_4': 24, 'P_Mauritius_5_14': 376, 'P_Mauritius_15_24': 1707, 'P_Mauritius_25_44': 8854, 'P_Mauritius_45_54': 3219, 'P_Mauritius_55_64': 4867, 'P_Mauritius_65_74': 4117, 'P_Mauritius_75_84': 1990, 'P_Mauritius_85ov': 831, 'P_Mauritius_Tot': 25981, 'P_Myanmar_0_4': 77, 'P_Myanmar_5_14': 1057, 'P_Myanmar_15_24': 4372, 'P_Myanmar_25_44': 17519, 'P_Myanmar_45_54': 6302, 'P_Myanmar_55_64': 4512, 'P_Myanmar_65_74': 3284, 'P_Myanmar_75_84': 1418, 'P_Myanmar_85ov': 628, 'P_Myanmar_Tot': 39171, 'P_Nepal_0_4': 284, 'P_Nepal_5_14': 2528, 'P_Nepal_15_24': 31008, 'P_Nepal_25_44': 82591, 'P_Nepal_45_54': 3831, 'P_Nepal_55_64': 1462, 'P_Nepal_65_74': 650, 'P_Nepal_75_84': 131, 'P_Nepal_85ov': 16, 'P_Nepal_Tot': 122506, 'P_Netherlands_0_4': 177, 'P_Netherlands_5_14': 1056, 'P_Netherlands_15_24': 1648, 'P_Netherlands_25_44': 7136, 'P_Netherlands_45_54': 5764, 'P_Netherlands_55_64': 7597, 'P_Netherlands_65_74': 20908, 'P_Netherlands_75_84': 16086, 'P_Netherlands_85ov': 6105, 'P_Netherlands_Tot': 66481, 'P_New_Zealand_0_4': 3797, 'P_New_Zealand_5_14': 31331, 'P_New_Zealand_15_24': 53472, 'P_New_Zealand_25_44': 169380, 'P_New_Zealand_45_54': 97071, 'P_New_Zealand_55_64': 88279, 'P_New_Zealand_65_74': 58826, 'P_New_Zealand_75_84': 23032, 'P_New_Zealand_85ov': 5304, 'P_New_Zealand_Tot': 530492, 'P_North_Macedonia_0_4': 29, 'P_North_Macedonia_5_14': 253, 'P_North_Macedonia_15_24': 628, 'P_North_Macedonia_25_44': 6873, 'P_North_Macedonia_45_54': 6139, 'P_North_Macedonia_55_64': 9336, 'P_North_Macedonia_65_74': 11243, 'P_North_Macedonia_75_84': 5502, 'P_North_Macedonia_85ov': 1794, 'P_North_Macedonia_Tot': 41786, 'P_Pakistan_0_4': 1339, 'P_Pakistan_5_14': 10249, 'P_Pakistan_15_24': 11196, 'P_Pakistan_25_44': 51512, 'P_Pakistan_45_54': 8195, 'P_Pakistan_55_64': 4262, 'P_Pakistan_65_74': 2207, 'P_Pakistan_75_84': 544, 'P_Pakistan_85ov': 125, 'P_Pakistan_Tot': 89633, 'P_PNG_0_4': 86, 'P_PNG_5_14': 1056, 'P_PNG_15_24': 2686, 'P_PNG_25_44': 7084, 'P_PNG_45_54': 9073, 'P_PNG_55_64': 5854, 'P_PNG_65_74': 3005, 'P_PNG_75_84': 825, 'P_PNG_85ov': 311, 'P_PNG_Tot': 29984, 'P_Philippines_0_4': 1493, 'P_Philippines_5_14': 16816, 'P_Philippines_15_24': 30705, 'P_Philippines_25_44': 123444, 'P_Philippines_45_54': 51342, 'P_Philippines_55_64': 38898, 'P_Philippines_65_74': 23800, 'P_Philippines_75_84': 5954, 'P_Philippines_85ov': 1435, 'P_Philippines_Tot': 293892, 'P_Poland_0_4': 59, 'P_Poland_5_14': 445, 'P_Poland_15_24': 652, 'P_Poland_25_44': 11569, 'P_Poland_45_54': 5970, 'P_Poland_55_64': 7814, 'P_Poland_65_74': 11377, 'P_Poland_75_84': 4662, 'P_Poland_85ov': 3335, 'P_Poland_Tot': 45884, 'P_Samoa_0_4': 78, 'P_Samoa_5_14': 1342, 'P_Samoa_15_24': 2852, 'P_Samoa_25_44': 8350, 'P_Samoa_45_54': 5932, 'P_Samoa_55_64': 5548, 'P_Samoa_65_74': 2951, 'P_Samoa_75_84': 912, 'P_Samoa_85ov': 145, 'P_Samoa_Tot': 28107, 'P_Scotland_0_4': 199, 'P_Scotland_5_14': 2551, 'P_Scotland_15_24': 4696, 'P_Scotland_25_44': 19009, 'P_Scotland_45_54': 16799, 'P_Scotland_55_64': 25460, 'P_Scotland_65_74': 25713, 'P_Scotland_75_84': 17937, 'P_Scotland_85ov': 6125, 'P_Scotland_Tot': 118496, 'P_Singapore_0_4': 750, 'P_Singapore_5_14': 6044, 'P_Singapore_15_24': 7924, 'P_Singapore_25_44': 19412, 'P_Singapore_45_54': 9593, 'P_Singapore_55_64': 7980, 'P_Singapore_65_74': 6630, 'P_Singapore_75_84': 2168, 'P_Singapore_85ov': 561, 'P_Singapore_Tot': 61056, 'P_South_Africa_0_4': 1059, 'P_South_Africa_5_14': 10760, 'P_South_Africa_15_24': 20334, 'P_South_Africa_25_44': 61441, 'P_South_Africa_45_54': 40265, 'P_South_Africa_55_64': 27128, 'P_South_Africa_65_74': 17796, 'P_South_Africa_75_84': 8131, 'P_South_Africa_85ov': 2297, 'P_South_Africa_Tot': 189207, 'P_Sri_Lanka_0_4': 604, 'P_Sri_Lanka_5_14': 5585, 'P_Sri_Lanka_15_24': 11067, 'P_Sri_Lanka_25_44': 55190, 'P_Sri_Lanka_45_54': 21173, 'P_Sri_Lanka_55_64': 17521, 'P_Sri_Lanka_65_74': 12862, 'P_Sri_Lanka_75_84': 5913, 'P_Sri_Lanka_85ov': 1992, 'P_Sri_Lanka_Tot': 131904, 'P_Taiwan_0_4': 476, 'P_Taiwan_5_14': 1862, 'P_Taiwan_15_24': 3014, 'P_Taiwan_25_44': 30873, 'P_Taiwan_45_54': 5198, 'P_Taiwan_55_64': 3595, 'P_Taiwan_65_74': 3601, 'P_Taiwan_75_84': 769, 'P_Taiwan_85ov': 121, 'P_Taiwan_Tot': 49511, 'P_Thailand_0_4': 706, 'P_Thailand_5_14': 6098, 'P_Thailand_15_24': 10270, 'P_Thailand_25_44': 43902, 'P_Thailand_45_54': 13014, 'P_Thailand_55_64': 6263, 'P_Thailand_65_74': 2808, 'P_Thailand_75_84': 595, 'P_Thailand_85ov': 116, 'P_Thailand_Tot': 83779, 'P_Turkey_0_4': 180, 'P_Turkey_5_14': 975, 'P_Turkey_15_24': 1141, 'P_Turkey_25_44': 10916, 'P_Turkey_45_54': 9056, 'P_Turkey_55_64': 8376, 'P_Turkey_65_74': 4631, 'P_Turkey_75_84': 2732, 'P_Turkey_85ov': 565, 'P_Turkey_Tot': 38568, 'P_USA_0_4': 2699, 'P_USA_5_14': 10669, 'P_USA_15_24': 11403, 'P_USA_25_44': 34600, 'P_USA_45_54': 13936, 'P_USA_55_64': 12566, 'P_USA_65_74': 10511, 'P_USA_75_84': 4122, 'P_USA_85ov': 798, 'P_USA_Tot': 101309, 'P_Vietnam_0_4': 919, 'P_Vietnam_5_14': 7196, 'P_Vietnam_15_24': 19709, 'P_Vietnam_25_44': 83513, 'P_Vietnam_45_54': 55467, 'P_Vietnam_55_64': 50109, 'P_Vietnam_65_74': 28938, 'P_Vietnam_75_84': 8473, 'P_Vietnam_85ov': 3672, 'P_Vietnam_Tot': 257997, 'P_Wales_0_4': 57, 'P_Wales_5_14': 750, 'P_Wales_15_24': 1453, 'P_Wales_25_44': 6144, 'P_Wales_45_54': 4971, 'P_Wales_55_64': 5851, 'P_Wales_65_74': 5215, 'P_Wales_75_84': 3590, 'P_Wales_85ov': 1222, 'P_Wales_Tot': 29250, 'P_Zimbabwe_0_4': 102, 'P_Zimbabwe_5_14': 1093, 'P_Zimbabwe_15_24': 4327, 'P_Zimbabwe_25_44': 14685, 'P_Zimbabwe_45_54': 8525, 'P_Zimbabwe_55_64': 6479, 'P_Zimbabwe_65_74': 3344, 'P_Zimbabwe_75_84': 938, 'P_Zimbabwe_85ov': 223, 'P_Zimbabwe_Tot': 39714, 'P_Elsewhere_0_4': 5221, 'P_Elsewhere_5_14': 39436, 'P_Elsewhere_15_24': 59144, 'P_Elsewhere_25_44': 271238, 'P_Elsewhere_45_54': 114021, 'P_Elsewhere_55_64': 102923, 'P_Elsewhere_65_74': 87171, 'P_Elsewhere_75_84': 57073, 'P_Elsewhere_85ov': 22942, 'P_Elsewhere_Tot': 759173, 'P_COB_NS_0_4': 61345, 'P_COB_NS_5_14': 145841, 'P_COB_NS_15_24': 150994, 'P_COB_NS_25_44': 394515, 'P_COB_NS_45_54': 168253, 'P_COB_NS_55_64': 157912, 'P_COB_NS_65_74': 134407, 'P_COB_NS_75_84': 94757, 'P_COB_NS_85ov': 50649, 'P_COB_NS_Tot': 1358658, 'P_Tot_0_4': 1463817, 'P_Tot_5_14': 3174191, 'P_Tot_15_24': 3037348, 'P_Tot_25_44': 7112427, 'P_Tot_45_54': 3246908, 'P_Tot_55_64': 3010014, 'P_Tot_65_74': 2459233, 'P_Tot_75_84': 1376519, 'P_Tot_85ov': 542342, 'P_Tot_Tot': 25422788}\n",
      "\n",
      "\n",
      "{'P_Australia_0_4': 1362761, 'P_Australia_5_14': 2711665, 'P_Australia_15_24': 2304028, 'P_Australia_25_44': 4157739, 'P_Australia_45_54': 2044555, 'P_Australia_55_64': 1861530, 'P_Australia_65_74': 1488499, 'P_Australia_75_84': 785817, 'P_Australia_85ov': 303836, 'P_Australia_Tot': 17020422}\n"
     ]
    }
   ],
   "source": [
    "G13_Total,G13_AusPop = clean_dictionary(G13)\n",
    "\n",
    "print(G13_Total)\n",
    "print(\"\\n\")\n",
    "print(G13_AusPop)"
   ]
  },
  {
   "cell_type": "code",
   "execution_count": 239,
   "metadata": {
    "collapsed": false
   },
   "outputs": [],
   "source": [
    "def dictionary_by_country(dct):\n",
    "    \"\"\"\n",
    "    Splits G09 by country. Returns dictionary containing dictionaries of countries for each age group\n",
    "    \"\"\"\n",
    "    tmp_dct = {}\n",
    "\n",
    "    start = 0        # first index\n",
    "    stop = 10        # each country has 10 entries\n",
    "\n",
    "    dct_lst = list(dct.items())\n",
    "\n",
    "    while stop <= len(dct):\n",
    "        country_dct = {}\n",
    "        country_name = dct_lst[start][0].replace(\"_0_4\",'').replace(\"P_\",'')\n",
    "\n",
    "        # Create the associated age groups\n",
    "        for i in range(start, stop):\n",
    "            key = dct_lst[i][0].replace(country_name,'').replace(\"P__\",'').replace(\"_\",'-')\n",
    "            value = int(dct_lst[i][1])\n",
    "            country_dct[key] = value\n",
    "\n",
    "        #create the country Name\n",
    "        tmp_dct[country_name] = country_dct\"\n",
    "\n",
    "        start += 10\n",
    "        stop += 10\n",
    "    return tmp_dct\n"
   ]
  },
  {
   "cell_type": "code",
   "execution_count": 240,
   "metadata": {
    "collapsed": false
   },
   "outputs": [
    {
     "name": "stdout",
     "output_type": "stream",
     "text": [
      "['Afghanistan', 'Bangladesh', 'Bosnia_Herzegov', 'Brazil', 'Cambodia', 'Canada', 'Chile', 'China', 'Croatia', 'Egypt', 'England', 'Fiji', 'France', 'Germany', 'Greece', 'Hong_Kong_SAR_Ch', 'India', 'Indonesia', 'Iran', 'Iraq', 'Ireland', 'Italy', 'Japan', 'Korea_South', 'Lebanon', 'Malaysia', 'Malta', 'Mauritius', 'Myanmar', 'Nepal', 'Netherlands', 'New_Zealand', 'North_Macedonia', 'Pakistan', 'PNG', 'Philippines', 'Poland', 'Samoa', 'Scotland', 'Singapore', 'South_Africa', 'Sri_Lanka', 'Taiwan', 'Thailand', 'Turkey', 'USA', 'Vietnam', 'Wales', 'Zimbabwe', 'Elsewhere', 'COB_NS', 'Tot']\n",
      "{'Afghanistan': {'0-4': 322, '5-14': 3896, '15-24': 9223, '25-44': 30560, '45-54': 8467, '55-64': 4585, '65-74': 2012, '75-84': 602, '85ov': 135, 'Tot': 59797}, 'Bangladesh': {'0-4': 333, '5-14': 2982, '15-24': 4281, '25-44': 31695, '45-54': 6876, '55-64': 3482, '65-74': 1560, '75-84': 254, '85ov': 33, 'Tot': 51491}, 'Bosnia_Herzegov': {'0-4': 17, '5-14': 123, '15-24': 400, '25-44': 8709, '45-54': 4340, '55-64': 6289, '65-74': 3815, '75-84': 1952, '85ov': 522, 'Tot': 26171}, 'Brazil': {'0-4': 207, '5-14': 1496, '15-24': 2882, '25-44': 35170, '45-54': 4136, '55-64': 1712, '65-74': 765, '75-84': 287, '85ov': 69, 'Tot': 46720}, 'Cambodia': {'0-4': 181, '5-14': 1091, '15-24': 2921, '25-44': 13229, '45-54': 7942, '55-64': 6785, '65-74': 4665, '75-84': 1671, '85ov': 556, 'Tot': 39043}, 'Canada': {'0-4': 727, '5-14': 2944, '15-24': 3415, '25-44': 20124, '45-54': 9061, '55-64': 7045, '65-74': 4601, '75-84': 1855, '85ov': 451, 'Tot': 50223}, 'Chile': {'0-4': 105, '5-14': 528, '15-24': 846, '25-44': 9410, '45-54': 5608, '55-64': 5146, '65-74': 4838, '75-84': 2885, '85ov': 496, 'Tot': 29860}, 'China': {'0-4': 1875, '5-14': 20206, '15-24': 56384, '25-44': 243970, '45-54': 74649, '55-64': 76298, '65-74': 48562, '75-84': 18472, '85ov': 9196, 'Tot': 549618}, 'Croatia': {'0-4': 14, '5-14': 146, '15-24': 245, '25-44': 5102, '45-54': 4225, '55-64': 8867, '65-74': 10842, '75-84': 10215, '85ov': 3652, 'Tot': 43302}, 'Egypt': {'0-4': 279, '5-14': 2799, '15-24': 3073, '25-44': 10951, '45-54': 4148, '55-64': 6220, '65-74': 8097, '75-84': 5533, '85ov': 2119, 'Tot': 43213}, 'England': {'0-4': 3057, '5-14': 30418, '15-24': 50526, '25-44': 163957, '45-54': 144491, '55-64': 196480, '65-74': 170659, '75-84': 124330, '85ov': 43567, 'Tot': 927490}, 'Fiji': {'0-4': 110, '5-14': 1307, '15-24': 3611, '25-44': 24683, '45-54': 14288, '55-64': 13120, '65-74': 7787, '75-84': 3265, '85ov': 774, 'Tot': 68947}, 'France': {'0-4': 242, '5-14': 1510, '15-24': 2289, '25-44': 17282, '45-54': 5096, '55-64': 4109, '65-74': 3083, '75-84': 1689, '85ov': 711, 'Tot': 36019}, 'Germany': {'0-4': 340, '5-14': 1523, '15-24': 3222, '25-44': 19380, '45-54': 11341, '55-64': 12992, '65-74': 25494, '75-84': 19779, '85ov': 7191, 'Tot': 101255}, 'Greece': {'0-4': 80, '5-14': 944, '15-24': 1857, '25-44': 4963, '45-54': 4934, '55-64': 12371, '65-74': 22597, '75-84': 30866, '85ov': 13699, 'Tot': 92314}, 'Hong_Kong_SAR_Ch': {'0-4': 902, '5-14': 5773, '15-24': 10069, '25-44': 36190, '45-54': 12546, '55-64': 17143, '65-74': 13686, '75-84': 2884, '85ov': 950, 'Tot': 100148}, 'India': {'0-4': 6597, '5-14': 43134, '15-24': 64295, '25-44': 415298, '45-54': 65098, '55-64': 36640, '65-74': 25804, '75-84': 12394, '85ov': 4097, 'Tot': 673352}, 'Indonesia': {'0-4': 540, '5-14': 3110, '15-24': 10714, '25-44': 40151, '45-54': 13752, '55-64': 7533, '65-74': 7421, '75-84': 2922, '85ov': 928, 'Tot': 87075}, 'Iran': {'0-4': 240, '5-14': 3984, '15-24': 6283, '25-44': 37259, '45-54': 9820, '55-64': 6729, '65-74': 4222, '75-84': 1769, '85ov': 586, 'Tot': 70899}, 'Iraq': {'0-4': 326, '5-14': 8162, '15-24': 11264, '25-44': 34962, '45-54': 16142, '55-64': 11979, '65-74': 6499, '75-84': 2756, '85ov': 838, 'Tot': 92922}, 'Ireland': {'0-4': 263, '5-14': 3625, '15-24': 3604, '25-44': 35143, '45-54': 11279, '55-64': 9628, '65-74': 8851, '75-84': 6145, '85ov': 2390, 'Tot': 80927}, 'Italy': {'0-4': 156, '5-14': 1329, '15-24': 2267, '25-44': 18727, '45-54': 8373, '55-64': 20939, '65-74': 43109, '75-84': 42025, '85ov': 26388, 'Tot': 163326}, 'Japan': {'0-4': 591, '5-14': 2884, '15-24': 4002, '25-44': 18767, '45-54': 10695, '55-64': 4524, '65-74': 2516, '75-84': 906, '85ov': 374, 'Tot': 45267}, 'Korea_South': {'0-4': 565, '5-14': 4447, '15-24': 9046, '25-44': 51549, '45-54': 18385, '55-64': 10032, '65-74': 5024, '75-84': 2400, '85ov': 651, 'Tot': 102092}, 'Lebanon': {'0-4': 423, '5-14': 1673, '15-24': 2905, '25-44': 21044, '45-54': 18111, '55-64': 19937, '65-74': 14478, '75-84': 6869, '85ov': 1904, 'Tot': 87340}, 'Malaysia': {'0-4': 793, '5-14': 7053, '15-24': 17135, '25-44': 65508, '45-54': 23979, '55-64': 21930, '65-74': 19804, '75-84': 7642, '85ov': 1770, 'Tot': 165616}, 'Malta': {'0-4': 14, '5-14': 81, '15-24': 190, '25-44': 1158, '45-54': 1483, '55-64': 5357, '65-74': 13930, '75-84': 10068, '85ov': 3141, 'Tot': 35413}, 'Mauritius': {'0-4': 24, '5-14': 376, '15-24': 1707, '25-44': 8854, '45-54': 3219, '55-64': 4867, '65-74': 4117, '75-84': 1990, '85ov': 831, 'Tot': 25981}, 'Myanmar': {'0-4': 77, '5-14': 1057, '15-24': 4372, '25-44': 17519, '45-54': 6302, '55-64': 4512, '65-74': 3284, '75-84': 1418, '85ov': 628, 'Tot': 39171}, 'Nepal': {'0-4': 284, '5-14': 2528, '15-24': 31008, '25-44': 82591, '45-54': 3831, '55-64': 1462, '65-74': 650, '75-84': 131, '85ov': 16, 'Tot': 122506}, 'Netherlands': {'0-4': 177, '5-14': 1056, '15-24': 1648, '25-44': 7136, '45-54': 5764, '55-64': 7597, '65-74': 20908, '75-84': 16086, '85ov': 6105, 'Tot': 66481}, 'New_Zealand': {'0-4': 3797, '5-14': 31331, '15-24': 53472, '25-44': 169380, '45-54': 97071, '55-64': 88279, '65-74': 58826, '75-84': 23032, '85ov': 5304, 'Tot': 530492}, 'North_Macedonia': {'0-4': 29, '5-14': 253, '15-24': 628, '25-44': 6873, '45-54': 6139, '55-64': 9336, '65-74': 11243, '75-84': 5502, '85ov': 1794, 'Tot': 41786}, 'Pakistan': {'0-4': 1339, '5-14': 10249, '15-24': 11196, '25-44': 51512, '45-54': 8195, '55-64': 4262, '65-74': 2207, '75-84': 544, '85ov': 125, 'Tot': 89633}, 'PNG': {'0-4': 86, '5-14': 1056, '15-24': 2686, '25-44': 7084, '45-54': 9073, '55-64': 5854, '65-74': 3005, '75-84': 825, '85ov': 311, 'Tot': 29984}, 'Philippines': {'0-4': 1493, '5-14': 16816, '15-24': 30705, '25-44': 123444, '45-54': 51342, '55-64': 38898, '65-74': 23800, '75-84': 5954, '85ov': 1435, 'Tot': 293892}, 'Poland': {'0-4': 59, '5-14': 445, '15-24': 652, '25-44': 11569, '45-54': 5970, '55-64': 7814, '65-74': 11377, '75-84': 4662, '85ov': 3335, 'Tot': 45884}, 'Samoa': {'0-4': 78, '5-14': 1342, '15-24': 2852, '25-44': 8350, '45-54': 5932, '55-64': 5548, '65-74': 2951, '75-84': 912, '85ov': 145, 'Tot': 28107}, 'Scotland': {'0-4': 199, '5-14': 2551, '15-24': 4696, '25-44': 19009, '45-54': 16799, '55-64': 25460, '65-74': 25713, '75-84': 17937, '85ov': 6125, 'Tot': 118496}, 'Singapore': {'0-4': 750, '5-14': 6044, '15-24': 7924, '25-44': 19412, '45-54': 9593, '55-64': 7980, '65-74': 6630, '75-84': 2168, '85ov': 561, 'Tot': 61056}, 'South_Africa': {'0-4': 1059, '5-14': 10760, '15-24': 20334, '25-44': 61441, '45-54': 40265, '55-64': 27128, '65-74': 17796, '75-84': 8131, '85ov': 2297, 'Tot': 189207}, 'Sri_Lanka': {'0-4': 604, '5-14': 5585, '15-24': 11067, '25-44': 55190, '45-54': 21173, '55-64': 17521, '65-74': 12862, '75-84': 5913, '85ov': 1992, 'Tot': 131904}, 'Taiwan': {'0-4': 476, '5-14': 1862, '15-24': 3014, '25-44': 30873, '45-54': 5198, '55-64': 3595, '65-74': 3601, '75-84': 769, '85ov': 121, 'Tot': 49511}, 'Thailand': {'0-4': 706, '5-14': 6098, '15-24': 10270, '25-44': 43902, '45-54': 13014, '55-64': 6263, '65-74': 2808, '75-84': 595, '85ov': 116, 'Tot': 83779}, 'Turkey': {'0-4': 180, '5-14': 975, '15-24': 1141, '25-44': 10916, '45-54': 9056, '55-64': 8376, '65-74': 4631, '75-84': 2732, '85ov': 565, 'Tot': 38568}, 'USA': {'0-4': 2699, '5-14': 10669, '15-24': 11403, '25-44': 34600, '45-54': 13936, '55-64': 12566, '65-74': 10511, '75-84': 4122, '85ov': 798, 'Tot': 101309}, 'Vietnam': {'0-4': 919, '5-14': 7196, '15-24': 19709, '25-44': 83513, '45-54': 55467, '55-64': 50109, '65-74': 28938, '75-84': 8473, '85ov': 3672, 'Tot': 257997}, 'Wales': {'0-4': 57, '5-14': 750, '15-24': 1453, '25-44': 6144, '45-54': 4971, '55-64': 5851, '65-74': 5215, '75-84': 3590, '85ov': 1222, 'Tot': 29250}, 'Zimbabwe': {'0-4': 102, '5-14': 1093, '15-24': 4327, '25-44': 14685, '45-54': 8525, '55-64': 6479, '65-74': 3344, '75-84': 938, '85ov': 223, 'Tot': 39714}, 'Elsewhere': {'0-4': 5221, '5-14': 39436, '15-24': 59144, '25-44': 271238, '45-54': 114021, '55-64': 102923, '65-74': 87171, '75-84': 57073, '85ov': 22942, 'Tot': 759173}, 'COB_NS': {'0-4': 61345, '5-14': 145841, '15-24': 150994, '25-44': 394515, '45-54': 168253, '55-64': 157912, '65-74': 134407, '75-84': 94757, '85ov': 50649, 'Tot': 1358658}, 'Tot': {'0-4': 1463817, '5-14': 3174191, '15-24': 3037348, '25-44': 7112427, '45-54': 3246908, '55-64': 3010014, '65-74': 2459233, '75-84': 1376519, '85ov': 542342, '': 25422788}}\n"
     ]
    }
   ],
   "source": [
    "G13_Complete = (dictionary_by_country(G13_Total))\n",
    "print(list(G13_Complete))\n",
    "print(G13_Complete)"
   ]
  },
  {
   "cell_type": "code",
   "execution_count": 241,
   "metadata": {
    "collapsed": false
   },
   "outputs": [
    {
     "name": "stdout",
     "output_type": "stream",
     "text": [
      "Age Group            Mean                 Minimum Group   Minimum              Total          \n",
      "------------------------------------------------------------------------------------------------------------\n",
      "Afghanistan          11959.9              85ov            135                  59797          \n",
      "Bangladesh           10298.7              85ov            33                   51491          \n",
      "Bosnia_Herzegov      5233.8               0-4             17                   26171          \n",
      "Brazil               9344.4               85ov            69                   46720          \n",
      "Cambodia             7808.4               0-4             181                  39043          \n",
      "Canada               10044.6              85ov            451                  50223          \n",
      "Chile                5972.2               0-4             105                  29860          \n",
      "China                109923.0             0-4             1875                 549618         \n",
      "Croatia              8661.0               0-4             14                   43302          \n",
      "Egypt                8643.2               0-4             279                  43213          \n",
      "England              185497.5             0-4             3057                 927490         \n",
      "Fiji                 13789.2              0-4             110                  68947          \n",
      "France               7203.0               0-4             242                  36019          \n",
      "Germany              20251.7              0-4             340                  101255         \n",
      "Greece               18462.5              0-4             80                   92314          \n",
      "Hong_Kong_SAR_Ch     20029.1              0-4             902                  100148         \n",
      "India                134670.9             85ov            4097                 673352         \n",
      "Indonesia            17414.6              0-4             540                  87075          \n",
      "Iran                 14179.1              0-4             240                  70899          \n",
      "Iraq                 18585.0              0-4             326                  92922          \n",
      "Ireland              16185.5              0-4             263                  80927          \n",
      "Italy                32663.9              0-4             156                  163326         \n",
      "Japan                9052.6               85ov            374                  45267          \n",
      "Korea_South          20419.1              0-4             565                  102092         \n",
      "Lebanon              17468.4              0-4             423                  87340          \n",
      "Malaysia             33123.0              0-4             793                  165616         \n",
      "Malta                7083.5               0-4             14                   35413          \n",
      "Mauritius            5196.6               0-4             24                   25981          \n",
      "Myanmar              7834.0               0-4             77                   39171          \n",
      "Nepal                24500.7              85ov            16                   122506         \n",
      "Netherlands          13295.8              0-4             177                  66481          \n",
      "New_Zealand          106098.4             0-4             3797                 530492         \n",
      "North_Macedonia      8358.3               0-4             29                   41786          \n",
      "Pakistan             17926.2              85ov            125                  89633          \n",
      "PNG                  5996.4               0-4             86                   29984          \n",
      "Philippines          58777.9              85ov            1435                 293892         \n",
      "Poland               9176.7               0-4             59                   45884          \n",
      "Samoa                5621.7               0-4             78                   28107          \n",
      "Scotland             23698.5              0-4             199                  118496         \n",
      "Singapore            12211.8              85ov            561                  61056          \n",
      "South_Africa         37841.8              0-4             1059                 189207         \n",
      "Sri_Lanka            26381.1              0-4             604                  131904         \n",
      "Taiwan               9902.0               85ov            121                  49511          \n",
      "Thailand             16755.1              85ov            116                  83779          \n",
      "Turkey               7714.0               0-4             180                  38568          \n",
      "USA                  20261.3              85ov            798                  101309         \n",
      "Vietnam              51599.3              0-4             919                  257997         \n",
      "Wales                5850.3               0-4             57                   29250          \n",
      "Zimbabwe             7943.0               0-4             102                  39714          \n",
      "Elsewhere            151834.2             0-4             5221                 759173         \n",
      "COB_NS               271733.1             85ov            50649                1358658        \n",
      "Tot                  5084558.7            85ov            542342               25422788       \n"
     ]
    }
   ],
   "source": [
    "def find_summary_statistics(dct, subset_name, column_name):\n",
    "    \"\"\"\n",
    "    Finds minimum and maximum values with their corresponding key. Finds mean and prints everything formatted.\n",
    "    subset_name: The name printed to the table of what the dictionary is subsetted by\n",
    "    column_name: The name printed to the table of what columns of each dictionary are\n",
    "    \"\"\"\n",
    "    print(\"{:<20} {:<20} {:<15} {:<20} {:<15}\".format(subset_name, \"Mean\" , \"Minimum Group\", \"Minimum\", \"Total\"))\n",
    "    print(\"------------------------------------------------------------------------------------------------------------\")\n",
    "\n",
    "    for item in list(dct.items()):\n",
    "        item_name = item[0]\n",
    "\n",
    "        Total_key = max(item[1].keys(), key=lambda value: item[1][value])\n",
    "        Total = item[1][Total_key]\n",
    "\n",
    "        min_key = min(item[1].keys(), key=lambda value: item[1][value])\n",
    "        min_value = item[1][min_key]\n",
    "\n",
    "        mean = round(np.average(list(item[1].values())),2)\n",
    "\n",
    "        print(\"{:<20} {:<20} {:<15} {:<20} {:<15}\".format(item_name, mean, min_key, min_value, Total))\n",
    "\n",
    "    return None\n",
    "\n",
    "find_summary_statistics(G13_Complete,\"Age Group\",'Country')"
   ]
  },
  {
   "cell_type": "code",
   "execution_count": 250,
   "metadata": {
    "collapsed": false
   },
   "outputs": [
    {
     "ename": "TypeError",
     "evalue": "unhashable type: 'dict'",
     "output_type": "error",
     "traceback": [
      "\u001b[0;31m---------------------------------------------------------------------------\u001b[0m",
      "\u001b[0;31mTypeError\u001b[0m                                 Traceback (most recent call last)",
      "\u001b[0;32m/tmp/ipykernel_431/2647336392.py\u001b[0m in \u001b[0;36m<cell line: 4>\u001b[0;34m()\u001b[0m\n\u001b[1;32m      2\u001b[0m     \u001b[0;32mreturn\u001b[0m \u001b[0mfrozenset\u001b[0m\u001b[0;34m(\u001b[0m\u001b[0md\u001b[0m\u001b[0;34m.\u001b[0m\u001b[0mkeys\u001b[0m\u001b[0;34m(\u001b[0m\u001b[0;34m)\u001b[0m\u001b[0;34m)\u001b[0m\u001b[0;34m,\u001b[0m \u001b[0mfrozenset\u001b[0m\u001b[0;34m(\u001b[0m\u001b[0md\u001b[0m\u001b[0;34m.\u001b[0m\u001b[0mvalues\u001b[0m\u001b[0;34m(\u001b[0m\u001b[0;34m)\u001b[0m\u001b[0;34m)\u001b[0m\u001b[0;34m\u001b[0m\u001b[0;34m\u001b[0m\u001b[0m\n\u001b[1;32m      3\u001b[0m \u001b[0;34m\u001b[0m\u001b[0m\n\u001b[0;32m----> 4\u001b[0;31m \u001b[0mG09_Graph\u001b[0m \u001b[0;34m=\u001b[0m \u001b[0mfrozendict\u001b[0m\u001b[0;34m(\u001b[0m\u001b[0mG13_Complete\u001b[0m\u001b[0;34m)\u001b[0m\u001b[0;34m\u001b[0m\u001b[0;34m\u001b[0m\u001b[0m\n\u001b[0m",
      "\u001b[0;32m/tmp/ipykernel_431/2647336392.py\u001b[0m in \u001b[0;36mfrozendict\u001b[0;34m(d)\u001b[0m\n\u001b[1;32m      1\u001b[0m \u001b[0;32mdef\u001b[0m \u001b[0mfrozendict\u001b[0m\u001b[0;34m(\u001b[0m\u001b[0md\u001b[0m\u001b[0;34m:\u001b[0m \u001b[0mdict\u001b[0m\u001b[0;34m)\u001b[0m\u001b[0;34m:\u001b[0m\u001b[0;34m\u001b[0m\u001b[0;34m\u001b[0m\u001b[0m\n\u001b[0;32m----> 2\u001b[0;31m     \u001b[0;32mreturn\u001b[0m \u001b[0mfrozenset\u001b[0m\u001b[0;34m(\u001b[0m\u001b[0md\u001b[0m\u001b[0;34m.\u001b[0m\u001b[0mkeys\u001b[0m\u001b[0;34m(\u001b[0m\u001b[0;34m)\u001b[0m\u001b[0;34m)\u001b[0m\u001b[0;34m,\u001b[0m \u001b[0mfrozenset\u001b[0m\u001b[0;34m(\u001b[0m\u001b[0md\u001b[0m\u001b[0;34m.\u001b[0m\u001b[0mvalues\u001b[0m\u001b[0;34m(\u001b[0m\u001b[0;34m)\u001b[0m\u001b[0;34m)\u001b[0m\u001b[0;34m\u001b[0m\u001b[0;34m\u001b[0m\u001b[0m\n\u001b[0m\u001b[1;32m      3\u001b[0m \u001b[0;34m\u001b[0m\u001b[0m\n\u001b[1;32m      4\u001b[0m \u001b[0mG09_Graph\u001b[0m \u001b[0;34m=\u001b[0m \u001b[0mfrozendict\u001b[0m\u001b[0;34m(\u001b[0m\u001b[0mG13_Complete\u001b[0m\u001b[0;34m)\u001b[0m\u001b[0;34m\u001b[0m\u001b[0;34m\u001b[0m\u001b[0m\n",
      "\u001b[0;31mTypeError\u001b[0m: unhashable type: 'dict'"
     ]
    }
   ],
   "source": []
  }
 ],
 "metadata": {
  "kernelspec": {
   "display_name": "Python 3.10.6 ('venv': venv)",
   "language": "python",
   "name": "python3"
  },
  "language_info": {
   "codemirror_mode": {
    "name": "ipython",
    "version": 3
   },
   "file_extension": ".py",
   "mimetype": "text/x-python",
   "name": "python",
   "nbconvert_exporter": "python",
   "pygments_lexer": "ipython3",
   "version": "3.10.6"
  },
  "nbgrader": {
   "__altered": false,
   "__hash": -335098374,
   "_root": {
    "entries": [
     [
      "cocalc_minimal_stubs",
      false
     ]
    ],
    "ownerID": {}
   },
   "cocalc_minimal_stubs": false,
   "size": 1
  },
  "vscode": {
   "interpreter": {
    "hash": "d54c97a48544b052d059cf2f2b79a33ce3e4a02c3573ad5e49241979bddd619f"
   }
  }
 },
 "nbformat": 4,
 "nbformat_minor": 4
}
