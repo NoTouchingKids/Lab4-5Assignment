{
 "cells": [
  {
   "cell_type": "markdown",
   "metadata": {
    "collapsed": false
   },
   "source": [
    "<h3>Lab 4/5: Assignment</h3>\n",
    "\n",
    "# ALEXIAS FINDINGS \n",
    "### USA - Australia Comparison on Census Data\n",
    "\n",
    "---"
   ]
  },
  {
   "cell_type": "code",
   "execution_count": null,
   "metadata": {
    "collapsed": false
   },
   "outputs": [],
   "source": [
    "import re\n",
    "import numpy as np\n",
    "import matplotlib.pyplot as plt"
   ]
  },
  {
   "cell_type": "markdown",
   "metadata": {},
   "source": [
    "Read in all the appropriate files. \n",
    "Create a list for each Category, this list will hold all of the appropriate files, enabling us to iterate over these lists."
   ]
  },
  {
   "cell_type": "code",
   "execution_count": null,
   "metadata": {
    "collapsed": false
   },
   "outputs": [],
   "source": [
    "G09_FILES = [\"AUS census Data/2021Census_G09F_AUS_AUS.csv\",\n",
    "             \"AUS census Data/2021Census_G09G_AUS_AUS.csv\",\n",
    "             \"AUS census Data/2021Census_G09H_AUS_AUS.csv\"]\n",
    "\n",
    "G10_FILES = [\"AUS census Data/2021Census_G10A_AUS_AUS.csv\",\n",
    "             \"AUS census Data/2021Census_G10B_AUS_AUS.csv\",\n",
    "             \"AUS census Data/2021Census_G10C_AUS_AUS.csv\"]\n"
   ]
  },
  {
   "cell_type": "markdown",
   "metadata": {},
   "source": [
    "Lets use our functions to investigate the data structure, organisation and cleaning required.\n",
    "\n",
    "Print a temp sample of the first and last 10 cells for each data file"
   ]
  },
  {
   "cell_type": "code",
   "execution_count": null,
   "metadata": {
    "collapsed": false
   },
   "outputs": [],
   "source": [
    "def read_file(filename):\n",
    "    \"\"\"\n",
    "    Reads in a file, removing the first column of each row (\"AUS_CODE_2020\"). Returns a list containing a list of every row.\n",
    "    \"\"\"\n",
    "    with open(filename, 'r') as file:\n",
    "        contents = file.readlines()\n",
    "\n",
    "    for (index, value) in enumerate(contents):\n",
    "        contents[index] = value.strip(\"\\n\").split(\",\")[1:]\n",
    "    return contents\n",
    "    \n",
    "filename = \"AUS census Data/2021Census_G09H_AUS_AUS.csv\"\n",
    "a = read_file(filename)\n",
    "b = a[0]\n",
    "#print(b)\n"
   ]
  },
  {
   "cell_type": "code",
   "execution_count": null,
   "metadata": {
    "collapsed": false
   },
   "outputs": [],
   "source": [
    "def create_dictionary(keys, value, dictionary):\n",
    "    \"\"\"\n",
    "    Takes two lists (one of keys and the other of values) and adds to specified dictionary\n",
    "    \"\"\"\n",
    "    for (index, key) in enumerate(keys): # enumerate maintains a counter as a key for each value within an object, allowing easier access to items\n",
    "        dictionary[key] = value[index]\n",
    "    return dictionary\n"
   ]
  },
  {
   "cell_type": "code",
   "execution_count": null,
   "metadata": {
    "collapsed": false
   },
   "outputs": [],
   "source": [
    "G09 = {}\n",
    "G10 = {}\n",
    "\n",
    "for file in G09_FILES:\n",
    "    temp09 = read_file(file)\n",
    "    G09 = create_dictionary(temp09[0], temp09[1],G09)\n",
    "\n",
    "for file in G10_FILES:\n",
    "    temp10 = read_file(file)\n",
    "    G10 = create_dictionary(temp10[0], temp10[1], G10)\n"
   ]
  },
  {
   "cell_type": "markdown",
   "metadata": {},
   "source": [
    "Lets observe the data we are working with:"
   ]
  },
  {
   "cell_type": "code",
   "execution_count": null,
   "metadata": {
    "collapsed": false
   },
   "outputs": [],
   "source": [
    "print(\"Beginning of G09 headers: \", list(G09)[:20],'\\n,' \"\\nEnd of G09 headers: \", list(G09)[len(G09)-20:])\n",
    "print(\"Beginning of G10 headers: \", list(G10)[:20],'\\n,' \"\\nEnd of G10 headers: \", list(G10)[len(G10)-20:])"
   ]
  },
  {
   "cell_type": "code",
   "execution_count": null,
   "metadata": {
    "collapsed": false
   },
   "outputs": [],
   "source": [
    "def clean_dictionary(from_dictionary):\n",
    "    G09_Total = {}\n",
    "    G09_AusPop = {}\n",
    "    for (key,value) in from_dictionary.items():\n",
    "        if \"Australia\" in key:\n",
    "            G09_AusPop[key] = int(value)\n",
    "        elif key[0] == \"P\":\n",
    "            G09_Total[key] = int(value)\n",
    "    return G09_Total, G09_AusPop"
   ]
  },
  {
   "cell_type": "code",
   "execution_count": null,
   "metadata": {
    "collapsed": false
   },
   "outputs": [],
   "source": [
    "G09_Total,G09_AusPop = clean_dictionary(G09)\n",
    "\n",
    "print(G09_Total)\n",
    "print(\"\\n\")\n",
    "print(G09_AusPop)"
   ]
  },
  {
   "cell_type": "code",
   "execution_count": null,
   "metadata": {
    "collapsed": false
   },
   "outputs": [],
   "source": [
    "def dictionary_by_country(dct):\n",
    "    \"\"\"\n",
    "    Splits G09 by country. Returns dictionary containing dictionaries of countries for each age group\n",
    "    \"\"\"\n",
    "    tmp_dct = {}\n",
    "\n",
    "    start = 0        # first index\n",
    "    stop = 10        # each country has 10 entries\n",
    "\n",
    "    dct_lst = list(dct.items())\n",
    "\n",
    "    while stop <= len(dct):\n",
    "        country_dct = {}\n",
    "        country_name = dct_lst[start][0].replace(\"_0_4\",'').replace(\"P_\",'')\n",
    "\n",
    "        # Create the associated age groups\n",
    "        for i in range(start, stop):\n",
    "            key = dct_lst[i][0].replace(country_name,'').replace(\"P__\",'').replace(\"_\",'-')\n",
    "            value = int(dct_lst[i][1])\n",
    "            country_dct[key] = value\n",
    "\n",
    "        #create the country Name\n",
    "        tmp_dct[country_name] = country_dct\n",
    "\n",
    "        start += 10\n",
    "        stop += 10\n",
    "    return tmp_dct\n"
   ]
  },
  {
   "cell_type": "code",
   "execution_count": null,
   "metadata": {
    "collapsed": false
   },
   "outputs": [],
   "source": [
    "G09_Complete = (dictionary_by_country(G09_Total))\n",
    "print(list(G09_Complete))\n",
    "print(G09_Complete)"
   ]
  },
  {
   "cell_type": "code",
   "execution_count": null,
   "metadata": {
    "collapsed": false
   },
   "outputs": [],
   "source": [
    "def find_summary_statistics(dct, subset_name, column_name):\n",
    "    \"\"\"\n",
    "    Finds minimum and maximum values with their corresponding key. Finds mean and prints everything formatted.\n",
    "    subset_name: The name printed to the table of what the dictionary is subsetted by\n",
    "    column_name: The name printed to the table of what columns of each dictionary are\n",
    "    \"\"\"\n",
    "    print(\"{:<20} {:<20} {:<15} {:<20} {:<15}\".format(subset_name, \"Mean\" , \"Minimum Group\", \"Minimum\", \"Total\"))\n",
    "    print(\"------------------------------------------------------------------------------------------------------------\")\n",
    "\n",
    "    for item in list(dct.items()):\n",
    "        item_name = item[0]\n",
    "\n",
    "        Total_key = max(item[1].keys(), key=lambda value: item[1][value])\n",
    "        Total = item[1][Total_key]\n",
    "\n",
    "        min_key = min(item[1].keys(), key=lambda value: item[1][value])\n",
    "        min_value = item[1][min_key]\n",
    "\n",
    "        ### NEED TO FIND THE MAX = KASH Pls help!\n",
    "        mean = round(np.average(list(item[1].values())),2)\n",
    "\n",
    "        print(\"{:<20} {:<20} {:<15} {:<20} {:<15}\".format(item_name, mean, min_key, min_value, Total))\n",
    "\n",
    "    return None\n",
    "\n",
    "find_summary_statistics(G09_Complete,\"Age Group\",'Country')"
   ]
  },
  {
   "cell_type": "code",
   "execution_count": 48,
   "metadata": {},
   "outputs": [
    {
     "name": "stdout",
     "output_type": "stream",
     "text": [
      "['Afghanistan_Before_1951', 'Afghanistan_1951_1960', 'Afghanistan_1961_1970', 'Afghanistan_1971_1980', 'Afghanistan_1981_1990', 'Afghanistan_1991_2000', 'Afghanistan_2001_2010', 'Afghanistan_2011_2015', 'Afghanistan_2016', 'Afghanistan_2017', 'Afghanistan_2018', 'Afghanistan_2019', 'Afghanistan_2020', 'Afghanistan_2021', 'Afghanistan_Yr_arrival_NS', 'Afghanistan_Tot']\n"
     ]
    }
   ],
   "source": [
    "print(list(G10)[0:16])"
   ]
  },
  {
   "cell_type": "code",
   "execution_count": 68,
   "metadata": {},
   "outputs": [],
   "source": [
    "def sum_years(dct):\n",
    "    \"\"\"\n",
    "    Create 3 lists \n",
    "        - 1950 - 2000: Sums values from 1950 years before to 2000 and adds to dictionary, removing the original values\n",
    "        - 2000 - 2010 \n",
    "        - 2010 - 2020L Sums values from 2011 to 2020, removing the original values\n",
    "    \"\"\"\n",
    "    tmp_dct = {}\n",
    "\n",
    "    start = 1            # first index\n",
    "    sum_start_2000 = 5\n",
    "    sum_start_2010 = 9\n",
    "    sum_start_2010 = 10  #begin adding of countries\n",
    "    end_year_2020 = 14   #end adding of countries\n",
    "    stop = 14\n",
    "\n",
    "    dct_lst = list(dct.items())\n",
    "\n",
    "    while stop <= len(dct):\n",
    "        for i in range(start, sum_start):\n",
    "            key = dct_lst[i][0]\n",
    "            value = int(dct_lst[i][1])\n",
    "            tmp_dct[key] = value\n",
    "        \n",
    "        #between 2000 and 2010 \n",
    "        total_sum = 0\n",
    "        for j in range(sum_start_2000, sum_start_2010):\n",
    "            total_sum += int(dct_lst[j][1])\n",
    "\n",
    "        # betweem 2010 and 2020\n",
    "        total_sum = 0\n",
    "        for j in range(sum_start_2010, end_year_2020):\n",
    "            total_sum += int(dct_lst[j][1])\n",
    "\n",
    "        key = dct_lst[sum_start][0].replace(\"2010\", \"2020\").replace(\"_10\", \"_20\")\n",
    "        tmp_dct[key] = total_sum\n",
    "\n",
    "        start += 14\n",
    "        sum_start_2000 += 14\n",
    "        stop += 14\n",
    "\n",
    "    return tmp_dct\n",
    "    "
   ]
  },
  {
   "cell_type": "code",
   "execution_count": 69,
   "metadata": {},
   "outputs": [
    {
     "ename": "NameError",
     "evalue": "name 'sum_start' is not defined",
     "output_type": "error",
     "traceback": [
      "\u001b[0;31m---------------------------------------------------------------------------\u001b[0m",
      "\u001b[0;31mNameError\u001b[0m                                 Traceback (most recent call last)",
      "\u001b[1;32m/Users/alexiafassetta/Documents/cits2402/LabAsse/Lab4-5Assignment/AF_USA_Australia.ipynb Cell 18\u001b[0m in \u001b[0;36m<cell line: 1>\u001b[0;34m()\u001b[0m\n\u001b[0;32m----> <a href='vscode-notebook-cell:/Users/alexiafassetta/Documents/cits2402/LabAsse/Lab4-5Assignment/AF_USA_Australia.ipynb#X32sZmlsZQ%3D%3D?line=0'>1</a>\u001b[0m sum_years(G10)\n",
      "\u001b[1;32m/Users/alexiafassetta/Documents/cits2402/LabAsse/Lab4-5Assignment/AF_USA_Australia.ipynb Cell 18\u001b[0m in \u001b[0;36msum_years\u001b[0;34m(dct)\u001b[0m\n\u001b[1;32m     <a href='vscode-notebook-cell:/Users/alexiafassetta/Documents/cits2402/LabAsse/Lab4-5Assignment/AF_USA_Australia.ipynb#X32sZmlsZQ%3D%3D?line=16'>17</a>\u001b[0m dct_lst \u001b[39m=\u001b[39m \u001b[39mlist\u001b[39m(dct\u001b[39m.\u001b[39mitems())\n\u001b[1;32m     <a href='vscode-notebook-cell:/Users/alexiafassetta/Documents/cits2402/LabAsse/Lab4-5Assignment/AF_USA_Australia.ipynb#X32sZmlsZQ%3D%3D?line=18'>19</a>\u001b[0m \u001b[39mwhile\u001b[39;00m stop \u001b[39m<\u001b[39m\u001b[39m=\u001b[39m \u001b[39mlen\u001b[39m(dct):\n\u001b[0;32m---> <a href='vscode-notebook-cell:/Users/alexiafassetta/Documents/cits2402/LabAsse/Lab4-5Assignment/AF_USA_Australia.ipynb#X32sZmlsZQ%3D%3D?line=19'>20</a>\u001b[0m     \u001b[39mfor\u001b[39;00m i \u001b[39min\u001b[39;00m \u001b[39mrange\u001b[39m(start, sum_start):\n\u001b[1;32m     <a href='vscode-notebook-cell:/Users/alexiafassetta/Documents/cits2402/LabAsse/Lab4-5Assignment/AF_USA_Australia.ipynb#X32sZmlsZQ%3D%3D?line=20'>21</a>\u001b[0m         key \u001b[39m=\u001b[39m dct_lst[i][\u001b[39m0\u001b[39m]\n\u001b[1;32m     <a href='vscode-notebook-cell:/Users/alexiafassetta/Documents/cits2402/LabAsse/Lab4-5Assignment/AF_USA_Australia.ipynb#X32sZmlsZQ%3D%3D?line=21'>22</a>\u001b[0m         value \u001b[39m=\u001b[39m \u001b[39mint\u001b[39m(dct_lst[i][\u001b[39m1\u001b[39m])\n",
      "\u001b[0;31mNameError\u001b[0m: name 'sum_start' is not defined"
     ]
    }
   ],
   "source": [
    "sum_years(G10)"
   ]
  },
  {
   "cell_type": "code",
   "execution_count": null,
   "metadata": {},
   "outputs": [],
   "source": []
  }
 ],
 "metadata": {
  "kernelspec": {
   "display_name": "Python 3.10.6 ('venv': venv)",
   "language": "python",
   "name": "python3"
  },
  "language_info": {
   "codemirror_mode": {
    "name": "ipython",
    "version": 3
   },
   "file_extension": ".py",
   "mimetype": "text/x-python",
   "name": "python",
   "nbconvert_exporter": "python",
   "pygments_lexer": "ipython3",
   "version": "3.10.6"
  },
  "nbgrader": {
   "__altered": false,
   "__hash": -335098374,
   "_root": {
    "entries": [
     [
      "cocalc_minimal_stubs",
      false
     ]
    ],
    "ownerID": {}
   },
   "cocalc_minimal_stubs": false,
   "size": 1
  },
  "vscode": {
   "interpreter": {
    "hash": "d54c97a48544b052d059cf2f2b79a33ce3e4a02c3573ad5e49241979bddd619f"
   }
  }
 },
 "nbformat": 4,
 "nbformat_minor": 4
}
