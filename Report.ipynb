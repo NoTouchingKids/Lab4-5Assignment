{
 "cells": [
  {
   "cell_type": "markdown",
   "metadata": {},
   "source": [
    "---\n",
    "<span style=\"font-size:x-large;\">Census Lab Assignment</span>\n",
    "\n",
    "Task: Investigate the similarities and difference between the United States and Australia. Use census data provided by the Australian Bureau of Statistics (ABS) and the United States Census Bureau to derive insights.\n",
    "\n",
    "### Declaration\n",
    "\n",
    "We are aware of the University’s [policy on academic conduct](https://www.governance.uwa.edu.au/procedures/policies/policies-and-procedures?method=document&id=UP07/21) and we declare that this assignment is our own work entirely and that suitable acknowledgement has been made for any sources of information used in preparing it. We have retained a hard copy for my own records.\n",
    "\n",
    "Names: Kashish Patel, Hassan Hassan and Alexia Fassetta. \n",
    "\n",
    "Date: 09/09/22\n",
    "\n",
    "---\n",
    "\n",
    "# Multiculturalism: Australia VS America\n",
    "\n",
    "---\n",
    "\n",
    "## Context\n",
    "This report seeks to investigate Multiculturalism in Australia and America. \n",
    "\n",
    "We will invesitagte this through investigating migration, globalisation and the associated multiculturalism. \n",
    "\n",
    "Australia was developed by foreign born immigrants, who have contributed to our cultural identity, finacial prosperity and \n",
    "    1) The age group in which they arrived\n",
    "    2) The Year in which they arrived\n",
    "    3) Lastly, we will support this by utilising key statistics of  proficiency of langauge.\n",
    "\n",
    "---\n",
    "\n",
    "## Data Acquisition\n",
    "\n",
    "The Data used for Australia's Analysis was collected from the [ABS 2021 Census DataPacks](>> provide link?? ). \n",
    "\n",
    "To derive our data please select the following for the next 3 steps:\n",
    "- Census Year: **2021 Census Datapacks**\n",
    "- DataPacks Type: **General Community Profile**\n",
    "- Geography: **Australia**\n",
    "\n",
    "We will be analysiing the follo\n",
    "- **G09**: *Country of Birth of Person by Age by Sex*\n",
    "- **G10**: *Country of Birth by Year of Arrival in Australia*\n",
    "- **G13**: *Language used at home by proficiency in spoken English by sex* \n",
    "\n",
    "\n",
    "This data provides information to allow us to conduct our analysis:\n",
    "- Country of birth\n",
    "- Gender\n",
    "- Year of arrival\n",
    "- Age at immigration\n",
    "\n",
    "---\n",
    "Firstly we will read in the required packages and import the required software"
   ]
  },
  {
   "cell_type": "code",
   "execution_count": 62,
   "metadata": {},
   "outputs": [],
   "source": [
    "import csv\n",
    "import re\n",
    "import matplotlib.pyplot as plt\n",
    "import seaborn as sns\n",
    "import numpy as np\n"
   ]
  },
  {
   "cell_type": "markdown",
   "metadata": {},
   "source": [
    "# Australia\n",
    "## Data Cleaning/Conversion"
   ]
  },
  {
   "cell_type": "markdown",
   "metadata": {},
   "source": [
    "Read in all the appropriate files. Create a list for each Category, this list will hold all of the appropriate files, enabling us to iterate over these lists."
   ]
  },
  {
   "cell_type": "code",
   "execution_count": 63,
   "metadata": {},
   "outputs": [],
   "source": [
    "\n",
    "AUS_FILES = {\n",
    "    # PLACE OF BIRTH FOR THE FOREIGN-BORN POPULATION IN THE UNITED STATES\n",
    "    \"G09_FILES\": [\"AUS census Data/2021Census_G09F_AUS_AUS.csv\",\n",
    "                  \"AUS census Data/2021Census_G09G_AUS_AUS.csv\",\n",
    "                  \"AUS census Data/2021Census_G09H_AUS_AUS.csv\",\n",
    "                  ],\n",
    "    # YEAR OF ARRIVAL FOR THE FOREIGN-BORN POPULATION IN AUSTRALIA\n",
    "    \"G10_FILES\": [\"AUS census Data/2021Census_G10A_AUS_AUS.csv\",\n",
    "                  \"AUS census Data/2021Census_G10B_AUS_AUS.csv\",\n",
    "                  \"AUS census Data/2021Census_G10C_AUS_AUS.csv\"]\n",
    "}\n",
    "\n",
    "# PLACE OF BIRTH FOR THE FOREIGN-BORN POPULATION IN THE UNITED STATES\n",
    "US_FILES = {\n",
    "    \"POB_for_FB\": [\n",
    "        'US data/ACSDT1Y2019.B05006-2022-09-07T130218.csv'\n",
    "    ],\n",
    "    'Age_by_FB': ['US data/ACSDT1Y2019.B05013-2022-09-08T093031.csv']\n",
    "}"
   ]
  },
  {
   "cell_type": "markdown",
   "metadata": {},
   "source": [
    "Create function to read and organise each file."
   ]
  },
  {
   "cell_type": "code",
   "execution_count": 64,
   "metadata": {},
   "outputs": [],
   "source": [
    "filename = \"AUS census Data/2021Census_G13A_AUS_AUS.csv\"\n"
   ]
  },
  {
   "cell_type": "code",
   "execution_count": 65,
   "metadata": {},
   "outputs": [],
   "source": [
    "def read_file(filename):\n",
    "    \"\"\"\n",
    "    Reads in a file, removing the first column of each row (\"AUS_CODE_2020\"). Returns a list containing a list of every row.\n",
    "    \"\"\"\n",
    "    with open(filename, 'r') as file:\n",
    "        contents = file.readlines()\n",
    "\n",
    "    for (index, value) in enumerate(contents):\n",
    "        contents[index] = value.strip(\"\\n\").split(\",\")[1:]\n",
    "    return contents\n",
    "\n",
    "\n",
    "filename = \"AUS census Data/2021Census_G09H_AUS_AUS.csv\"\n",
    "a = read_file(filename)\n",
    "b = a[0]\n",
    "# print(b)\n"
   ]
  },
  {
   "cell_type": "markdown",
   "metadata": {},
   "source": [
    "Next we will create a dictionary to establish a key/ value pair relationship"
   ]
  },
  {
   "cell_type": "code",
   "execution_count": 66,
   "metadata": {},
   "outputs": [],
   "source": [
    "def create_dictionary(keys, value, dictionary):\n",
    "    \"\"\"\n",
    "    Takes two lists (one of keys and the other of values) and adds to specified dictionary\n",
    "    \"\"\"\n",
    "    for (index, key) in enumerate(keys):  # enumerate maintains a counter as a key for each value within an object, allowing easier access to items\n",
    "        dictionary[key] = value[index]\n",
    "    return dictionary\n"
   ]
  },
  {
   "cell_type": "markdown",
   "metadata": {},
   "source": [
    "Lets use our functions to investigate the data structure, organisation and cleaning required.\n",
    "\n",
    "Print a temp sample of the first and last 10 cells for each data file"
   ]
  },
  {
   "cell_type": "code",
   "execution_count": 67,
   "metadata": {},
   "outputs": [],
   "source": [
    "G09 = {}\n",
    "G10 = {}\n",
    "\n",
    "for file in G09_FILES:\n",
    "    temp09 = read_file(file)\n",
    "    G09 = create_dictionary(temp09[0], temp09[1], G09)\n",
    "\n",
    "for file in G10_FILES:\n",
    "    temp10 = read_file(file)\n",
    "    G10 = create_dictionary(temp10[0], temp10[1], G10)\n"
   ]
  },
  {
   "cell_type": "markdown",
   "metadata": {},
   "source": [
    "Lets observe the data we are working with:"
   ]
  },
  {
   "cell_type": "code",
   "execution_count": 68,
   "metadata": {},
   "outputs": [
    {
     "name": "stdout",
     "output_type": "stream",
     "text": [
      "Beginning of G09 headers:  ['F_Vietnam_0_4', 'F_Vietnam_5_14', 'F_Vietnam_15_24', 'F_Vietnam_25_44', 'F_Vietnam_45_54', 'F_Vietnam_55_64', 'F_Vietnam_65_74', 'F_Vietnam_75_84', 'F_Vietnam_85ov', 'F_Vietnam_Tot', 'F_Wales_0_4', 'F_Wales_5_14', 'F_Wales_15_24', 'F_Wales_25_44', 'F_Wales_45_54', 'F_Wales_55_64', 'F_Wales_65_74', 'F_Wales_75_84', 'F_Wales_85ov', 'F_Wales_Tot'] \n",
      ",\n",
      "End of G09 headers:  ['P_COB_NS_0_4', 'P_COB_NS_5_14', 'P_COB_NS_15_24', 'P_COB_NS_25_44', 'P_COB_NS_45_54', 'P_COB_NS_55_64', 'P_COB_NS_65_74', 'P_COB_NS_75_84', 'P_COB_NS_85ov', 'P_COB_NS_Tot', 'P_Tot_0_4', 'P_Tot_5_14', 'P_Tot_15_24', 'P_Tot_25_44', 'P_Tot_45_54', 'P_Tot_55_64', 'P_Tot_65_74', 'P_Tot_75_84', 'P_Tot_85ov', 'P_Tot_Tot']\n",
      "Beginning of G10 headers:  ['Afghanistan_Before_1951', 'Afghanistan_1951_1960', 'Afghanistan_1961_1970', 'Afghanistan_1971_1980', 'Afghanistan_1981_1990', 'Afghanistan_1991_2000', 'Afghanistan_2001_2010', 'Afghanistan_2011_2015', 'Afghanistan_2016', 'Afghanistan_2017', 'Afghanistan_2018', 'Afghanistan_2019', 'Afghanistan_2020', 'Afghanistan_2021', 'Afghanistan_Yr_arrival_NS', 'Afghanistan_Tot', 'Bangladesh_Before_1951', 'Bangladesh_1951_1960', 'Bangladesh_1961_1970', 'Bangladesh_1971_1980'] \n",
      ",\n",
      "End of G10 headers:  ['Born_elsewhere_2020', 'Born_elsewhere_2021', 'Born_elsewhere_Yr_arrival_ns', 'Born_elsewhere_Tot', 'Tot_Before_1951', 'Tot_1951_1960', 'Tot_1961_1970', 'Tot_1971_1980', 'Tot_1981_1990', 'Tot_1991_2000', 'Tot_2001_2010', 'Tot_2011_2015', 'Tot_2016', 'Tot_2017', 'Tot_2018', 'Tot_2019', 'Tot_2020', 'Tot_2021', 'Tot_Yr_arrival_NS', 'Tot_Tot']\n"
     ]
    }
   ],
   "source": [
    "print(\"Beginning of G09 headers: \", list(G09)[\n",
    "      :20], '\\n,' \"\\nEnd of G09 headers: \", list(G09)[len(G09)-20:])\n",
    "print(\"Beginning of G10 headers: \", list(G10)[\n",
    "      :20], '\\n,' \"\\nEnd of G10 headers: \", list(G10)[len(G10)-20:])\n"
   ]
  },
  {
   "cell_type": "code",
   "execution_count": 69,
   "metadata": {},
   "outputs": [],
   "source": [
    "def clean_dictionary(from_dictionary):\n",
    "    G09_Total = {}\n",
    "    G09_AusPop = {}\n",
    "    for (key, value) in from_dictionary.items():\n",
    "        if \"Australia\" in key:\n",
    "            G09_AusPop[key] = int(value)\n",
    "        elif key[0] == \"P\":\n",
    "            G09_Total[key] = int(value)\n",
    "    return G09_Total, G09_AusPop\n"
   ]
  },
  {
   "cell_type": "code",
   "execution_count": 70,
   "metadata": {},
   "outputs": [
    {
     "name": "stdout",
     "output_type": "stream",
     "text": [
      "\n",
      "\n",
      "{'P_Australia_0_4': 1362761, 'P_Australia_5_14': 2711665, 'P_Australia_15_24': 2304028, 'P_Australia_25_44': 4157739, 'P_Australia_45_54': 2044555, 'P_Australia_55_64': 1861530, 'P_Australia_65_74': 1488499, 'P_Australia_75_84': 785817, 'P_Australia_85ov': 303836, 'P_Australia_Tot': 17020422}\n"
     ]
    }
   ],
   "source": [
    "G09_Total, G09_AusPop = clean_dictionary(G09)\n",
    "# print(G09_Total)\n",
    "print(\"\\n\")\n",
    "print(G09_AusPop)\n"
   ]
  },
  {
   "cell_type": "code",
   "execution_count": 71,
   "metadata": {},
   "outputs": [],
   "source": [
    "def dictionary_by_country(dct):\n",
    "    \"\"\"\n",
    "    Splits G09 by country. Returns dictionary containing dictionaries of countries for each age group\n",
    "    \"\"\"\n",
    "    tmp_dct = {}\n",
    "\n",
    "    start = 0        # first index\n",
    "    stop = 10        # each country has 10 entries\n",
    "\n",
    "    dct_lst = list(dct.items())\n",
    "\n",
    "    while stop <= len(dct):\n",
    "        country_dct = {}\n",
    "        country_name = dct_lst[start][0].replace(\"_0_4\", '').replace(\"P_\", '')\n",
    "\n",
    "        # Create the associated age groups\n",
    "        for i in range(start, stop):\n",
    "            key = dct_lst[i][0].replace(country_name, '').replace(\n",
    "                \"P__\", '').replace(\"_\", '-')\n",
    "            value = int(dct_lst[i][1])\n",
    "            country_dct[key] = value\n",
    "\n",
    "        # create the country Name\n",
    "        tmp_dct[country_name] = country_dct\n",
    "\n",
    "        start += 10\n",
    "        stop += 10\n",
    "    return tmp_dct\n"
   ]
  },
  {
   "cell_type": "markdown",
   "metadata": {},
   "source": [
    "Lets Observe our data:"
   ]
  },
  {
   "cell_type": "code",
   "execution_count": 72,
   "metadata": {},
   "outputs": [
    {
     "name": "stdout",
     "output_type": "stream",
     "text": [
      "['Afghanistan', 'Bangladesh', 'Bosnia_Herzegov', 'Brazil', 'Cambodia', 'Canada', 'Chile', 'China', 'Croatia', 'Egypt', 'England', 'Fiji', 'France', 'Germany', 'Greece', 'Hong_Kong_SAR_Ch', 'India', 'Indonesia', 'Iran', 'Iraq', 'Ireland', 'Italy', 'Japan', 'Korea_South', 'Lebanon', 'Malaysia', 'Malta', 'Mauritius', 'Myanmar', 'Nepal', 'Netherlands', 'New_Zealand', 'North_Macedonia', 'Pakistan', 'PNG', 'Philippines', 'Poland', 'Samoa', 'Scotland', 'Singapore', 'South_Africa', 'Sri_Lanka', 'Taiwan', 'Thailand', 'Turkey', 'USA', 'Vietnam', 'Wales', 'Zimbabwe', 'Elsewhere', 'COB_NS', 'Tot']\n",
      "{'Afghanistan': {'0-4': 322, '5-14': 3896, '15-24': 9223, '25-44': 30560, '45-54': 8467, '55-64': 4585, '65-74': 2012, '75-84': 602, '85ov': 135, 'Tot': 59797}, 'Bangladesh': {'0-4': 333, '5-14': 2982, '15-24': 4281, '25-44': 31695, '45-54': 6876, '55-64': 3482, '65-74': 1560, '75-84': 254, '85ov': 33, 'Tot': 51491}, 'Bosnia_Herzegov': {'0-4': 17, '5-14': 123, '15-24': 400, '25-44': 8709, '45-54': 4340, '55-64': 6289, '65-74': 3815, '75-84': 1952, '85ov': 522, 'Tot': 26171}, 'Brazil': {'0-4': 207, '5-14': 1496, '15-24': 2882, '25-44': 35170, '45-54': 4136, '55-64': 1712, '65-74': 765, '75-84': 287, '85ov': 69, 'Tot': 46720}, 'Cambodia': {'0-4': 181, '5-14': 1091, '15-24': 2921, '25-44': 13229, '45-54': 7942, '55-64': 6785, '65-74': 4665, '75-84': 1671, '85ov': 556, 'Tot': 39043}, 'Canada': {'0-4': 727, '5-14': 2944, '15-24': 3415, '25-44': 20124, '45-54': 9061, '55-64': 7045, '65-74': 4601, '75-84': 1855, '85ov': 451, 'Tot': 50223}, 'Chile': {'0-4': 105, '5-14': 528, '15-24': 846, '25-44': 9410, '45-54': 5608, '55-64': 5146, '65-74': 4838, '75-84': 2885, '85ov': 496, 'Tot': 29860}, 'China': {'0-4': 1875, '5-14': 20206, '15-24': 56384, '25-44': 243970, '45-54': 74649, '55-64': 76298, '65-74': 48562, '75-84': 18472, '85ov': 9196, 'Tot': 549618}, 'Croatia': {'0-4': 14, '5-14': 146, '15-24': 245, '25-44': 5102, '45-54': 4225, '55-64': 8867, '65-74': 10842, '75-84': 10215, '85ov': 3652, 'Tot': 43302}, 'Egypt': {'0-4': 279, '5-14': 2799, '15-24': 3073, '25-44': 10951, '45-54': 4148, '55-64': 6220, '65-74': 8097, '75-84': 5533, '85ov': 2119, 'Tot': 43213}, 'England': {'0-4': 3057, '5-14': 30418, '15-24': 50526, '25-44': 163957, '45-54': 144491, '55-64': 196480, '65-74': 170659, '75-84': 124330, '85ov': 43567, 'Tot': 927490}, 'Fiji': {'0-4': 110, '5-14': 1307, '15-24': 3611, '25-44': 24683, '45-54': 14288, '55-64': 13120, '65-74': 7787, '75-84': 3265, '85ov': 774, 'Tot': 68947}, 'France': {'0-4': 242, '5-14': 1510, '15-24': 2289, '25-44': 17282, '45-54': 5096, '55-64': 4109, '65-74': 3083, '75-84': 1689, '85ov': 711, 'Tot': 36019}, 'Germany': {'0-4': 340, '5-14': 1523, '15-24': 3222, '25-44': 19380, '45-54': 11341, '55-64': 12992, '65-74': 25494, '75-84': 19779, '85ov': 7191, 'Tot': 101255}, 'Greece': {'0-4': 80, '5-14': 944, '15-24': 1857, '25-44': 4963, '45-54': 4934, '55-64': 12371, '65-74': 22597, '75-84': 30866, '85ov': 13699, 'Tot': 92314}, 'Hong_Kong_SAR_Ch': {'0-4': 902, '5-14': 5773, '15-24': 10069, '25-44': 36190, '45-54': 12546, '55-64': 17143, '65-74': 13686, '75-84': 2884, '85ov': 950, 'Tot': 100148}, 'India': {'0-4': 6597, '5-14': 43134, '15-24': 64295, '25-44': 415298, '45-54': 65098, '55-64': 36640, '65-74': 25804, '75-84': 12394, '85ov': 4097, 'Tot': 673352}, 'Indonesia': {'0-4': 540, '5-14': 3110, '15-24': 10714, '25-44': 40151, '45-54': 13752, '55-64': 7533, '65-74': 7421, '75-84': 2922, '85ov': 928, 'Tot': 87075}, 'Iran': {'0-4': 240, '5-14': 3984, '15-24': 6283, '25-44': 37259, '45-54': 9820, '55-64': 6729, '65-74': 4222, '75-84': 1769, '85ov': 586, 'Tot': 70899}, 'Iraq': {'0-4': 326, '5-14': 8162, '15-24': 11264, '25-44': 34962, '45-54': 16142, '55-64': 11979, '65-74': 6499, '75-84': 2756, '85ov': 838, 'Tot': 92922}, 'Ireland': {'0-4': 263, '5-14': 3625, '15-24': 3604, '25-44': 35143, '45-54': 11279, '55-64': 9628, '65-74': 8851, '75-84': 6145, '85ov': 2390, 'Tot': 80927}, 'Italy': {'0-4': 156, '5-14': 1329, '15-24': 2267, '25-44': 18727, '45-54': 8373, '55-64': 20939, '65-74': 43109, '75-84': 42025, '85ov': 26388, 'Tot': 163326}, 'Japan': {'0-4': 591, '5-14': 2884, '15-24': 4002, '25-44': 18767, '45-54': 10695, '55-64': 4524, '65-74': 2516, '75-84': 906, '85ov': 374, 'Tot': 45267}, 'Korea_South': {'0-4': 565, '5-14': 4447, '15-24': 9046, '25-44': 51549, '45-54': 18385, '55-64': 10032, '65-74': 5024, '75-84': 2400, '85ov': 651, 'Tot': 102092}, 'Lebanon': {'0-4': 423, '5-14': 1673, '15-24': 2905, '25-44': 21044, '45-54': 18111, '55-64': 19937, '65-74': 14478, '75-84': 6869, '85ov': 1904, 'Tot': 87340}, 'Malaysia': {'0-4': 793, '5-14': 7053, '15-24': 17135, '25-44': 65508, '45-54': 23979, '55-64': 21930, '65-74': 19804, '75-84': 7642, '85ov': 1770, 'Tot': 165616}, 'Malta': {'0-4': 14, '5-14': 81, '15-24': 190, '25-44': 1158, '45-54': 1483, '55-64': 5357, '65-74': 13930, '75-84': 10068, '85ov': 3141, 'Tot': 35413}, 'Mauritius': {'0-4': 24, '5-14': 376, '15-24': 1707, '25-44': 8854, '45-54': 3219, '55-64': 4867, '65-74': 4117, '75-84': 1990, '85ov': 831, 'Tot': 25981}, 'Myanmar': {'0-4': 77, '5-14': 1057, '15-24': 4372, '25-44': 17519, '45-54': 6302, '55-64': 4512, '65-74': 3284, '75-84': 1418, '85ov': 628, 'Tot': 39171}, 'Nepal': {'0-4': 284, '5-14': 2528, '15-24': 31008, '25-44': 82591, '45-54': 3831, '55-64': 1462, '65-74': 650, '75-84': 131, '85ov': 16, 'Tot': 122506}, 'Netherlands': {'0-4': 177, '5-14': 1056, '15-24': 1648, '25-44': 7136, '45-54': 5764, '55-64': 7597, '65-74': 20908, '75-84': 16086, '85ov': 6105, 'Tot': 66481}, 'New_Zealand': {'0-4': 3797, '5-14': 31331, '15-24': 53472, '25-44': 169380, '45-54': 97071, '55-64': 88279, '65-74': 58826, '75-84': 23032, '85ov': 5304, 'Tot': 530492}, 'North_Macedonia': {'0-4': 29, '5-14': 253, '15-24': 628, '25-44': 6873, '45-54': 6139, '55-64': 9336, '65-74': 11243, '75-84': 5502, '85ov': 1794, 'Tot': 41786}, 'Pakistan': {'0-4': 1339, '5-14': 10249, '15-24': 11196, '25-44': 51512, '45-54': 8195, '55-64': 4262, '65-74': 2207, '75-84': 544, '85ov': 125, 'Tot': 89633}, 'PNG': {'0-4': 86, '5-14': 1056, '15-24': 2686, '25-44': 7084, '45-54': 9073, '55-64': 5854, '65-74': 3005, '75-84': 825, '85ov': 311, 'Tot': 29984}, 'Philippines': {'0-4': 1493, '5-14': 16816, '15-24': 30705, '25-44': 123444, '45-54': 51342, '55-64': 38898, '65-74': 23800, '75-84': 5954, '85ov': 1435, 'Tot': 293892}, 'Poland': {'0-4': 59, '5-14': 445, '15-24': 652, '25-44': 11569, '45-54': 5970, '55-64': 7814, '65-74': 11377, '75-84': 4662, '85ov': 3335, 'Tot': 45884}, 'Samoa': {'0-4': 78, '5-14': 1342, '15-24': 2852, '25-44': 8350, '45-54': 5932, '55-64': 5548, '65-74': 2951, '75-84': 912, '85ov': 145, 'Tot': 28107}, 'Scotland': {'0-4': 199, '5-14': 2551, '15-24': 4696, '25-44': 19009, '45-54': 16799, '55-64': 25460, '65-74': 25713, '75-84': 17937, '85ov': 6125, 'Tot': 118496}, 'Singapore': {'0-4': 750, '5-14': 6044, '15-24': 7924, '25-44': 19412, '45-54': 9593, '55-64': 7980, '65-74': 6630, '75-84': 2168, '85ov': 561, 'Tot': 61056}, 'South_Africa': {'0-4': 1059, '5-14': 10760, '15-24': 20334, '25-44': 61441, '45-54': 40265, '55-64': 27128, '65-74': 17796, '75-84': 8131, '85ov': 2297, 'Tot': 189207}, 'Sri_Lanka': {'0-4': 604, '5-14': 5585, '15-24': 11067, '25-44': 55190, '45-54': 21173, '55-64': 17521, '65-74': 12862, '75-84': 5913, '85ov': 1992, 'Tot': 131904}, 'Taiwan': {'0-4': 476, '5-14': 1862, '15-24': 3014, '25-44': 30873, '45-54': 5198, '55-64': 3595, '65-74': 3601, '75-84': 769, '85ov': 121, 'Tot': 49511}, 'Thailand': {'0-4': 706, '5-14': 6098, '15-24': 10270, '25-44': 43902, '45-54': 13014, '55-64': 6263, '65-74': 2808, '75-84': 595, '85ov': 116, 'Tot': 83779}, 'Turkey': {'0-4': 180, '5-14': 975, '15-24': 1141, '25-44': 10916, '45-54': 9056, '55-64': 8376, '65-74': 4631, '75-84': 2732, '85ov': 565, 'Tot': 38568}, 'USA': {'0-4': 2699, '5-14': 10669, '15-24': 11403, '25-44': 34600, '45-54': 13936, '55-64': 12566, '65-74': 10511, '75-84': 4122, '85ov': 798, 'Tot': 101309}, 'Vietnam': {'0-4': 919, '5-14': 7196, '15-24': 19709, '25-44': 83513, '45-54': 55467, '55-64': 50109, '65-74': 28938, '75-84': 8473, '85ov': 3672, 'Tot': 257997}, 'Wales': {'0-4': 57, '5-14': 750, '15-24': 1453, '25-44': 6144, '45-54': 4971, '55-64': 5851, '65-74': 5215, '75-84': 3590, '85ov': 1222, 'Tot': 29250}, 'Zimbabwe': {'0-4': 102, '5-14': 1093, '15-24': 4327, '25-44': 14685, '45-54': 8525, '55-64': 6479, '65-74': 3344, '75-84': 938, '85ov': 223, 'Tot': 39714}, 'Elsewhere': {'0-4': 5221, '5-14': 39436, '15-24': 59144, '25-44': 271238, '45-54': 114021, '55-64': 102923, '65-74': 87171, '75-84': 57073, '85ov': 22942, 'Tot': 759173}, 'COB_NS': {'0-4': 61345, '5-14': 145841, '15-24': 150994, '25-44': 394515, '45-54': 168253, '55-64': 157912, '65-74': 134407, '75-84': 94757, '85ov': 50649, 'Tot': 1358658}, 'Tot': {'0-4': 1463817, '5-14': 3174191, '15-24': 3037348, '25-44': 7112427, '45-54': 3246908, '55-64': 3010014, '65-74': 2459233, '75-84': 1376519, '85ov': 542342, '': 25422788}}\n"
     ]
    }
   ],
   "source": [
    "G09_Complete = (dictionary_by_country(G09_Total))\n",
    "print(list(G09_Complete))\n",
    "print(G09_Complete)\n"
   ]
  },
  {
   "cell_type": "code",
   "execution_count": 73,
   "metadata": {},
   "outputs": [
    {
     "name": "stdout",
     "output_type": "stream",
     "text": [
      "['Afghanistan_Before_1951', 'Afghanistan_1951_1960', 'Afghanistan_1961_1970', 'Afghanistan_1971_1980', 'Afghanistan_1981_1990', 'Afghanistan_1991_2000', 'Afghanistan_2001_2010', 'Afghanistan_2011_2015', 'Afghanistan_2016', 'Afghanistan_2017', 'Afghanistan_2018', 'Afghanistan_2019', 'Afghanistan_2020', 'Afghanistan_2021', 'Afghanistan_Yr_arrival_NS', 'Afghanistan_Tot']\n"
     ]
    }
   ],
   "source": [
    "print(list(G10)[0:16])\n"
   ]
  },
  {
   "cell_type": "code",
   "execution_count": 74,
   "metadata": {},
   "outputs": [],
   "source": [
    "def sum_years(dct):\n",
    "    \"\"\"\n",
    "    Create 3 lists \n",
    "        - 1950 - 2000: Sums values from 1950 years before to 2000 and adds to dictionary, removing the original values\n",
    "        - 2000 - 2010 \n",
    "        - 2010 - 2020L Sums values from 2011 to 2020, removing the original values\n",
    "    \"\"\"\n",
    "    tmp_dct = {}\n",
    "\n",
    "    start = 1            # first index\n",
    "    sum_start_2000 = 5\n",
    "    sum_start_2010 = 9\n",
    "    sum_start_2010 = 10  # begin adding of countries\n",
    "    end_year_2020 = 14  # end adding of countries\n",
    "    stop = 14\n",
    "\n",
    "    dct_lst = list(dct.items())\n",
    "\n",
    "    while stop <= len(dct):\n",
    "        for i in range(start, sum_start):\n",
    "            key = dct_lst[i][0]\n",
    "            value = int(dct_lst[i][1])\n",
    "            tmp_dct[key] = value\n",
    "\n",
    "        # between 2000 and 2010\n",
    "        total_sum = 0\n",
    "        for j in range(sum_start_2000, sum_start_2010):\n",
    "            total_sum += int(dct_lst[j][1])\n",
    "\n",
    "        # betweem 2010 and 2020\n",
    "        total_sum = 0\n",
    "        for j in range(sum_start_2010, end_year_2020):\n",
    "            total_sum += int(dct_lst[j][1])\n",
    "\n",
    "        key = dct_lst[sum_start][0].replace(\n",
    "            \"2010\", \"2020\").replace(\"_10\", \"_20\")\n",
    "        tmp_dct[key] = total_sum\n",
    "\n",
    "        start += 14\n",
    "        sum_start_2000 += 14\n",
    "        stop += 14\n",
    "\n",
    "    return tmp_dct\n"
   ]
  },
  {
   "cell_type": "markdown",
   "metadata": {},
   "source": [
    "# America\n",
    "## Data Cleaning/Conversion"
   ]
  },
  {
   "cell_type": "code",
   "execution_count": 75,
   "metadata": {},
   "outputs": [
    {
     "data": {
      "text/plain": [
       "[['\\ufeff\"Label (Grouping)\"', 'United States!!Estimate'],\n",
       " ['Total:', '44,932,901'],\n",
       " ['\\xa0\\xa0\\xa0\\xa0Male:', '21,666,359'],\n",
       " ['\\xa0\\xa0\\xa0\\xa0\\xa0\\xa0\\xa0\\xa0Under 5 years', '150,784'],\n",
       " ['\\xa0\\xa0\\xa0\\xa0\\xa0\\xa0\\xa0\\xa05 to 9 years', '333,645'],\n",
       " ['\\xa0\\xa0\\xa0\\xa0\\xa0\\xa0\\xa0\\xa010 to 14 years', '453,483'],\n",
       " ['\\xa0\\xa0\\xa0\\xa0\\xa0\\xa0\\xa0\\xa015 to 19 years', '712,002'],\n",
       " ['\\xa0\\xa0\\xa0\\xa0\\xa0\\xa0\\xa0\\xa020 to 24 years', '1,107,335'],\n",
       " ['\\xa0\\xa0\\xa0\\xa0\\xa0\\xa0\\xa0\\xa025 to 29 years', '1,579,068'],\n",
       " ['\\xa0\\xa0\\xa0\\xa0\\xa0\\xa0\\xa0\\xa030 to 34 years', '2,029,258'],\n",
       " ['\\xa0\\xa0\\xa0\\xa0\\xa0\\xa0\\xa0\\xa035 to 39 years', '2,276,486'],\n",
       " ['\\xa0\\xa0\\xa0\\xa0\\xa0\\xa0\\xa0\\xa040 to 44 years', '2,287,544'],\n",
       " ['\\xa0\\xa0\\xa0\\xa0\\xa0\\xa0\\xa0\\xa045 to 49 years', '2,257,739'],\n",
       " ['\\xa0\\xa0\\xa0\\xa0\\xa0\\xa0\\xa0\\xa050 to 54 years', '2,032,516'],\n",
       " ['\\xa0\\xa0\\xa0\\xa0\\xa0\\xa0\\xa0\\xa055 to 59 years', '1,779,509'],\n",
       " ['\\xa0\\xa0\\xa0\\xa0\\xa0\\xa0\\xa0\\xa060 to 64 years', '1,483,042'],\n",
       " ['\\xa0\\xa0\\xa0\\xa0\\xa0\\xa0\\xa0\\xa065 to 69 years', '1,114,119'],\n",
       " ['\\xa0\\xa0\\xa0\\xa0\\xa0\\xa0\\xa0\\xa070 to 74 years', '840,434'],\n",
       " ['\\xa0\\xa0\\xa0\\xa0\\xa0\\xa0\\xa0\\xa075 to 79 years', '556,890'],\n",
       " ['\\xa0\\xa0\\xa0\\xa0\\xa0\\xa0\\xa0\\xa080 to 84 years', '360,343'],\n",
       " ['\\xa0\\xa0\\xa0\\xa0\\xa0\\xa0\\xa0\\xa085 years and over', '312,162'],\n",
       " ['\\xa0\\xa0\\xa0\\xa0Female:', '23,266,542'],\n",
       " ['\\xa0\\xa0\\xa0\\xa0\\xa0\\xa0\\xa0\\xa0Under 5 years', '147,500'],\n",
       " ['\\xa0\\xa0\\xa0\\xa0\\xa0\\xa0\\xa0\\xa05 to 9 years', '319,394'],\n",
       " ['\\xa0\\xa0\\xa0\\xa0\\xa0\\xa0\\xa0\\xa010 to 14 years', '423,496'],\n",
       " ['\\xa0\\xa0\\xa0\\xa0\\xa0\\xa0\\xa0\\xa015 to 19 years', '687,784'],\n",
       " ['\\xa0\\xa0\\xa0\\xa0\\xa0\\xa0\\xa0\\xa020 to 24 years', '1,043,586'],\n",
       " ['\\xa0\\xa0\\xa0\\xa0\\xa0\\xa0\\xa0\\xa025 to 29 years', '1,552,271'],\n",
       " ['\\xa0\\xa0\\xa0\\xa0\\xa0\\xa0\\xa0\\xa030 to 34 years', '2,012,380'],\n",
       " ['\\xa0\\xa0\\xa0\\xa0\\xa0\\xa0\\xa0\\xa035 to 39 years', '2,298,645'],\n",
       " ['\\xa0\\xa0\\xa0\\xa0\\xa0\\xa0\\xa0\\xa040 to 44 years', '2,381,613'],\n",
       " ['\\xa0\\xa0\\xa0\\xa0\\xa0\\xa0\\xa0\\xa045 to 49 years', '2,373,564'],\n",
       " ['\\xa0\\xa0\\xa0\\xa0\\xa0\\xa0\\xa0\\xa050 to 54 years', '2,129,237'],\n",
       " ['\\xa0\\xa0\\xa0\\xa0\\xa0\\xa0\\xa0\\xa055 to 59 years', '1,922,055'],\n",
       " ['\\xa0\\xa0\\xa0\\xa0\\xa0\\xa0\\xa0\\xa060 to 64 years', '1,652,189'],\n",
       " ['\\xa0\\xa0\\xa0\\xa0\\xa0\\xa0\\xa0\\xa065 to 69 years', '1,340,769'],\n",
       " ['\\xa0\\xa0\\xa0\\xa0\\xa0\\xa0\\xa0\\xa070 to 74 years', '1,066,298'],\n",
       " ['\\xa0\\xa0\\xa0\\xa0\\xa0\\xa0\\xa0\\xa075 to 79 years', '775,901'],\n",
       " ['\\xa0\\xa0\\xa0\\xa0\\xa0\\xa0\\xa0\\xa080 to 84 years', '563,156'],\n",
       " ['\\xa0\\xa0\\xa0\\xa0\\xa0\\xa0\\xa0\\xa085 years and over', '576,704']]"
      ]
     },
     "execution_count": 75,
     "metadata": {},
     "output_type": "execute_result"
    }
   ],
   "source": [
    "def read_file_list(file: str) -> list:\n",
    "    with open(file) as fin:\n",
    "        __reader = list(csv.reader(fin, delimiter=','))\n",
    "    return __reader\n",
    "\n",
    "read_file_list(US_FILES['Age_by_FB'][0])\n"
   ]
  },
  {
   "cell_type": "code",
   "execution_count": 76,
   "metadata": {},
   "outputs": [],
   "source": [
    "def clean_Name(name: str) -> str:\n",
    "    return ' '.join(re.findall(r'\\w+', name.replace('_', ' ')))\n"
   ]
  },
  {
   "cell_type": "code",
   "execution_count": 77,
   "metadata": {},
   "outputs": [],
   "source": [
    "def clean_Name_list(list_to_be_cleaned: list) -> list:\n",
    "    clean_name_list = []\n",
    "    for item in list_to_be_cleaned:\n",
    "        clean_name_list.append(' '.join(clean_Name(item)))\n",
    "    return clean_name_list\n"
   ]
  },
  {
   "cell_type": "code",
   "execution_count": 81,
   "metadata": {},
   "outputs": [
    {
     "data": {
      "text/plain": [
       "[['\\ufeff\"Label (Grouping)\"', 'United States!!Estimate'],\n",
       " ['Total:', '44,932,901'],\n",
       " ['\\xa0\\xa0\\xa0\\xa0Male:', '21,666,359'],\n",
       " ['\\xa0\\xa0\\xa0\\xa0\\xa0\\xa0\\xa0\\xa0Under 5 years', '150,784'],\n",
       " ['\\xa0\\xa0\\xa0\\xa0\\xa0\\xa0\\xa0\\xa05 to 9 years', '333,645'],\n",
       " ['\\xa0\\xa0\\xa0\\xa0\\xa0\\xa0\\xa0\\xa010 to 14 years', '453,483'],\n",
       " ['\\xa0\\xa0\\xa0\\xa0\\xa0\\xa0\\xa0\\xa015 to 19 years', '712,002'],\n",
       " ['\\xa0\\xa0\\xa0\\xa0\\xa0\\xa0\\xa0\\xa020 to 24 years', '1,107,335'],\n",
       " ['\\xa0\\xa0\\xa0\\xa0\\xa0\\xa0\\xa0\\xa025 to 29 years', '1,579,068'],\n",
       " ['\\xa0\\xa0\\xa0\\xa0\\xa0\\xa0\\xa0\\xa030 to 34 years', '2,029,258'],\n",
       " ['\\xa0\\xa0\\xa0\\xa0\\xa0\\xa0\\xa0\\xa035 to 39 years', '2,276,486'],\n",
       " ['\\xa0\\xa0\\xa0\\xa0\\xa0\\xa0\\xa0\\xa040 to 44 years', '2,287,544'],\n",
       " ['\\xa0\\xa0\\xa0\\xa0\\xa0\\xa0\\xa0\\xa045 to 49 years', '2,257,739'],\n",
       " ['\\xa0\\xa0\\xa0\\xa0\\xa0\\xa0\\xa0\\xa050 to 54 years', '2,032,516'],\n",
       " ['\\xa0\\xa0\\xa0\\xa0\\xa0\\xa0\\xa0\\xa055 to 59 years', '1,779,509'],\n",
       " ['\\xa0\\xa0\\xa0\\xa0\\xa0\\xa0\\xa0\\xa060 to 64 years', '1,483,042'],\n",
       " ['\\xa0\\xa0\\xa0\\xa0\\xa0\\xa0\\xa0\\xa065 to 69 years', '1,114,119'],\n",
       " ['\\xa0\\xa0\\xa0\\xa0\\xa0\\xa0\\xa0\\xa070 to 74 years', '840,434'],\n",
       " ['\\xa0\\xa0\\xa0\\xa0\\xa0\\xa0\\xa0\\xa075 to 79 years', '556,890'],\n",
       " ['\\xa0\\xa0\\xa0\\xa0\\xa0\\xa0\\xa0\\xa080 to 84 years', '360,343'],\n",
       " ['\\xa0\\xa0\\xa0\\xa0\\xa0\\xa0\\xa0\\xa085 years and over', '312,162'],\n",
       " ['\\xa0\\xa0\\xa0\\xa0Female:', '23,266,542'],\n",
       " ['\\xa0\\xa0\\xa0\\xa0\\xa0\\xa0\\xa0\\xa0Under 5 years', '147,500'],\n",
       " ['\\xa0\\xa0\\xa0\\xa0\\xa0\\xa0\\xa0\\xa05 to 9 years', '319,394'],\n",
       " ['\\xa0\\xa0\\xa0\\xa0\\xa0\\xa0\\xa0\\xa010 to 14 years', '423,496'],\n",
       " ['\\xa0\\xa0\\xa0\\xa0\\xa0\\xa0\\xa0\\xa015 to 19 years', '687,784'],\n",
       " ['\\xa0\\xa0\\xa0\\xa0\\xa0\\xa0\\xa0\\xa020 to 24 years', '1,043,586'],\n",
       " ['\\xa0\\xa0\\xa0\\xa0\\xa0\\xa0\\xa0\\xa025 to 29 years', '1,552,271'],\n",
       " ['\\xa0\\xa0\\xa0\\xa0\\xa0\\xa0\\xa0\\xa030 to 34 years', '2,012,380'],\n",
       " ['\\xa0\\xa0\\xa0\\xa0\\xa0\\xa0\\xa0\\xa035 to 39 years', '2,298,645'],\n",
       " ['\\xa0\\xa0\\xa0\\xa0\\xa0\\xa0\\xa0\\xa040 to 44 years', '2,381,613'],\n",
       " ['\\xa0\\xa0\\xa0\\xa0\\xa0\\xa0\\xa0\\xa045 to 49 years', '2,373,564'],\n",
       " ['\\xa0\\xa0\\xa0\\xa0\\xa0\\xa0\\xa0\\xa050 to 54 years', '2,129,237'],\n",
       " ['\\xa0\\xa0\\xa0\\xa0\\xa0\\xa0\\xa0\\xa055 to 59 years', '1,922,055'],\n",
       " ['\\xa0\\xa0\\xa0\\xa0\\xa0\\xa0\\xa0\\xa060 to 64 years', '1,652,189'],\n",
       " ['\\xa0\\xa0\\xa0\\xa0\\xa0\\xa0\\xa0\\xa065 to 69 years', '1,340,769'],\n",
       " ['\\xa0\\xa0\\xa0\\xa0\\xa0\\xa0\\xa0\\xa070 to 74 years', '1,066,298'],\n",
       " ['\\xa0\\xa0\\xa0\\xa0\\xa0\\xa0\\xa0\\xa075 to 79 years', '775,901'],\n",
       " ['\\xa0\\xa0\\xa0\\xa0\\xa0\\xa0\\xa0\\xa080 to 84 years', '563,156'],\n",
       " ['\\xa0\\xa0\\xa0\\xa0\\xa0\\xa0\\xa0\\xa085 years and over', '576,704']]"
      ]
     },
     "execution_count": 81,
     "metadata": {},
     "output_type": "execute_result"
    }
   ],
   "source": [
    "read_file_list(US_FILES['Age_by_FB'][0])"
   ]
  },
  {
   "cell_type": "code",
   "execution_count": 113,
   "metadata": {},
   "outputs": [],
   "source": [
    "#\n",
    "def create_dictionary_Sex(data_raw_list: list) -> list:\n",
    "    Original_len = len(data_raw_list)\n",
    "    data_raw_list\n",
    "    #male_index = data_list.index('Male')\n",
    "    #\n",
    "    Sex = {}\n",
    "    header_list = []\n",
    "    va\n",
    "    for item in data_raw_list[1:]:\n",
    "        header_list.append(clean_Name(item[0]))\n",
    "\n",
    "    male_index = header_list.index('Male')\n",
    "    female_index = header_list.index('Female')\n",
    "    \n",
    "    data_dict = dict(*zip())\n",
    "    \n",
    "    print((male_index, female_index),Sex)\n",
    "    \n",
    "    \n"
   ]
  },
  {
   "cell_type": "code",
   "execution_count": 114,
   "metadata": {},
   "outputs": [
    {
     "name": "stdout",
     "output_type": "stream",
     "text": [
      "(1, 20) {'Male': ['Under 5 years', '5 to 9 years', '10 to 14 years', '15 to 19 years', '20 to 24 years', '25 to 29 years', '30 to 34 years', '35 to 39 years', '40 to 44 years', '45 to 49 years', '50 to 54 years', '55 to 59 years', '60 to 64 years', '65 to 69 years', '70 to 74 years', '75 to 79 years', '80 to 84 years', '85 years and over'], 'Female': ['Under 5 years', '5 to 9 years', '10 to 14 years', '15 to 19 years', '20 to 24 years', '25 to 29 years', '30 to 34 years', '35 to 39 years', '40 to 44 years', '45 to 49 years', '50 to 54 years', '55 to 59 years', '60 to 64 years', '65 to 69 years', '70 to 74 years', '75 to 79 years', '80 to 84 years', '85 years and over']}\n"
     ]
    }
   ],
   "source": [
    "create_dictionary_Sex(read_file_list(US_FILES['Age_by_FB'][0]))"
   ]
  },
  {
   "cell_type": "code",
   "execution_count": null,
   "metadata": {},
   "outputs": [],
   "source": []
  },
  {
   "cell_type": "markdown",
   "metadata": {},
   "source": [
    "## Data Analysis/Interpretation"
   ]
  }
 ],
 "metadata": {
  "kernelspec": {
   "display_name": "Python 3.8.10 ('venv': venv)",
   "language": "python",
   "name": "python3"
  },
  "language_info": {
   "codemirror_mode": {
    "name": "ipython",
    "version": 3
   },
   "file_extension": ".py",
   "mimetype": "text/x-python",
   "name": "python",
   "nbconvert_exporter": "python",
   "pygments_lexer": "ipython3",
   "version": "3.8.10"
  },
  "orig_nbformat": 4,
  "vscode": {
   "interpreter": {
    "hash": "a9bc2eca252ca9104bad7a4b64c25eb2799c1932a27d48f0dbe729dd29c09cb7"
   }
  }
 },
 "nbformat": 4,
 "nbformat_minor": 2
}
