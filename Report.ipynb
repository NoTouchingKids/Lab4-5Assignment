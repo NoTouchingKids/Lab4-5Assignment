{
 "cells": [
  {
   "cell_type": "markdown",
   "metadata": {},
   "source": [
    "---\n",
    "<span style=\"font-size:x-large;\">Census Lab Assignment</span>\n",
    "\n",
    "Task: Investigate the similarities and difference between the United States and Australia. Use census data provided by the Australian Bureau of Statistics (ABS) and the United States Census Bureau to derive insights.\n",
    "\n",
    "### Declaration\n",
    "\n",
    "We are aware of the University’s [policy on academic conduct](https://www.governance.uwa.edu.au/procedures/policies/policies-and-procedures?method=document&id=UP07/21) and we declare that this assignment is our own work entirely and that suitable acknowledgement has been made for any sources of information used in preparing it. We have retained a hard copy for my own records.\n",
    "\n",
    "Names: Kashish Patel, Hassan Hassan and Alexia Fassetta. \n",
    "\n",
    "Date: 09/09/22\n",
    "\n",
    "---\n",
    "\n",
    "# Multiculturalism: Australia VS America\n",
    "\n",
    "---\n",
    "\n",
    "## Context\n",
    "This report seeks to investigate Multiculturalism in Australia and America. \n",
    "\n",
    "We will invesitagte this through investigating migration, globalisation and the associated multiculturalism. \n",
    "\n",
    "Australia was developed by foreign born immigrants, who have contributed to our cultural identity, finacial prosperity and \n",
    "    1) The age group in which they arrived\n",
    "    2) The Year in which they arrived\n",
    "    3) Lastly, we will support this by utilising key statistics of  proficiency of langauge.\n",
    "\n",
    "---\n",
    "\n",
    "## Data Acquisition\n",
    "\n",
    "The Data used for Australia's Analysis was collected from the [ABS 2021 Census DataPacks](>> provide link?? ). \n",
    "\n",
    "To derive our data please select the following for the next 3 steps:\n",
    "- Census Year: **2021 Census Datapacks**\n",
    "- DataPacks Type: **General Community Profile**\n",
    "- Geography: **Australia**\n",
    "\n",
    "We will be analysiing the follo\n",
    "- **G09**: *Country of Birth of Person by Age by Sex*\n",
    "- **G10**: *Country of Birth by Year of Arrival in Australia*\n",
    "- **G13**: *Language used at home by proficiency in spoken English by sex* \n",
    "\n",
    "\n",
    "This data provides information to allow us to conduct our analysis:\n",
    "- Country of birth\n",
    "- Gender\n",
    "- Year of arrival\n",
    "- Age at immigration\n",
    "\n",
    "---\n",
    "Firstly we will read in the required packages and import the required software"
   ]
  },
  {
   "cell_type": "code",
   "execution_count": 296,
   "metadata": {},
   "outputs": [],
   "source": [
    "import csv\n",
    "import re\n",
    "import matplotlib.pyplot as plt\n",
    "import seaborn as sns\n",
    "import numpy as np\n"
   ]
  },
  {
   "cell_type": "markdown",
   "metadata": {},
   "source": [
    "# Australia\n",
    "## Data Cleaning/Conversion"
   ]
  },
  {
   "cell_type": "markdown",
   "metadata": {},
   "source": [
    "Read in all the appropriate files. Create a list for each Category, this list will hold all of the appropriate files, enabling us to iterate over these lists."
   ]
  },
  {
   "cell_type": "code",
   "execution_count": 297,
   "metadata": {},
   "outputs": [],
   "source": [
    "\n",
    "AUS_FILES = {\n",
    "    # PLACE OF BIRTH FOR THE FOREIGN-BORN POPULATION IN THE UNITED STATES\n",
    "    \"G09_FILES\": [\"AUS census Data/2021Census_G09F_AUS_AUS.csv\",\n",
    "                  \"AUS census Data/2021Census_G09G_AUS_AUS.csv\",\n",
    "                  \"AUS census Data/2021Census_G09H_AUS_AUS.csv\",\n",
    "                  ],\n",
    "    # YEAR OF ARRIVAL FOR THE FOREIGN-BORN POPULATION IN AUSTRALIA\n",
    "    \"G10_FILES\": [\"AUS census Data/2021Census_G10A_AUS_AUS.csv\",\n",
    "                  \"AUS census Data/2021Census_G10B_AUS_AUS.csv\",\n",
    "                  \"AUS census Data/2021Census_G10C_AUS_AUS.csv\"]\n",
    "}\n",
    "\n",
    "# PLACE OF BIRTH FOR THE FOREIGN-BORN POPULATION IN THE UNITED STATES\n",
    "US_FILES = {\n",
    "    \"POB_for_FB\": [\n",
    "        'US data/ACSDT1Y2019.B05006-2022-09-07T130218.csv'\n",
    "    ],\n",
    "    'Age_by_FB': ['US data/ACSDT1Y2019.B05013-2022-09-08T093031.csv']\n",
    "}"
   ]
  },
  {
   "cell_type": "markdown",
   "metadata": {},
   "source": [
    "Create function to read and organise each file."
   ]
  },
  {
   "cell_type": "code",
   "execution_count": 298,
   "metadata": {},
   "outputs": [],
   "source": [
    "filename = \"AUS census Data/2021Census_G13A_AUS_AUS.csv\"\n"
   ]
  },
  {
   "cell_type": "code",
   "execution_count": 299,
   "metadata": {},
   "outputs": [],
   "source": [
    "def read_file(filename):\n",
    "    \"\"\"\n",
    "    Reads in a file, removing the first column of each row (\"AUS_CODE_2020\"). Returns a list containing a list of every row.\n",
    "    \"\"\"\n",
    "    with open(filename, 'r') as file:\n",
    "        contents = file.readlines()\n",
    "\n",
    "    for (index, value) in enumerate(contents):\n",
    "        contents[index] = value.strip(\"\\n\").split(\",\")[1:]\n",
    "    return contents\n",
    "\n",
    "\n",
    "filename = \"AUS census Data/2021Census_G09H_AUS_AUS.csv\"\n",
    "a = read_file(filename)\n",
    "b = a[0]\n",
    "# print(b)\n"
   ]
  },
  {
   "cell_type": "markdown",
   "metadata": {},
   "source": [
    "Next we will create a dictionary to establish a key/ value pair relationship"
   ]
  },
  {
   "cell_type": "code",
   "execution_count": 300,
   "metadata": {},
   "outputs": [],
   "source": [
    "def create_dictionary(keys, value, dictionary):\n",
    "    \"\"\"\n",
    "    Takes two lists (one of keys and the other of values) and adds to specified dictionary\n",
    "    \"\"\"\n",
    "    for (index, key) in enumerate(keys):  # enumerate maintains a counter as a key for each value within an object, allowing easier access to items\n",
    "        dictionary[key] = value[index]\n",
    "    return dictionary\n"
   ]
  },
  {
   "cell_type": "markdown",
   "metadata": {},
   "source": [
    "Lets use our functions to investigate the data structure, organisation and cleaning required.\n",
    "\n",
    "Print a temp sample of the first and last 10 cells for each data file"
   ]
  },
  {
   "cell_type": "code",
   "execution_count": 301,
   "metadata": {},
   "outputs": [],
   "source": [
    "G09 = {}\n",
    "G10 = {}\n",
    "\n",
    "for file in G09_FILES:\n",
    "    temp09 = read_file(file)\n",
    "    G09 = create_dictionary(temp09[0], temp09[1], G09)\n",
    "\n",
    "for file in G10_FILES:\n",
    "    temp10 = read_file(file)\n",
    "    G10 = create_dictionary(temp10[0], temp10[1], G10)\n"
   ]
  },
  {
   "cell_type": "markdown",
   "metadata": {},
   "source": [
    "Lets observe the data we are working with:"
   ]
  },
  {
   "cell_type": "code",
   "execution_count": 302,
   "metadata": {},
   "outputs": [
    {
     "name": "stdout",
     "output_type": "stream",
     "text": [
      "Beginning of G09 headers:  ['F_Vietnam_0_4', 'F_Vietnam_5_14', 'F_Vietnam_15_24', 'F_Vietnam_25_44', 'F_Vietnam_45_54', 'F_Vietnam_55_64', 'F_Vietnam_65_74', 'F_Vietnam_75_84', 'F_Vietnam_85ov', 'F_Vietnam_Tot', 'F_Wales_0_4', 'F_Wales_5_14', 'F_Wales_15_24', 'F_Wales_25_44', 'F_Wales_45_54', 'F_Wales_55_64', 'F_Wales_65_74', 'F_Wales_75_84', 'F_Wales_85ov', 'F_Wales_Tot'] \n",
      ",\n",
      "End of G09 headers:  ['P_COB_NS_0_4', 'P_COB_NS_5_14', 'P_COB_NS_15_24', 'P_COB_NS_25_44', 'P_COB_NS_45_54', 'P_COB_NS_55_64', 'P_COB_NS_65_74', 'P_COB_NS_75_84', 'P_COB_NS_85ov', 'P_COB_NS_Tot', 'P_Tot_0_4', 'P_Tot_5_14', 'P_Tot_15_24', 'P_Tot_25_44', 'P_Tot_45_54', 'P_Tot_55_64', 'P_Tot_65_74', 'P_Tot_75_84', 'P_Tot_85ov', 'P_Tot_Tot']\n",
      "Beginning of G10 headers:  ['Afghanistan_Before_1951', 'Afghanistan_1951_1960', 'Afghanistan_1961_1970', 'Afghanistan_1971_1980', 'Afghanistan_1981_1990', 'Afghanistan_1991_2000', 'Afghanistan_2001_2010', 'Afghanistan_2011_2015', 'Afghanistan_2016', 'Afghanistan_2017', 'Afghanistan_2018', 'Afghanistan_2019', 'Afghanistan_2020', 'Afghanistan_2021', 'Afghanistan_Yr_arrival_NS', 'Afghanistan_Tot', 'Bangladesh_Before_1951', 'Bangladesh_1951_1960', 'Bangladesh_1961_1970', 'Bangladesh_1971_1980'] \n",
      ",\n",
      "End of G10 headers:  ['Born_elsewhere_2020', 'Born_elsewhere_2021', 'Born_elsewhere_Yr_arrival_ns', 'Born_elsewhere_Tot', 'Tot_Before_1951', 'Tot_1951_1960', 'Tot_1961_1970', 'Tot_1971_1980', 'Tot_1981_1990', 'Tot_1991_2000', 'Tot_2001_2010', 'Tot_2011_2015', 'Tot_2016', 'Tot_2017', 'Tot_2018', 'Tot_2019', 'Tot_2020', 'Tot_2021', 'Tot_Yr_arrival_NS', 'Tot_Tot']\n"
     ]
    }
   ],
   "source": [
    "print(\"Beginning of G09 headers: \", list(G09)[\n",
    "      :20], '\\n,' \"\\nEnd of G09 headers: \", list(G09)[len(G09)-20:])\n",
    "print(\"Beginning of G10 headers: \", list(G10)[\n",
    "      :20], '\\n,' \"\\nEnd of G10 headers: \", list(G10)[len(G10)-20:])\n"
   ]
  },
  {
   "cell_type": "code",
   "execution_count": 303,
   "metadata": {},
   "outputs": [],
   "source": [
    "def clean_dictionary(from_dictionary):\n",
    "    G09_Total = {}\n",
    "    G09_AusPop = {}\n",
    "    for (key, value) in from_dictionary.items():\n",
    "        if \"Australia\" in key:\n",
    "            G09_AusPop[key] = int(value)\n",
    "        elif key[0] == \"P\":\n",
    "            G09_Total[key] = int(value)\n",
    "    return G09_Total, G09_AusPop\n"
   ]
  },
  {
   "cell_type": "code",
   "execution_count": 304,
   "metadata": {},
   "outputs": [
    {
     "name": "stdout",
     "output_type": "stream",
     "text": [
      "\n",
      "\n",
      "{'P_Australia_0_4': 1362761, 'P_Australia_5_14': 2711665, 'P_Australia_15_24': 2304028, 'P_Australia_25_44': 4157739, 'P_Australia_45_54': 2044555, 'P_Australia_55_64': 1861530, 'P_Australia_65_74': 1488499, 'P_Australia_75_84': 785817, 'P_Australia_85ov': 303836, 'P_Australia_Tot': 17020422}\n"
     ]
    }
   ],
   "source": [
    "G09_Total, G09_AusPop = clean_dictionary(G09)\n",
    "# print(G09_Total)\n",
    "print(\"\\n\")\n",
    "print(G09_AusPop)\n"
   ]
  },
  {
   "cell_type": "code",
   "execution_count": 305,
   "metadata": {},
   "outputs": [],
   "source": [
    "def dictionary_by_country(dct):\n",
    "    \"\"\"\n",
    "    Splits G09 by country. Returns dictionary containing dictionaries of countries for each age group\n",
    "    \"\"\"\n",
    "    tmp_dct = {}\n",
    "\n",
    "    start = 0        # first index\n",
    "    stop = 10        # each country has 10 entries\n",
    "\n",
    "    dct_lst = list(dct.items())\n",
    "\n",
    "    while stop <= len(dct):\n",
    "        country_dct = {}\n",
    "        country_name = dct_lst[start][0].replace(\"_0_4\", '').replace(\"P_\", '')\n",
    "\n",
    "        # Create the associated age groups\n",
    "        for i in range(start, stop):\n",
    "            key = dct_lst[i][0].replace(country_name, '').replace(\n",
    "                \"P__\", '').replace(\"_\", '-')\n",
    "            value = int(dct_lst[i][1])\n",
    "            country_dct[key] = value\n",
    "\n",
    "        # create the country Name\n",
    "        tmp_dct[country_name] = country_dct\n",
    "\n",
    "        start += 10\n",
    "        stop += 10\n",
    "    return tmp_dct\n"
   ]
  },
  {
   "cell_type": "markdown",
   "metadata": {},
   "source": [
    "Lets Observe our data:"
   ]
  },
  {
   "cell_type": "code",
   "execution_count": 306,
   "metadata": {},
   "outputs": [
    {
     "name": "stdout",
     "output_type": "stream",
     "text": [
      "['Afghanistan', 'Bangladesh', 'Bosnia_Herzegov', 'Brazil', 'Cambodia', 'Canada', 'Chile', 'China', 'Croatia', 'Egypt', 'England', 'Fiji', 'France', 'Germany', 'Greece', 'Hong_Kong_SAR_Ch', 'India', 'Indonesia', 'Iran', 'Iraq', 'Ireland', 'Italy', 'Japan', 'Korea_South', 'Lebanon', 'Malaysia', 'Malta', 'Mauritius', 'Myanmar', 'Nepal', 'Netherlands', 'New_Zealand', 'North_Macedonia', 'Pakistan', 'PNG', 'Philippines', 'Poland', 'Samoa', 'Scotland', 'Singapore', 'South_Africa', 'Sri_Lanka', 'Taiwan', 'Thailand', 'Turkey', 'USA', 'Vietnam', 'Wales', 'Zimbabwe', 'Elsewhere', 'COB_NS', 'Tot']\n",
      "{'Afghanistan': {'0-4': 322, '5-14': 3896, '15-24': 9223, '25-44': 30560, '45-54': 8467, '55-64': 4585, '65-74': 2012, '75-84': 602, '85ov': 135, 'Tot': 59797}, 'Bangladesh': {'0-4': 333, '5-14': 2982, '15-24': 4281, '25-44': 31695, '45-54': 6876, '55-64': 3482, '65-74': 1560, '75-84': 254, '85ov': 33, 'Tot': 51491}, 'Bosnia_Herzegov': {'0-4': 17, '5-14': 123, '15-24': 400, '25-44': 8709, '45-54': 4340, '55-64': 6289, '65-74': 3815, '75-84': 1952, '85ov': 522, 'Tot': 26171}, 'Brazil': {'0-4': 207, '5-14': 1496, '15-24': 2882, '25-44': 35170, '45-54': 4136, '55-64': 1712, '65-74': 765, '75-84': 287, '85ov': 69, 'Tot': 46720}, 'Cambodia': {'0-4': 181, '5-14': 1091, '15-24': 2921, '25-44': 13229, '45-54': 7942, '55-64': 6785, '65-74': 4665, '75-84': 1671, '85ov': 556, 'Tot': 39043}, 'Canada': {'0-4': 727, '5-14': 2944, '15-24': 3415, '25-44': 20124, '45-54': 9061, '55-64': 7045, '65-74': 4601, '75-84': 1855, '85ov': 451, 'Tot': 50223}, 'Chile': {'0-4': 105, '5-14': 528, '15-24': 846, '25-44': 9410, '45-54': 5608, '55-64': 5146, '65-74': 4838, '75-84': 2885, '85ov': 496, 'Tot': 29860}, 'China': {'0-4': 1875, '5-14': 20206, '15-24': 56384, '25-44': 243970, '45-54': 74649, '55-64': 76298, '65-74': 48562, '75-84': 18472, '85ov': 9196, 'Tot': 549618}, 'Croatia': {'0-4': 14, '5-14': 146, '15-24': 245, '25-44': 5102, '45-54': 4225, '55-64': 8867, '65-74': 10842, '75-84': 10215, '85ov': 3652, 'Tot': 43302}, 'Egypt': {'0-4': 279, '5-14': 2799, '15-24': 3073, '25-44': 10951, '45-54': 4148, '55-64': 6220, '65-74': 8097, '75-84': 5533, '85ov': 2119, 'Tot': 43213}, 'England': {'0-4': 3057, '5-14': 30418, '15-24': 50526, '25-44': 163957, '45-54': 144491, '55-64': 196480, '65-74': 170659, '75-84': 124330, '85ov': 43567, 'Tot': 927490}, 'Fiji': {'0-4': 110, '5-14': 1307, '15-24': 3611, '25-44': 24683, '45-54': 14288, '55-64': 13120, '65-74': 7787, '75-84': 3265, '85ov': 774, 'Tot': 68947}, 'France': {'0-4': 242, '5-14': 1510, '15-24': 2289, '25-44': 17282, '45-54': 5096, '55-64': 4109, '65-74': 3083, '75-84': 1689, '85ov': 711, 'Tot': 36019}, 'Germany': {'0-4': 340, '5-14': 1523, '15-24': 3222, '25-44': 19380, '45-54': 11341, '55-64': 12992, '65-74': 25494, '75-84': 19779, '85ov': 7191, 'Tot': 101255}, 'Greece': {'0-4': 80, '5-14': 944, '15-24': 1857, '25-44': 4963, '45-54': 4934, '55-64': 12371, '65-74': 22597, '75-84': 30866, '85ov': 13699, 'Tot': 92314}, 'Hong_Kong_SAR_Ch': {'0-4': 902, '5-14': 5773, '15-24': 10069, '25-44': 36190, '45-54': 12546, '55-64': 17143, '65-74': 13686, '75-84': 2884, '85ov': 950, 'Tot': 100148}, 'India': {'0-4': 6597, '5-14': 43134, '15-24': 64295, '25-44': 415298, '45-54': 65098, '55-64': 36640, '65-74': 25804, '75-84': 12394, '85ov': 4097, 'Tot': 673352}, 'Indonesia': {'0-4': 540, '5-14': 3110, '15-24': 10714, '25-44': 40151, '45-54': 13752, '55-64': 7533, '65-74': 7421, '75-84': 2922, '85ov': 928, 'Tot': 87075}, 'Iran': {'0-4': 240, '5-14': 3984, '15-24': 6283, '25-44': 37259, '45-54': 9820, '55-64': 6729, '65-74': 4222, '75-84': 1769, '85ov': 586, 'Tot': 70899}, 'Iraq': {'0-4': 326, '5-14': 8162, '15-24': 11264, '25-44': 34962, '45-54': 16142, '55-64': 11979, '65-74': 6499, '75-84': 2756, '85ov': 838, 'Tot': 92922}, 'Ireland': {'0-4': 263, '5-14': 3625, '15-24': 3604, '25-44': 35143, '45-54': 11279, '55-64': 9628, '65-74': 8851, '75-84': 6145, '85ov': 2390, 'Tot': 80927}, 'Italy': {'0-4': 156, '5-14': 1329, '15-24': 2267, '25-44': 18727, '45-54': 8373, '55-64': 20939, '65-74': 43109, '75-84': 42025, '85ov': 26388, 'Tot': 163326}, 'Japan': {'0-4': 591, '5-14': 2884, '15-24': 4002, '25-44': 18767, '45-54': 10695, '55-64': 4524, '65-74': 2516, '75-84': 906, '85ov': 374, 'Tot': 45267}, 'Korea_South': {'0-4': 565, '5-14': 4447, '15-24': 9046, '25-44': 51549, '45-54': 18385, '55-64': 10032, '65-74': 5024, '75-84': 2400, '85ov': 651, 'Tot': 102092}, 'Lebanon': {'0-4': 423, '5-14': 1673, '15-24': 2905, '25-44': 21044, '45-54': 18111, '55-64': 19937, '65-74': 14478, '75-84': 6869, '85ov': 1904, 'Tot': 87340}, 'Malaysia': {'0-4': 793, '5-14': 7053, '15-24': 17135, '25-44': 65508, '45-54': 23979, '55-64': 21930, '65-74': 19804, '75-84': 7642, '85ov': 1770, 'Tot': 165616}, 'Malta': {'0-4': 14, '5-14': 81, '15-24': 190, '25-44': 1158, '45-54': 1483, '55-64': 5357, '65-74': 13930, '75-84': 10068, '85ov': 3141, 'Tot': 35413}, 'Mauritius': {'0-4': 24, '5-14': 376, '15-24': 1707, '25-44': 8854, '45-54': 3219, '55-64': 4867, '65-74': 4117, '75-84': 1990, '85ov': 831, 'Tot': 25981}, 'Myanmar': {'0-4': 77, '5-14': 1057, '15-24': 4372, '25-44': 17519, '45-54': 6302, '55-64': 4512, '65-74': 3284, '75-84': 1418, '85ov': 628, 'Tot': 39171}, 'Nepal': {'0-4': 284, '5-14': 2528, '15-24': 31008, '25-44': 82591, '45-54': 3831, '55-64': 1462, '65-74': 650, '75-84': 131, '85ov': 16, 'Tot': 122506}, 'Netherlands': {'0-4': 177, '5-14': 1056, '15-24': 1648, '25-44': 7136, '45-54': 5764, '55-64': 7597, '65-74': 20908, '75-84': 16086, '85ov': 6105, 'Tot': 66481}, 'New_Zealand': {'0-4': 3797, '5-14': 31331, '15-24': 53472, '25-44': 169380, '45-54': 97071, '55-64': 88279, '65-74': 58826, '75-84': 23032, '85ov': 5304, 'Tot': 530492}, 'North_Macedonia': {'0-4': 29, '5-14': 253, '15-24': 628, '25-44': 6873, '45-54': 6139, '55-64': 9336, '65-74': 11243, '75-84': 5502, '85ov': 1794, 'Tot': 41786}, 'Pakistan': {'0-4': 1339, '5-14': 10249, '15-24': 11196, '25-44': 51512, '45-54': 8195, '55-64': 4262, '65-74': 2207, '75-84': 544, '85ov': 125, 'Tot': 89633}, 'PNG': {'0-4': 86, '5-14': 1056, '15-24': 2686, '25-44': 7084, '45-54': 9073, '55-64': 5854, '65-74': 3005, '75-84': 825, '85ov': 311, 'Tot': 29984}, 'Philippines': {'0-4': 1493, '5-14': 16816, '15-24': 30705, '25-44': 123444, '45-54': 51342, '55-64': 38898, '65-74': 23800, '75-84': 5954, '85ov': 1435, 'Tot': 293892}, 'Poland': {'0-4': 59, '5-14': 445, '15-24': 652, '25-44': 11569, '45-54': 5970, '55-64': 7814, '65-74': 11377, '75-84': 4662, '85ov': 3335, 'Tot': 45884}, 'Samoa': {'0-4': 78, '5-14': 1342, '15-24': 2852, '25-44': 8350, '45-54': 5932, '55-64': 5548, '65-74': 2951, '75-84': 912, '85ov': 145, 'Tot': 28107}, 'Scotland': {'0-4': 199, '5-14': 2551, '15-24': 4696, '25-44': 19009, '45-54': 16799, '55-64': 25460, '65-74': 25713, '75-84': 17937, '85ov': 6125, 'Tot': 118496}, 'Singapore': {'0-4': 750, '5-14': 6044, '15-24': 7924, '25-44': 19412, '45-54': 9593, '55-64': 7980, '65-74': 6630, '75-84': 2168, '85ov': 561, 'Tot': 61056}, 'South_Africa': {'0-4': 1059, '5-14': 10760, '15-24': 20334, '25-44': 61441, '45-54': 40265, '55-64': 27128, '65-74': 17796, '75-84': 8131, '85ov': 2297, 'Tot': 189207}, 'Sri_Lanka': {'0-4': 604, '5-14': 5585, '15-24': 11067, '25-44': 55190, '45-54': 21173, '55-64': 17521, '65-74': 12862, '75-84': 5913, '85ov': 1992, 'Tot': 131904}, 'Taiwan': {'0-4': 476, '5-14': 1862, '15-24': 3014, '25-44': 30873, '45-54': 5198, '55-64': 3595, '65-74': 3601, '75-84': 769, '85ov': 121, 'Tot': 49511}, 'Thailand': {'0-4': 706, '5-14': 6098, '15-24': 10270, '25-44': 43902, '45-54': 13014, '55-64': 6263, '65-74': 2808, '75-84': 595, '85ov': 116, 'Tot': 83779}, 'Turkey': {'0-4': 180, '5-14': 975, '15-24': 1141, '25-44': 10916, '45-54': 9056, '55-64': 8376, '65-74': 4631, '75-84': 2732, '85ov': 565, 'Tot': 38568}, 'USA': {'0-4': 2699, '5-14': 10669, '15-24': 11403, '25-44': 34600, '45-54': 13936, '55-64': 12566, '65-74': 10511, '75-84': 4122, '85ov': 798, 'Tot': 101309}, 'Vietnam': {'0-4': 919, '5-14': 7196, '15-24': 19709, '25-44': 83513, '45-54': 55467, '55-64': 50109, '65-74': 28938, '75-84': 8473, '85ov': 3672, 'Tot': 257997}, 'Wales': {'0-4': 57, '5-14': 750, '15-24': 1453, '25-44': 6144, '45-54': 4971, '55-64': 5851, '65-74': 5215, '75-84': 3590, '85ov': 1222, 'Tot': 29250}, 'Zimbabwe': {'0-4': 102, '5-14': 1093, '15-24': 4327, '25-44': 14685, '45-54': 8525, '55-64': 6479, '65-74': 3344, '75-84': 938, '85ov': 223, 'Tot': 39714}, 'Elsewhere': {'0-4': 5221, '5-14': 39436, '15-24': 59144, '25-44': 271238, '45-54': 114021, '55-64': 102923, '65-74': 87171, '75-84': 57073, '85ov': 22942, 'Tot': 759173}, 'COB_NS': {'0-4': 61345, '5-14': 145841, '15-24': 150994, '25-44': 394515, '45-54': 168253, '55-64': 157912, '65-74': 134407, '75-84': 94757, '85ov': 50649, 'Tot': 1358658}, 'Tot': {'0-4': 1463817, '5-14': 3174191, '15-24': 3037348, '25-44': 7112427, '45-54': 3246908, '55-64': 3010014, '65-74': 2459233, '75-84': 1376519, '85ov': 542342, '': 25422788}}\n"
     ]
    }
   ],
   "source": [
    "G09_Complete = (dictionary_by_country(G09_Total))\n",
    "print(list(G09_Complete))\n",
    "print(G09_Complete)\n"
   ]
  },
  {
   "cell_type": "code",
   "execution_count": 307,
   "metadata": {},
   "outputs": [
    {
     "name": "stdout",
     "output_type": "stream",
     "text": [
      "['Afghanistan_Before_1951', 'Afghanistan_1951_1960', 'Afghanistan_1961_1970', 'Afghanistan_1971_1980', 'Afghanistan_1981_1990', 'Afghanistan_1991_2000', 'Afghanistan_2001_2010', 'Afghanistan_2011_2015', 'Afghanistan_2016', 'Afghanistan_2017', 'Afghanistan_2018', 'Afghanistan_2019', 'Afghanistan_2020', 'Afghanistan_2021', 'Afghanistan_Yr_arrival_NS', 'Afghanistan_Tot']\n"
     ]
    }
   ],
   "source": [
    "print(list(G10)[0:16])\n"
   ]
  },
  {
   "cell_type": "code",
   "execution_count": 308,
   "metadata": {},
   "outputs": [],
   "source": [
    "def sum_years(dct):\n",
    "    \"\"\"\n",
    "    Create 3 lists \n",
    "        - 1950 - 2000: Sums values from 1950 years before to 2000 and adds to dictionary, removing the original values\n",
    "        - 2000 - 2010 \n",
    "        - 2010 - 2020L Sums values from 2011 to 2020, removing the original values\n",
    "    \"\"\"\n",
    "    tmp_dct = {}\n",
    "\n",
    "    start = 1            # first index\n",
    "    sum_start_2000 = 5\n",
    "    sum_start_2010 = 9\n",
    "    sum_start_2010 = 10  # begin adding of countries\n",
    "    end_year_2020 = 14  # end adding of countries\n",
    "    stop = 14\n",
    "\n",
    "    dct_lst = list(dct.items())\n",
    "\n",
    "    while stop <= len(dct):\n",
    "        for i in range(start, sum_start):\n",
    "            key = dct_lst[i][0]\n",
    "            value = int(dct_lst[i][1])\n",
    "            tmp_dct[key] = value\n",
    "\n",
    "        # between 2000 and 2010\n",
    "        total_sum = 0\n",
    "        for j in range(sum_start_2000, sum_start_2010):\n",
    "            total_sum += int(dct_lst[j][1])\n",
    "\n",
    "        # betweem 2010 and 2020\n",
    "        total_sum = 0\n",
    "        for j in range(sum_start_2010, end_year_2020):\n",
    "            total_sum += int(dct_lst[j][1])\n",
    "\n",
    "        key = dct_lst[sum_start][0].replace(\n",
    "            \"2010\", \"2020\").replace(\"_10\", \"_20\")\n",
    "        tmp_dct[key] = total_sum\n",
    "\n",
    "        start += 14\n",
    "        sum_start_2000 += 14\n",
    "        stop += 14\n",
    "\n",
    "    return tmp_dct\n"
   ]
  },
  {
   "cell_type": "markdown",
   "metadata": {},
   "source": [
    "# America\n",
    "## Data Cleaning/Conversion"
   ]
  },
  {
   "cell_type": "code",
   "execution_count": 309,
   "metadata": {},
   "outputs": [],
   "source": [
    "def read_file_list(file: str) -> list:\n",
    "    with open(file) as fin:\n",
    "        __reader = list(csv.reader(fin, delimiter=','))\n",
    "    return __reader"
   ]
  },
  {
   "cell_type": "code",
   "execution_count": 310,
   "metadata": {},
   "outputs": [],
   "source": [
    "read_file_list(US_FILES['Age_by_FB'][0]);"
   ]
  },
  {
   "cell_type": "code",
   "execution_count": 311,
   "metadata": {},
   "outputs": [],
   "source": [
    "def clean_Name(name: str) -> str:\n",
    "    return ' '.join(re.findall(r'\\w+', name.replace('_', ' ')))\n"
   ]
  },
  {
   "cell_type": "code",
   "execution_count": 312,
   "metadata": {},
   "outputs": [],
   "source": [
    "#\n",
    "def create_dictionary_Sex(data_raw_list: list) -> list:\n",
    "    Original_len = len(data_raw_list)\n",
    "    data_raw_list\n",
    "    #male_index = data_list.index('Male')\n",
    "    #\n",
    "    Sex = {}\n",
    "    header_list = []\n",
    "    value_list = []\n",
    "    for item in data_raw_list[1:]:\n",
    "        header_list.append(clean_Name(item[0]))\n",
    "        value_list.append(int(item[1].replace(',', '')))\n",
    "        \n",
    "\n",
    "    male_index = header_list.index('Male')\n",
    "    female_index = header_list.index('Female')\n",
    "    \n",
    "    data_dict = [header_list,value_list]\n",
    "    \n",
    "    return [male_index,female_index], data_dict\n",
    "    \n",
    "    \n"
   ]
  },
  {
   "cell_type": "code",
   "execution_count": 313,
   "metadata": {},
   "outputs": [],
   "source": [
    "Slice_list, Us_Age = create_dictionary_Sex(read_file_list(US_FILES['Age_by_FB'][0]))"
   ]
  },
  {
   "cell_type": "code",
   "execution_count": 314,
   "metadata": {},
   "outputs": [],
   "source": [
    "def Sex_distro(slice_dic:list , Us_age:list):\n",
    "    print(len(Us_age))\n",
    "    male = {}\n",
    "    female = {}\n",
    "    male['Header'] =Us_age[0][slice_dic[0]+1: slice_dic[1]]\n",
    "    male['Value'] = Us_age[1][slice_dic[0]+1: slice_dic[1]]\n",
    "    \n",
    "    female['Header'] = Us_age[0][slice_dic[1]+1:]\n",
    "    female['Value'] =  Us_age[1][slice_dic[1]+1:]\n",
    "    \n",
    "    return male, female"
   ]
  },
  {
   "cell_type": "code",
   "execution_count": 315,
   "metadata": {},
   "outputs": [
    {
     "name": "stdout",
     "output_type": "stream",
     "text": [
      "2\n"
     ]
    },
    {
     "data": {
      "text/plain": [
       "({'Header': ['Under 5 years',\n",
       "   '5 to 9 years',\n",
       "   '10 to 14 years',\n",
       "   '15 to 19 years',\n",
       "   '20 to 24 years',\n",
       "   '25 to 29 years',\n",
       "   '30 to 34 years',\n",
       "   '35 to 39 years',\n",
       "   '40 to 44 years',\n",
       "   '45 to 49 years',\n",
       "   '50 to 54 years',\n",
       "   '55 to 59 years',\n",
       "   '60 to 64 years',\n",
       "   '65 to 69 years',\n",
       "   '70 to 74 years',\n",
       "   '75 to 79 years',\n",
       "   '80 to 84 years',\n",
       "   '85 years and over'],\n",
       "  'Value': [150784,\n",
       "   333645,\n",
       "   453483,\n",
       "   712002,\n",
       "   1107335,\n",
       "   1579068,\n",
       "   2029258,\n",
       "   2276486,\n",
       "   2287544,\n",
       "   2257739,\n",
       "   2032516,\n",
       "   1779509,\n",
       "   1483042,\n",
       "   1114119,\n",
       "   840434,\n",
       "   556890,\n",
       "   360343,\n",
       "   312162]},\n",
       " {'Header': ['Under 5 years',\n",
       "   '5 to 9 years',\n",
       "   '10 to 14 years',\n",
       "   '15 to 19 years',\n",
       "   '20 to 24 years',\n",
       "   '25 to 29 years',\n",
       "   '30 to 34 years',\n",
       "   '35 to 39 years',\n",
       "   '40 to 44 years',\n",
       "   '45 to 49 years',\n",
       "   '50 to 54 years',\n",
       "   '55 to 59 years',\n",
       "   '60 to 64 years',\n",
       "   '65 to 69 years',\n",
       "   '70 to 74 years',\n",
       "   '75 to 79 years',\n",
       "   '80 to 84 years',\n",
       "   '85 years and over'],\n",
       "  'Value': [147500,\n",
       "   319394,\n",
       "   423496,\n",
       "   687784,\n",
       "   1043586,\n",
       "   1552271,\n",
       "   2012380,\n",
       "   2298645,\n",
       "   2381613,\n",
       "   2373564,\n",
       "   2129237,\n",
       "   1922055,\n",
       "   1652189,\n",
       "   1340769,\n",
       "   1066298,\n",
       "   775901,\n",
       "   563156,\n",
       "   576704]})"
      ]
     },
     "execution_count": 315,
     "metadata": {},
     "output_type": "execute_result"
    }
   ],
   "source": [
    "Sex_distro(Slice_list,Us_Age)"
   ]
  },
  {
   "cell_type": "code",
   "execution_count": 316,
   "metadata": {},
   "outputs": [
    {
     "name": "stdout",
     "output_type": "stream",
     "text": [
      "2\n"
     ]
    },
    {
     "data": {
      "image/png": "[encoded data removed]",
      "image/svg+xml": "<?xml version=\"1.0\" encoding=\"utf-8\" standalone=\"no\"?>\n<!DOCTYPE svg PUBLIC \"-//W3C//DTD SVG 1.1//EN\"\n  \"http://www.w3.org/Graphics/SVG/1.1/DTD/svg11.dtd\">\n<svg xmlns:xlink=\"http://www.w3.org/1999/xlink\" width=\"595.303125pt\" height=\"727.895312pt\" viewBox=\"0 0 595.303125 727.895312\" xmlns=\"http://www.w3.org/2000/svg\" version=\"1.1\">\n <metadata>\n  <rdf:RDF xmlns:dc=\"http://purl.org/dc/elements/1.1/\" xmlns:cc=\"http://creativecommons.org/ns#\" xmlns:rdf=\"http://www.w3.org/1999/02/22-rdf-syntax-ns#\">\n   <cc:Work>\n    <dc:type rdf:resource=\"http://purl.org/dc/dcmitype/StillImage\"/>\n    <dc:date>2022-09-08T21:17:05.370875</dc:date>\n    <dc:format>image/svg+xml</dc:format>\n    <dc:creator>\n     <cc:Agent>\n      <dc:title>Matplotlib v3.5.3, https://matplotlib.org/</dc:title>\n     </cc:Agent>\n    </dc:creator>\n   </cc:Work>\n  </rdf:RDF>\n </metadata>\n <defs>\n  <style type=\"text/css\">*{stroke-linejoin: round; stroke-linecap: butt}</style>\n </defs>\n <g id=\"figure_1\">\n  <g id=\"patch_1\">\n   <path d=\"M -0 727.895312 \nL 595.303125 727.895312 \nL 595.303125 0 \nL -0 0 \nL -0 727.895312 \nz\n\" style=\"fill: none\"/>\n  </g>\n  <g id=\"axes_1\">\n   <g id=\"patch_2\">\n    <path d=\"M 30.103125 622.8 \nL 283.739489 622.8 \nL 283.739489 79.2 \nL 30.103125 79.2 \nz\n\" style=\"fill: #ffffff\"/>\n   </g>\n   <g id=\"patch_3\">\n    <path d=\"M 41.632051 622.8 \nL 51.99513 622.8 \nL 51.99513 588.674741 \nL 41.632051 588.674741 \nz\n\" clip-path=\"url(#p42c54ae2df)\" style=\"fill: #00ffff\"/>\n   </g>\n   <g id=\"patch_4\">\n    <path d=\"M 54.5859 622.8 \nL 64.948979 622.8 \nL 64.948979 547.289853 \nL 54.5859 547.289853 \nz\n\" clip-path=\"url(#p42c54ae2df)\" style=\"fill: #00ffff\"/>\n   </g>\n   <g id=\"patch_5\">\n    <path d=\"M 67.539749 622.8 \nL 77.902828 622.8 \nL 77.902828 520.168257 \nL 67.539749 520.168257 \nz\n\" clip-path=\"url(#p42c54ae2df)\" style=\"fill: #00ffff\"/>\n   </g>\n   <g id=\"patch_6\">\n    <path d=\"M 80.493598 622.8 \nL 90.856677 622.8 \nL 90.856677 461.660539 \nL 80.493598 461.660539 \nz\n\" clip-path=\"url(#p42c54ae2df)\" style=\"fill: #00ffff\"/>\n   </g>\n   <g id=\"patch_7\">\n    <path d=\"M 93.447447 622.8 \nL 103.810526 622.8 \nL 103.810526 372.189236 \nL 93.447447 372.189236 \nz\n\" clip-path=\"url(#p42c54ae2df)\" style=\"fill: #00ffff\"/>\n   </g>\n   <g id=\"patch_8\">\n    <path d=\"M 106.401296 622.8 \nL 116.764375 622.8 \nL 116.764375 265.427175 \nL 106.401296 265.427175 \nz\n\" clip-path=\"url(#p42c54ae2df)\" style=\"fill: #00ffff\"/>\n   </g>\n   <g id=\"patch_9\">\n    <path d=\"M 119.355145 622.8 \nL 129.718224 622.8 \nL 129.718224 163.5407 \nL 119.355145 163.5407 \nz\n\" clip-path=\"url(#p42c54ae2df)\" style=\"fill: #00ffff\"/>\n   </g>\n   <g id=\"patch_10\">\n    <path d=\"M 132.308994 622.8 \nL 142.672073 622.8 \nL 142.672073 107.588348 \nL 132.308994 107.588348 \nz\n\" clip-path=\"url(#p42c54ae2df)\" style=\"fill: #00ffff\"/>\n   </g>\n   <g id=\"patch_11\">\n    <path d=\"M 145.262843 622.8 \nL 155.625922 622.8 \nL 155.625922 105.085714 \nL 145.262843 105.085714 \nz\n\" clip-path=\"url(#p42c54ae2df)\" style=\"fill: #00ffff\"/>\n   </g>\n   <g id=\"patch_12\">\n    <path d=\"M 158.216692 622.8 \nL 168.579771 622.8 \nL 168.579771 111.831147 \nL 158.216692 111.831147 \nz\n\" clip-path=\"url(#p42c54ae2df)\" style=\"fill: #00ffff\"/>\n   </g>\n   <g id=\"patch_13\">\n    <path d=\"M 171.170541 622.8 \nL 181.53362 622.8 \nL 181.53362 162.803353 \nL 171.170541 162.803353 \nz\n\" clip-path=\"url(#p42c54ae2df)\" style=\"fill: #00ffff\"/>\n   </g>\n   <g id=\"patch_14\">\n    <path d=\"M 184.12439 622.8 \nL 194.487469 622.8 \nL 194.487469 220.063602 \nL 184.12439 220.063602 \nz\n\" clip-path=\"url(#p42c54ae2df)\" style=\"fill: #00ffff\"/>\n   </g>\n   <g id=\"patch_15\">\n    <path d=\"M 197.078239 622.8 \nL 207.441318 622.8 \nL 207.441318 287.159667 \nL 197.078239 287.159667 \nz\n\" clip-path=\"url(#p42c54ae2df)\" style=\"fill: #00ffff\"/>\n   </g>\n   <g id=\"patch_16\">\n    <path d=\"M 210.032088 622.8 \nL 220.395167 622.8 \nL 220.395167 370.653889 \nL 210.032088 370.653889 \nz\n\" clip-path=\"url(#p42c54ae2df)\" style=\"fill: #00ffff\"/>\n   </g>\n   <g id=\"patch_17\">\n    <path d=\"M 222.985937 622.8 \nL 233.349016 622.8 \nL 233.349016 432.593959 \nL 222.985937 432.593959 \nz\n\" clip-path=\"url(#p42c54ae2df)\" style=\"fill: #00ffff\"/>\n   </g>\n   <g id=\"patch_18\">\n    <path d=\"M 235.939786 622.8 \nL 246.302865 622.8 \nL 246.302865 496.765306 \nL 235.939786 496.765306 \nz\n\" clip-path=\"url(#p42c54ae2df)\" style=\"fill: #00ffff\"/>\n   </g>\n   <g id=\"patch_19\">\n    <path d=\"M 248.893635 622.8 \nL 259.256714 622.8 \nL 259.256714 541.247593 \nL 248.893635 541.247593 \nz\n\" clip-path=\"url(#p42c54ae2df)\" style=\"fill: #00ffff\"/>\n   </g>\n   <g id=\"patch_20\">\n    <path d=\"M 261.847484 622.8 \nL 272.210563 622.8 \nL 272.210563 552.151861 \nL 261.847484 552.151861 \nz\n\" clip-path=\"url(#p42c54ae2df)\" style=\"fill: #00ffff\"/>\n   </g>\n   <g id=\"matplotlib.axis_1\">\n    <g id=\"xtick_1\">\n     <g id=\"line2d_1\">\n      <defs>\n       <path id=\"mf7632b84ef\" d=\"M 0 0 \nL 0 3.5 \n\" style=\"stroke: #000000; stroke-width: 0.8\"/>\n      </defs>\n      <g>\n       <use xlink:href=\"#mf7632b84ef\" x=\"46.81359\" y=\"622.8\" style=\"stroke: #000000; stroke-width: 0.8\"/>\n      </g>\n     </g>\n     <g id=\"text_1\">\n      <!-- Under 5 years -->\n      <g transform=\"translate(11.559684 637.398437)scale(0.1 -0.1)\">\n       <defs>\n        <path id=\"DejaVuSans-55\" d=\"M 556 4666 \nL 1191 4666 \nL 1191 1831 \nQ 1191 1081 1462 751 \nQ 1734 422 2344 422 \nQ 2950 422 3222 751 \nQ 3494 1081 3494 1831 \nL 3494 4666 \nL 4128 4666 \nL 4128 1753 \nQ 4128 841 3676 375 \nQ 3225 -91 2344 -91 \nQ 1459 -91 1007 375 \nQ 556 841 556 1753 \nL 556 4666 \nz\n\" transform=\"scale(0.015625)\"/>\n        <path id=\"DejaVuSans-6e\" d=\"M 3513 2113 \nL 3513 0 \nL 2938 0 \nL 2938 2094 \nQ 2938 2591 2744 2837 \nQ 2550 3084 2163 3084 \nQ 1697 3084 1428 2787 \nQ 1159 2491 1159 1978 \nL 1159 0 \nL 581 0 \nL 581 3500 \nL 1159 3500 \nL 1159 2956 \nQ 1366 3272 1645 3428 \nQ 1925 3584 2291 3584 \nQ 2894 3584 3203 3211 \nQ 3513 2838 3513 2113 \nz\n\" transform=\"scale(0.015625)\"/>\n        <path id=\"DejaVuSans-64\" d=\"M 2906 2969 \nL 2906 4863 \nL 3481 4863 \nL 3481 0 \nL 2906 0 \nL 2906 525 \nQ 2725 213 2448 61 \nQ 2172 -91 1784 -91 \nQ 1150 -91 751 415 \nQ 353 922 353 1747 \nQ 353 2572 751 3078 \nQ 1150 3584 1784 3584 \nQ 2172 3584 2448 3432 \nQ 2725 3281 2906 2969 \nz\nM 947 1747 \nQ 947 1113 1208 752 \nQ 1469 391 1925 391 \nQ 2381 391 2643 752 \nQ 2906 1113 2906 1747 \nQ 2906 2381 2643 2742 \nQ 2381 3103 1925 3103 \nQ 1469 3103 1208 2742 \nQ 947 2381 947 1747 \nz\n\" transform=\"scale(0.015625)\"/>\n        <path id=\"DejaVuSans-65\" d=\"M 3597 1894 \nL 3597 1613 \nL 953 1613 \nQ 991 1019 1311 708 \nQ 1631 397 2203 397 \nQ 2534 397 2845 478 \nQ 3156 559 3463 722 \nL 3463 178 \nQ 3153 47 2828 -22 \nQ 2503 -91 2169 -91 \nQ 1331 -91 842 396 \nQ 353 884 353 1716 \nQ 353 2575 817 3079 \nQ 1281 3584 2069 3584 \nQ 2775 3584 3186 3129 \nQ 3597 2675 3597 1894 \nz\nM 3022 2063 \nQ 3016 2534 2758 2815 \nQ 2500 3097 2075 3097 \nQ 1594 3097 1305 2825 \nQ 1016 2553 972 2059 \nL 3022 2063 \nz\n\" transform=\"scale(0.015625)\"/>\n        <path id=\"DejaVuSans-72\" d=\"M 2631 2963 \nQ 2534 3019 2420 3045 \nQ 2306 3072 2169 3072 \nQ 1681 3072 1420 2755 \nQ 1159 2438 1159 1844 \nL 1159 0 \nL 581 0 \nL 581 3500 \nL 1159 3500 \nL 1159 2956 \nQ 1341 3275 1631 3429 \nQ 1922 3584 2338 3584 \nQ 2397 3584 2469 3576 \nQ 2541 3569 2628 3553 \nL 2631 2963 \nz\n\" transform=\"scale(0.015625)\"/>\n        <path id=\"DejaVuSans-20\" transform=\"scale(0.015625)\"/>\n        <path id=\"DejaVuSans-35\" d=\"M 691 4666 \nL 3169 4666 \nL 3169 4134 \nL 1269 4134 \nL 1269 2991 \nQ 1406 3038 1543 3061 \nQ 1681 3084 1819 3084 \nQ 2600 3084 3056 2656 \nQ 3513 2228 3513 1497 \nQ 3513 744 3044 326 \nQ 2575 -91 1722 -91 \nQ 1428 -91 1123 -41 \nQ 819 9 494 109 \nL 494 744 \nQ 775 591 1075 516 \nQ 1375 441 1709 441 \nQ 2250 441 2565 725 \nQ 2881 1009 2881 1497 \nQ 2881 1984 2565 2268 \nQ 2250 2553 1709 2553 \nQ 1456 2553 1204 2497 \nQ 953 2441 691 2322 \nL 691 4666 \nz\n\" transform=\"scale(0.015625)\"/>\n        <path id=\"DejaVuSans-79\" d=\"M 2059 -325 \nQ 1816 -950 1584 -1140 \nQ 1353 -1331 966 -1331 \nL 506 -1331 \nL 506 -850 \nL 844 -850 \nQ 1081 -850 1212 -737 \nQ 1344 -625 1503 -206 \nL 1606 56 \nL 191 3500 \nL 800 3500 \nL 1894 763 \nL 2988 3500 \nL 3597 3500 \nL 2059 -325 \nz\n\" transform=\"scale(0.015625)\"/>\n        <path id=\"DejaVuSans-61\" d=\"M 2194 1759 \nQ 1497 1759 1228 1600 \nQ 959 1441 959 1056 \nQ 959 750 1161 570 \nQ 1363 391 1709 391 \nQ 2188 391 2477 730 \nQ 2766 1069 2766 1631 \nL 2766 1759 \nL 2194 1759 \nz\nM 3341 1997 \nL 3341 0 \nL 2766 0 \nL 2766 531 \nQ 2569 213 2275 61 \nQ 1981 -91 1556 -91 \nQ 1019 -91 701 211 \nQ 384 513 384 1019 \nQ 384 1609 779 1909 \nQ 1175 2209 1959 2209 \nL 2766 2209 \nL 2766 2266 \nQ 2766 2663 2505 2880 \nQ 2244 3097 1772 3097 \nQ 1472 3097 1187 3025 \nQ 903 2953 641 2809 \nL 641 3341 \nQ 956 3463 1253 3523 \nQ 1550 3584 1831 3584 \nQ 2591 3584 2966 3190 \nQ 3341 2797 3341 1997 \nz\n\" transform=\"scale(0.015625)\"/>\n        <path id=\"DejaVuSans-73\" d=\"M 2834 3397 \nL 2834 2853 \nQ 2591 2978 2328 3040 \nQ 2066 3103 1784 3103 \nQ 1356 3103 1142 2972 \nQ 928 2841 928 2578 \nQ 928 2378 1081 2264 \nQ 1234 2150 1697 2047 \nL 1894 2003 \nQ 2506 1872 2764 1633 \nQ 3022 1394 3022 966 \nQ 3022 478 2636 193 \nQ 2250 -91 1575 -91 \nQ 1294 -91 989 -36 \nQ 684 19 347 128 \nL 347 722 \nQ 666 556 975 473 \nQ 1284 391 1588 391 \nQ 1994 391 2212 530 \nQ 2431 669 2431 922 \nQ 2431 1156 2273 1281 \nQ 2116 1406 1581 1522 \nL 1381 1569 \nQ 847 1681 609 1914 \nQ 372 2147 372 2553 \nQ 372 3047 722 3315 \nQ 1072 3584 1716 3584 \nQ 2034 3584 2315 3537 \nQ 2597 3491 2834 3397 \nz\n\" transform=\"scale(0.015625)\"/>\n       </defs>\n       <use xlink:href=\"#DejaVuSans-55\"/>\n       <use xlink:href=\"#DejaVuSans-6e\" x=\"73.193359\"/>\n       <use xlink:href=\"#DejaVuSans-64\" x=\"136.572266\"/>\n       <use xlink:href=\"#DejaVuSans-65\" x=\"200.048828\"/>\n       <use xlink:href=\"#DejaVuSans-72\" x=\"261.572266\"/>\n       <use xlink:href=\"#DejaVuSans-20\" x=\"302.685547\"/>\n       <use xlink:href=\"#DejaVuSans-35\" x=\"334.472656\"/>\n       <use xlink:href=\"#DejaVuSans-20\" x=\"398.095703\"/>\n       <use xlink:href=\"#DejaVuSans-79\" x=\"429.882812\"/>\n       <use xlink:href=\"#DejaVuSans-65\" x=\"489.0625\"/>\n       <use xlink:href=\"#DejaVuSans-61\" x=\"550.585938\"/>\n       <use xlink:href=\"#DejaVuSans-72\" x=\"611.865234\"/>\n       <use xlink:href=\"#DejaVuSans-73\" x=\"652.978516\"/>\n      </g>\n     </g>\n    </g>\n    <g id=\"xtick_2\">\n     <g id=\"line2d_2\">\n      <g>\n       <use xlink:href=\"#mf7632b84ef\" x=\"59.767439\" y=\"622.8\" style=\"stroke: #000000; stroke-width: 0.8\"/>\n      </g>\n     </g>\n     <g id=\"text_2\">\n      <!-- 5 to 9 years -->\n      <g transform=\"translate(29.858064 637.398437)scale(0.1 -0.1)\">\n       <defs>\n        <path id=\"DejaVuSans-74\" d=\"M 1172 4494 \nL 1172 3500 \nL 2356 3500 \nL 2356 3053 \nL 1172 3053 \nL 1172 1153 \nQ 1172 725 1289 603 \nQ 1406 481 1766 481 \nL 2356 481 \nL 2356 0 \nL 1766 0 \nQ 1100 0 847 248 \nQ 594 497 594 1153 \nL 594 3053 \nL 172 3053 \nL 172 3500 \nL 594 3500 \nL 594 4494 \nL 1172 4494 \nz\n\" transform=\"scale(0.015625)\"/>\n        <path id=\"DejaVuSans-6f\" d=\"M 1959 3097 \nQ 1497 3097 1228 2736 \nQ 959 2375 959 1747 \nQ 959 1119 1226 758 \nQ 1494 397 1959 397 \nQ 2419 397 2687 759 \nQ 2956 1122 2956 1747 \nQ 2956 2369 2687 2733 \nQ 2419 3097 1959 3097 \nz\nM 1959 3584 \nQ 2709 3584 3137 3096 \nQ 3566 2609 3566 1747 \nQ 3566 888 3137 398 \nQ 2709 -91 1959 -91 \nQ 1206 -91 779 398 \nQ 353 888 353 1747 \nQ 353 2609 779 3096 \nQ 1206 3584 1959 3584 \nz\n\" transform=\"scale(0.015625)\"/>\n        <path id=\"DejaVuSans-39\" d=\"M 703 97 \nL 703 672 \nQ 941 559 1184 500 \nQ 1428 441 1663 441 \nQ 2288 441 2617 861 \nQ 2947 1281 2994 2138 \nQ 2813 1869 2534 1725 \nQ 2256 1581 1919 1581 \nQ 1219 1581 811 2004 \nQ 403 2428 403 3163 \nQ 403 3881 828 4315 \nQ 1253 4750 1959 4750 \nQ 2769 4750 3195 4129 \nQ 3622 3509 3622 2328 \nQ 3622 1225 3098 567 \nQ 2575 -91 1691 -91 \nQ 1453 -91 1209 -44 \nQ 966 3 703 97 \nz\nM 1959 2075 \nQ 2384 2075 2632 2365 \nQ 2881 2656 2881 3163 \nQ 2881 3666 2632 3958 \nQ 2384 4250 1959 4250 \nQ 1534 4250 1286 3958 \nQ 1038 3666 1038 3163 \nQ 1038 2656 1286 2365 \nQ 1534 2075 1959 2075 \nz\n\" transform=\"scale(0.015625)\"/>\n       </defs>\n       <use xlink:href=\"#DejaVuSans-35\"/>\n       <use xlink:href=\"#DejaVuSans-20\" x=\"63.623047\"/>\n       <use xlink:href=\"#DejaVuSans-74\" x=\"95.410156\"/>\n       <use xlink:href=\"#DejaVuSans-6f\" x=\"134.619141\"/>\n       <use xlink:href=\"#DejaVuSans-20\" x=\"195.800781\"/>\n       <use xlink:href=\"#DejaVuSans-39\" x=\"227.587891\"/>\n       <use xlink:href=\"#DejaVuSans-20\" x=\"291.210938\"/>\n       <use xlink:href=\"#DejaVuSans-79\" x=\"322.998047\"/>\n       <use xlink:href=\"#DejaVuSans-65\" x=\"382.177734\"/>\n       <use xlink:href=\"#DejaVuSans-61\" x=\"443.701172\"/>\n       <use xlink:href=\"#DejaVuSans-72\" x=\"504.980469\"/>\n       <use xlink:href=\"#DejaVuSans-73\" x=\"546.09375\"/>\n      </g>\n     </g>\n    </g>\n    <g id=\"xtick_3\">\n     <g id=\"line2d_3\">\n      <g>\n       <use xlink:href=\"#mf7632b84ef\" x=\"72.721288\" y=\"622.8\" style=\"stroke: #000000; stroke-width: 0.8\"/>\n      </g>\n     </g>\n     <g id=\"text_3\">\n      <!-- 10 to 14 years -->\n      <g transform=\"translate(36.449413 637.398437)scale(0.1 -0.1)\">\n       <defs>\n        <path id=\"DejaVuSans-31\" d=\"M 794 531 \nL 1825 531 \nL 1825 4091 \nL 703 3866 \nL 703 4441 \nL 1819 4666 \nL 2450 4666 \nL 2450 531 \nL 3481 531 \nL 3481 0 \nL 794 0 \nL 794 531 \nz\n\" transform=\"scale(0.015625)\"/>\n        <path id=\"DejaVuSans-30\" d=\"M 2034 4250 \nQ 1547 4250 1301 3770 \nQ 1056 3291 1056 2328 \nQ 1056 1369 1301 889 \nQ 1547 409 2034 409 \nQ 2525 409 2770 889 \nQ 3016 1369 3016 2328 \nQ 3016 3291 2770 3770 \nQ 2525 4250 2034 4250 \nz\nM 2034 4750 \nQ 2819 4750 3233 4129 \nQ 3647 3509 3647 2328 \nQ 3647 1150 3233 529 \nQ 2819 -91 2034 -91 \nQ 1250 -91 836 529 \nQ 422 1150 422 2328 \nQ 422 3509 836 4129 \nQ 1250 4750 2034 4750 \nz\n\" transform=\"scale(0.015625)\"/>\n        <path id=\"DejaVuSans-34\" d=\"M 2419 4116 \nL 825 1625 \nL 2419 1625 \nL 2419 4116 \nz\nM 2253 4666 \nL 3047 4666 \nL 3047 1625 \nL 3713 1625 \nL 3713 1100 \nL 3047 1100 \nL 3047 0 \nL 2419 0 \nL 2419 1100 \nL 313 1100 \nL 313 1709 \nL 2253 4666 \nz\n\" transform=\"scale(0.015625)\"/>\n       </defs>\n       <use xlink:href=\"#DejaVuSans-31\"/>\n       <use xlink:href=\"#DejaVuSans-30\" x=\"63.623047\"/>\n       <use xlink:href=\"#DejaVuSans-20\" x=\"127.246094\"/>\n       <use xlink:href=\"#DejaVuSans-74\" x=\"159.033203\"/>\n       <use xlink:href=\"#DejaVuSans-6f\" x=\"198.242188\"/>\n       <use xlink:href=\"#DejaVuSans-20\" x=\"259.423828\"/>\n       <use xlink:href=\"#DejaVuSans-31\" x=\"291.210938\"/>\n       <use xlink:href=\"#DejaVuSans-34\" x=\"354.833984\"/>\n       <use xlink:href=\"#DejaVuSans-20\" x=\"418.457031\"/>\n       <use xlink:href=\"#DejaVuSans-79\" x=\"450.244141\"/>\n       <use xlink:href=\"#DejaVuSans-65\" x=\"509.423828\"/>\n       <use xlink:href=\"#DejaVuSans-61\" x=\"570.947266\"/>\n       <use xlink:href=\"#DejaVuSans-72\" x=\"632.226562\"/>\n       <use xlink:href=\"#DejaVuSans-73\" x=\"673.339844\"/>\n      </g>\n     </g>\n    </g>\n    <g id=\"xtick_4\">\n     <g id=\"line2d_4\">\n      <g>\n       <use xlink:href=\"#mf7632b84ef\" x=\"85.675137\" y=\"622.8\" style=\"stroke: #000000; stroke-width: 0.8\"/>\n      </g>\n     </g>\n     <g id=\"text_4\">\n      <!-- 15 to 19 years -->\n      <g transform=\"translate(49.403262 637.398437)scale(0.1 -0.1)\">\n       <use xlink:href=\"#DejaVuSans-31\"/>\n       <use xlink:href=\"#DejaVuSans-35\" x=\"63.623047\"/>\n       <use xlink:href=\"#DejaVuSans-20\" x=\"127.246094\"/>\n       <use xlink:href=\"#DejaVuSans-74\" x=\"159.033203\"/>\n       <use xlink:href=\"#DejaVuSans-6f\" x=\"198.242188\"/>\n       <use xlink:href=\"#DejaVuSans-20\" x=\"259.423828\"/>\n       <use xlink:href=\"#DejaVuSans-31\" x=\"291.210938\"/>\n       <use xlink:href=\"#DejaVuSans-39\" x=\"354.833984\"/>\n       <use xlink:href=\"#DejaVuSans-20\" x=\"418.457031\"/>\n       <use xlink:href=\"#DejaVuSans-79\" x=\"450.244141\"/>\n       <use xlink:href=\"#DejaVuSans-65\" x=\"509.423828\"/>\n       <use xlink:href=\"#DejaVuSans-61\" x=\"570.947266\"/>\n       <use xlink:href=\"#DejaVuSans-72\" x=\"632.226562\"/>\n       <use xlink:href=\"#DejaVuSans-73\" x=\"673.339844\"/>\n      </g>\n     </g>\n    </g>\n    <g id=\"xtick_5\">\n     <g id=\"line2d_5\">\n      <g>\n       <use xlink:href=\"#mf7632b84ef\" x=\"98.628986\" y=\"622.8\" style=\"stroke: #000000; stroke-width: 0.8\"/>\n      </g>\n     </g>\n     <g id=\"text_5\">\n      <!-- 20 to 24 years -->\n      <g transform=\"translate(62.357111 637.398437)scale(0.1 -0.1)\">\n       <defs>\n        <path id=\"DejaVuSans-32\" d=\"M 1228 531 \nL 3431 531 \nL 3431 0 \nL 469 0 \nL 469 531 \nQ 828 903 1448 1529 \nQ 2069 2156 2228 2338 \nQ 2531 2678 2651 2914 \nQ 2772 3150 2772 3378 \nQ 2772 3750 2511 3984 \nQ 2250 4219 1831 4219 \nQ 1534 4219 1204 4116 \nQ 875 4013 500 3803 \nL 500 4441 \nQ 881 4594 1212 4672 \nQ 1544 4750 1819 4750 \nQ 2544 4750 2975 4387 \nQ 3406 4025 3406 3419 \nQ 3406 3131 3298 2873 \nQ 3191 2616 2906 2266 \nQ 2828 2175 2409 1742 \nQ 1991 1309 1228 531 \nz\n\" transform=\"scale(0.015625)\"/>\n       </defs>\n       <use xlink:href=\"#DejaVuSans-32\"/>\n       <use xlink:href=\"#DejaVuSans-30\" x=\"63.623047\"/>\n       <use xlink:href=\"#DejaVuSans-20\" x=\"127.246094\"/>\n       <use xlink:href=\"#DejaVuSans-74\" x=\"159.033203\"/>\n       <use xlink:href=\"#DejaVuSans-6f\" x=\"198.242188\"/>\n       <use xlink:href=\"#DejaVuSans-20\" x=\"259.423828\"/>\n       <use xlink:href=\"#DejaVuSans-32\" x=\"291.210938\"/>\n       <use xlink:href=\"#DejaVuSans-34\" x=\"354.833984\"/>\n       <use xlink:href=\"#DejaVuSans-20\" x=\"418.457031\"/>\n       <use xlink:href=\"#DejaVuSans-79\" x=\"450.244141\"/>\n       <use xlink:href=\"#DejaVuSans-65\" x=\"509.423828\"/>\n       <use xlink:href=\"#DejaVuSans-61\" x=\"570.947266\"/>\n       <use xlink:href=\"#DejaVuSans-72\" x=\"632.226562\"/>\n       <use xlink:href=\"#DejaVuSans-73\" x=\"673.339844\"/>\n      </g>\n     </g>\n    </g>\n    <g id=\"xtick_6\">\n     <g id=\"line2d_6\">\n      <g>\n       <use xlink:href=\"#mf7632b84ef\" x=\"111.582835\" y=\"622.8\" style=\"stroke: #000000; stroke-width: 0.8\"/>\n      </g>\n     </g>\n     <g id=\"text_6\">\n      <!-- 25 to 29 years -->\n      <g transform=\"translate(75.31096 637.398437)scale(0.1 -0.1)\">\n       <use xlink:href=\"#DejaVuSans-32\"/>\n       <use xlink:href=\"#DejaVuSans-35\" x=\"63.623047\"/>\n       <use xlink:href=\"#DejaVuSans-20\" x=\"127.246094\"/>\n       <use xlink:href=\"#DejaVuSans-74\" x=\"159.033203\"/>\n       <use xlink:href=\"#DejaVuSans-6f\" x=\"198.242188\"/>\n       <use xlink:href=\"#DejaVuSans-20\" x=\"259.423828\"/>\n       <use xlink:href=\"#DejaVuSans-32\" x=\"291.210938\"/>\n       <use xlink:href=\"#DejaVuSans-39\" x=\"354.833984\"/>\n       <use xlink:href=\"#DejaVuSans-20\" x=\"418.457031\"/>\n       <use xlink:href=\"#DejaVuSans-79\" x=\"450.244141\"/>\n       <use xlink:href=\"#DejaVuSans-65\" x=\"509.423828\"/>\n       <use xlink:href=\"#DejaVuSans-61\" x=\"570.947266\"/>\n       <use xlink:href=\"#DejaVuSans-72\" x=\"632.226562\"/>\n       <use xlink:href=\"#DejaVuSans-73\" x=\"673.339844\"/>\n      </g>\n     </g>\n    </g>\n    <g id=\"xtick_7\">\n     <g id=\"line2d_7\">\n      <g>\n       <use xlink:href=\"#mf7632b84ef\" x=\"124.536684\" y=\"622.8\" style=\"stroke: #000000; stroke-width: 0.8\"/>\n      </g>\n     </g>\n     <g id=\"text_7\">\n      <!-- 30 to 34 years -->\n      <g transform=\"translate(88.264809 637.398437)scale(0.1 -0.1)\">\n       <defs>\n        <path id=\"DejaVuSans-33\" d=\"M 2597 2516 \nQ 3050 2419 3304 2112 \nQ 3559 1806 3559 1356 \nQ 3559 666 3084 287 \nQ 2609 -91 1734 -91 \nQ 1441 -91 1130 -33 \nQ 819 25 488 141 \nL 488 750 \nQ 750 597 1062 519 \nQ 1375 441 1716 441 \nQ 2309 441 2620 675 \nQ 2931 909 2931 1356 \nQ 2931 1769 2642 2001 \nQ 2353 2234 1838 2234 \nL 1294 2234 \nL 1294 2753 \nL 1863 2753 \nQ 2328 2753 2575 2939 \nQ 2822 3125 2822 3475 \nQ 2822 3834 2567 4026 \nQ 2313 4219 1838 4219 \nQ 1578 4219 1281 4162 \nQ 984 4106 628 3988 \nL 628 4550 \nQ 988 4650 1302 4700 \nQ 1616 4750 1894 4750 \nQ 2613 4750 3031 4423 \nQ 3450 4097 3450 3541 \nQ 3450 3153 3228 2886 \nQ 3006 2619 2597 2516 \nz\n\" transform=\"scale(0.015625)\"/>\n       </defs>\n       <use xlink:href=\"#DejaVuSans-33\"/>\n       <use xlink:href=\"#DejaVuSans-30\" x=\"63.623047\"/>\n       <use xlink:href=\"#DejaVuSans-20\" x=\"127.246094\"/>\n       <use xlink:href=\"#DejaVuSans-74\" x=\"159.033203\"/>\n       <use xlink:href=\"#DejaVuSans-6f\" x=\"198.242188\"/>\n       <use xlink:href=\"#DejaVuSans-20\" x=\"259.423828\"/>\n       <use xlink:href=\"#DejaVuSans-33\" x=\"291.210938\"/>\n       <use xlink:href=\"#DejaVuSans-34\" x=\"354.833984\"/>\n       <use xlink:href=\"#DejaVuSans-20\" x=\"418.457031\"/>\n       <use xlink:href=\"#DejaVuSans-79\" x=\"450.244141\"/>\n       <use xlink:href=\"#DejaVuSans-65\" x=\"509.423828\"/>\n       <use xlink:href=\"#DejaVuSans-61\" x=\"570.947266\"/>\n       <use xlink:href=\"#DejaVuSans-72\" x=\"632.226562\"/>\n       <use xlink:href=\"#DejaVuSans-73\" x=\"673.339844\"/>\n      </g>\n     </g>\n    </g>\n    <g id=\"xtick_8\">\n     <g id=\"line2d_8\">\n      <g>\n       <use xlink:href=\"#mf7632b84ef\" x=\"137.490533\" y=\"622.8\" style=\"stroke: #000000; stroke-width: 0.8\"/>\n      </g>\n     </g>\n     <g id=\"text_8\">\n      <!-- 35 to 39 years -->\n      <g transform=\"translate(101.218658 637.398437)scale(0.1 -0.1)\">\n       <use xlink:href=\"#DejaVuSans-33\"/>\n       <use xlink:href=\"#DejaVuSans-35\" x=\"63.623047\"/>\n       <use xlink:href=\"#DejaVuSans-20\" x=\"127.246094\"/>\n       <use xlink:href=\"#DejaVuSans-74\" x=\"159.033203\"/>\n       <use xlink:href=\"#DejaVuSans-6f\" x=\"198.242188\"/>\n       <use xlink:href=\"#DejaVuSans-20\" x=\"259.423828\"/>\n       <use xlink:href=\"#DejaVuSans-33\" x=\"291.210938\"/>\n       <use xlink:href=\"#DejaVuSans-39\" x=\"354.833984\"/>\n       <use xlink:href=\"#DejaVuSans-20\" x=\"418.457031\"/>\n       <use xlink:href=\"#DejaVuSans-79\" x=\"450.244141\"/>\n       <use xlink:href=\"#DejaVuSans-65\" x=\"509.423828\"/>\n       <use xlink:href=\"#DejaVuSans-61\" x=\"570.947266\"/>\n       <use xlink:href=\"#DejaVuSans-72\" x=\"632.226562\"/>\n       <use xlink:href=\"#DejaVuSans-73\" x=\"673.339844\"/>\n      </g>\n     </g>\n    </g>\n    <g id=\"xtick_9\">\n     <g id=\"line2d_9\">\n      <g>\n       <use xlink:href=\"#mf7632b84ef\" x=\"150.444382\" y=\"622.8\" style=\"stroke: #000000; stroke-width: 0.8\"/>\n      </g>\n     </g>\n     <g id=\"text_9\">\n      <!-- 40 to 44 years -->\n      <g transform=\"translate(114.172507 637.398437)scale(0.1 -0.1)\">\n       <use xlink:href=\"#DejaVuSans-34\"/>\n       <use xlink:href=\"#DejaVuSans-30\" x=\"63.623047\"/>\n       <use xlink:href=\"#DejaVuSans-20\" x=\"127.246094\"/>\n       <use xlink:href=\"#DejaVuSans-74\" x=\"159.033203\"/>\n       <use xlink:href=\"#DejaVuSans-6f\" x=\"198.242188\"/>\n       <use xlink:href=\"#DejaVuSans-20\" x=\"259.423828\"/>\n       <use xlink:href=\"#DejaVuSans-34\" x=\"291.210938\"/>\n       <use xlink:href=\"#DejaVuSans-34\" x=\"354.833984\"/>\n       <use xlink:href=\"#DejaVuSans-20\" x=\"418.457031\"/>\n       <use xlink:href=\"#DejaVuSans-79\" x=\"450.244141\"/>\n       <use xlink:href=\"#DejaVuSans-65\" x=\"509.423828\"/>\n       <use xlink:href=\"#DejaVuSans-61\" x=\"570.947266\"/>\n       <use xlink:href=\"#DejaVuSans-72\" x=\"632.226562\"/>\n       <use xlink:href=\"#DejaVuSans-73\" x=\"673.339844\"/>\n      </g>\n     </g>\n    </g>\n    <g id=\"xtick_10\">\n     <g id=\"line2d_10\">\n      <g>\n       <use xlink:href=\"#mf7632b84ef\" x=\"163.398231\" y=\"622.8\" style=\"stroke: #000000; stroke-width: 0.8\"/>\n      </g>\n     </g>\n     <g id=\"text_10\">\n      <!-- 45 to 49 years -->\n      <g transform=\"translate(127.126356 637.398437)scale(0.1 -0.1)\">\n       <use xlink:href=\"#DejaVuSans-34\"/>\n       <use xlink:href=\"#DejaVuSans-35\" x=\"63.623047\"/>\n       <use xlink:href=\"#DejaVuSans-20\" x=\"127.246094\"/>\n       <use xlink:href=\"#DejaVuSans-74\" x=\"159.033203\"/>\n       <use xlink:href=\"#DejaVuSans-6f\" x=\"198.242188\"/>\n       <use xlink:href=\"#DejaVuSans-20\" x=\"259.423828\"/>\n       <use xlink:href=\"#DejaVuSans-34\" x=\"291.210938\"/>\n       <use xlink:href=\"#DejaVuSans-39\" x=\"354.833984\"/>\n       <use xlink:href=\"#DejaVuSans-20\" x=\"418.457031\"/>\n       <use xlink:href=\"#DejaVuSans-79\" x=\"450.244141\"/>\n       <use xlink:href=\"#DejaVuSans-65\" x=\"509.423828\"/>\n       <use xlink:href=\"#DejaVuSans-61\" x=\"570.947266\"/>\n       <use xlink:href=\"#DejaVuSans-72\" x=\"632.226562\"/>\n       <use xlink:href=\"#DejaVuSans-73\" x=\"673.339844\"/>\n      </g>\n     </g>\n    </g>\n    <g id=\"xtick_11\">\n     <g id=\"line2d_11\">\n      <g>\n       <use xlink:href=\"#mf7632b84ef\" x=\"176.35208\" y=\"622.8\" style=\"stroke: #000000; stroke-width: 0.8\"/>\n      </g>\n     </g>\n     <g id=\"text_11\">\n      <!-- 50 to 54 years -->\n      <g transform=\"translate(140.080205 637.398437)scale(0.1 -0.1)\">\n       <use xlink:href=\"#DejaVuSans-35\"/>\n       <use xlink:href=\"#DejaVuSans-30\" x=\"63.623047\"/>\n       <use xlink:href=\"#DejaVuSans-20\" x=\"127.246094\"/>\n       <use xlink:href=\"#DejaVuSans-74\" x=\"159.033203\"/>\n       <use xlink:href=\"#DejaVuSans-6f\" x=\"198.242188\"/>\n       <use xlink:href=\"#DejaVuSans-20\" x=\"259.423828\"/>\n       <use xlink:href=\"#DejaVuSans-35\" x=\"291.210938\"/>\n       <use xlink:href=\"#DejaVuSans-34\" x=\"354.833984\"/>\n       <use xlink:href=\"#DejaVuSans-20\" x=\"418.457031\"/>\n       <use xlink:href=\"#DejaVuSans-79\" x=\"450.244141\"/>\n       <use xlink:href=\"#DejaVuSans-65\" x=\"509.423828\"/>\n       <use xlink:href=\"#DejaVuSans-61\" x=\"570.947266\"/>\n       <use xlink:href=\"#DejaVuSans-72\" x=\"632.226562\"/>\n       <use xlink:href=\"#DejaVuSans-73\" x=\"673.339844\"/>\n      </g>\n     </g>\n    </g>\n    <g id=\"xtick_12\">\n     <g id=\"line2d_12\">\n      <g>\n       <use xlink:href=\"#mf7632b84ef\" x=\"189.305929\" y=\"622.8\" style=\"stroke: #000000; stroke-width: 0.8\"/>\n      </g>\n     </g>\n     <g id=\"text_12\">\n      <!-- 55 to 59 years -->\n      <g transform=\"translate(153.034054 637.398437)scale(0.1 -0.1)\">\n       <use xlink:href=\"#DejaVuSans-35\"/>\n       <use xlink:href=\"#DejaVuSans-35\" x=\"63.623047\"/>\n       <use xlink:href=\"#DejaVuSans-20\" x=\"127.246094\"/>\n       <use xlink:href=\"#DejaVuSans-74\" x=\"159.033203\"/>\n       <use xlink:href=\"#DejaVuSans-6f\" x=\"198.242188\"/>\n       <use xlink:href=\"#DejaVuSans-20\" x=\"259.423828\"/>\n       <use xlink:href=\"#DejaVuSans-35\" x=\"291.210938\"/>\n       <use xlink:href=\"#DejaVuSans-39\" x=\"354.833984\"/>\n       <use xlink:href=\"#DejaVuSans-20\" x=\"418.457031\"/>\n       <use xlink:href=\"#DejaVuSans-79\" x=\"450.244141\"/>\n       <use xlink:href=\"#DejaVuSans-65\" x=\"509.423828\"/>\n       <use xlink:href=\"#DejaVuSans-61\" x=\"570.947266\"/>\n       <use xlink:href=\"#DejaVuSans-72\" x=\"632.226562\"/>\n       <use xlink:href=\"#DejaVuSans-73\" x=\"673.339844\"/>\n      </g>\n     </g>\n    </g>\n    <g id=\"xtick_13\">\n     <g id=\"line2d_13\">\n      <g>\n       <use xlink:href=\"#mf7632b84ef\" x=\"202.259778\" y=\"622.8\" style=\"stroke: #000000; stroke-width: 0.8\"/>\n      </g>\n     </g>\n     <g id=\"text_13\">\n      <!-- 60 to 64 years -->\n      <g transform=\"translate(165.987903 637.398437)scale(0.1 -0.1)\">\n       <defs>\n        <path id=\"DejaVuSans-36\" d=\"M 2113 2584 \nQ 1688 2584 1439 2293 \nQ 1191 2003 1191 1497 \nQ 1191 994 1439 701 \nQ 1688 409 2113 409 \nQ 2538 409 2786 701 \nQ 3034 994 3034 1497 \nQ 3034 2003 2786 2293 \nQ 2538 2584 2113 2584 \nz\nM 3366 4563 \nL 3366 3988 \nQ 3128 4100 2886 4159 \nQ 2644 4219 2406 4219 \nQ 1781 4219 1451 3797 \nQ 1122 3375 1075 2522 \nQ 1259 2794 1537 2939 \nQ 1816 3084 2150 3084 \nQ 2853 3084 3261 2657 \nQ 3669 2231 3669 1497 \nQ 3669 778 3244 343 \nQ 2819 -91 2113 -91 \nQ 1303 -91 875 529 \nQ 447 1150 447 2328 \nQ 447 3434 972 4092 \nQ 1497 4750 2381 4750 \nQ 2619 4750 2861 4703 \nQ 3103 4656 3366 4563 \nz\n\" transform=\"scale(0.015625)\"/>\n       </defs>\n       <use xlink:href=\"#DejaVuSans-36\"/>\n       <use xlink:href=\"#DejaVuSans-30\" x=\"63.623047\"/>\n       <use xlink:href=\"#DejaVuSans-20\" x=\"127.246094\"/>\n       <use xlink:href=\"#DejaVuSans-74\" x=\"159.033203\"/>\n       <use xlink:href=\"#DejaVuSans-6f\" x=\"198.242188\"/>\n       <use xlink:href=\"#DejaVuSans-20\" x=\"259.423828\"/>\n       <use xlink:href=\"#DejaVuSans-36\" x=\"291.210938\"/>\n       <use xlink:href=\"#DejaVuSans-34\" x=\"354.833984\"/>\n       <use xlink:href=\"#DejaVuSans-20\" x=\"418.457031\"/>\n       <use xlink:href=\"#DejaVuSans-79\" x=\"450.244141\"/>\n       <use xlink:href=\"#DejaVuSans-65\" x=\"509.423828\"/>\n       <use xlink:href=\"#DejaVuSans-61\" x=\"570.947266\"/>\n       <use xlink:href=\"#DejaVuSans-72\" x=\"632.226562\"/>\n       <use xlink:href=\"#DejaVuSans-73\" x=\"673.339844\"/>\n      </g>\n     </g>\n    </g>\n    <g id=\"xtick_14\">\n     <g id=\"line2d_14\">\n      <g>\n       <use xlink:href=\"#mf7632b84ef\" x=\"215.213627\" y=\"622.8\" style=\"stroke: #000000; stroke-width: 0.8\"/>\n      </g>\n     </g>\n     <g id=\"text_14\">\n      <!-- 65 to 69 years -->\n      <g transform=\"translate(178.941752 637.398437)scale(0.1 -0.1)\">\n       <use xlink:href=\"#DejaVuSans-36\"/>\n       <use xlink:href=\"#DejaVuSans-35\" x=\"63.623047\"/>\n       <use xlink:href=\"#DejaVuSans-20\" x=\"127.246094\"/>\n       <use xlink:href=\"#DejaVuSans-74\" x=\"159.033203\"/>\n       <use xlink:href=\"#DejaVuSans-6f\" x=\"198.242188\"/>\n       <use xlink:href=\"#DejaVuSans-20\" x=\"259.423828\"/>\n       <use xlink:href=\"#DejaVuSans-36\" x=\"291.210938\"/>\n       <use xlink:href=\"#DejaVuSans-39\" x=\"354.833984\"/>\n       <use xlink:href=\"#DejaVuSans-20\" x=\"418.457031\"/>\n       <use xlink:href=\"#DejaVuSans-79\" x=\"450.244141\"/>\n       <use xlink:href=\"#DejaVuSans-65\" x=\"509.423828\"/>\n       <use xlink:href=\"#DejaVuSans-61\" x=\"570.947266\"/>\n       <use xlink:href=\"#DejaVuSans-72\" x=\"632.226562\"/>\n       <use xlink:href=\"#DejaVuSans-73\" x=\"673.339844\"/>\n      </g>\n     </g>\n    </g>\n    <g id=\"xtick_15\">\n     <g id=\"line2d_15\">\n      <g>\n       <use xlink:href=\"#mf7632b84ef\" x=\"228.167476\" y=\"622.8\" style=\"stroke: #000000; stroke-width: 0.8\"/>\n      </g>\n     </g>\n     <g id=\"text_15\">\n      <!-- 70 to 74 years -->\n      <g transform=\"translate(191.895601 637.398437)scale(0.1 -0.1)\">\n       <defs>\n        <path id=\"DejaVuSans-37\" d=\"M 525 4666 \nL 3525 4666 \nL 3525 4397 \nL 1831 0 \nL 1172 0 \nL 2766 4134 \nL 525 4134 \nL 525 4666 \nz\n\" transform=\"scale(0.015625)\"/>\n       </defs>\n       <use xlink:href=\"#DejaVuSans-37\"/>\n       <use xlink:href=\"#DejaVuSans-30\" x=\"63.623047\"/>\n       <use xlink:href=\"#DejaVuSans-20\" x=\"127.246094\"/>\n       <use xlink:href=\"#DejaVuSans-74\" x=\"159.033203\"/>\n       <use xlink:href=\"#DejaVuSans-6f\" x=\"198.242188\"/>\n       <use xlink:href=\"#DejaVuSans-20\" x=\"259.423828\"/>\n       <use xlink:href=\"#DejaVuSans-37\" x=\"291.210938\"/>\n       <use xlink:href=\"#DejaVuSans-34\" x=\"354.833984\"/>\n       <use xlink:href=\"#DejaVuSans-20\" x=\"418.457031\"/>\n       <use xlink:href=\"#DejaVuSans-79\" x=\"450.244141\"/>\n       <use xlink:href=\"#DejaVuSans-65\" x=\"509.423828\"/>\n       <use xlink:href=\"#DejaVuSans-61\" x=\"570.947266\"/>\n       <use xlink:href=\"#DejaVuSans-72\" x=\"632.226562\"/>\n       <use xlink:href=\"#DejaVuSans-73\" x=\"673.339844\"/>\n      </g>\n     </g>\n    </g>\n    <g id=\"xtick_16\">\n     <g id=\"line2d_16\">\n      <g>\n       <use xlink:href=\"#mf7632b84ef\" x=\"241.121325\" y=\"622.8\" style=\"stroke: #000000; stroke-width: 0.8\"/>\n      </g>\n     </g>\n     <g id=\"text_16\">\n      <!-- 75 to 79 years -->\n      <g transform=\"translate(204.84945 637.398437)scale(0.1 -0.1)\">\n       <use xlink:href=\"#DejaVuSans-37\"/>\n       <use xlink:href=\"#DejaVuSans-35\" x=\"63.623047\"/>\n       <use xlink:href=\"#DejaVuSans-20\" x=\"127.246094\"/>\n       <use xlink:href=\"#DejaVuSans-74\" x=\"159.033203\"/>\n       <use xlink:href=\"#DejaVuSans-6f\" x=\"198.242188\"/>\n       <use xlink:href=\"#DejaVuSans-20\" x=\"259.423828\"/>\n       <use xlink:href=\"#DejaVuSans-37\" x=\"291.210938\"/>\n       <use xlink:href=\"#DejaVuSans-39\" x=\"354.833984\"/>\n       <use xlink:href=\"#DejaVuSans-20\" x=\"418.457031\"/>\n       <use xlink:href=\"#DejaVuSans-79\" x=\"450.244141\"/>\n       <use xlink:href=\"#DejaVuSans-65\" x=\"509.423828\"/>\n       <use xlink:href=\"#DejaVuSans-61\" x=\"570.947266\"/>\n       <use xlink:href=\"#DejaVuSans-72\" x=\"632.226562\"/>\n       <use xlink:href=\"#DejaVuSans-73\" x=\"673.339844\"/>\n      </g>\n     </g>\n    </g>\n    <g id=\"xtick_17\">\n     <g id=\"line2d_17\">\n      <g>\n       <use xlink:href=\"#mf7632b84ef\" x=\"254.075174\" y=\"622.8\" style=\"stroke: #000000; stroke-width: 0.8\"/>\n      </g>\n     </g>\n     <g id=\"text_17\">\n      <!-- 80 to 84 years -->\n      <g transform=\"translate(217.803299 637.398437)scale(0.1 -0.1)\">\n       <defs>\n        <path id=\"DejaVuSans-38\" d=\"M 2034 2216 \nQ 1584 2216 1326 1975 \nQ 1069 1734 1069 1313 \nQ 1069 891 1326 650 \nQ 1584 409 2034 409 \nQ 2484 409 2743 651 \nQ 3003 894 3003 1313 \nQ 3003 1734 2745 1975 \nQ 2488 2216 2034 2216 \nz\nM 1403 2484 \nQ 997 2584 770 2862 \nQ 544 3141 544 3541 \nQ 544 4100 942 4425 \nQ 1341 4750 2034 4750 \nQ 2731 4750 3128 4425 \nQ 3525 4100 3525 3541 \nQ 3525 3141 3298 2862 \nQ 3072 2584 2669 2484 \nQ 3125 2378 3379 2068 \nQ 3634 1759 3634 1313 \nQ 3634 634 3220 271 \nQ 2806 -91 2034 -91 \nQ 1263 -91 848 271 \nQ 434 634 434 1313 \nQ 434 1759 690 2068 \nQ 947 2378 1403 2484 \nz\nM 1172 3481 \nQ 1172 3119 1398 2916 \nQ 1625 2713 2034 2713 \nQ 2441 2713 2670 2916 \nQ 2900 3119 2900 3481 \nQ 2900 3844 2670 4047 \nQ 2441 4250 2034 4250 \nQ 1625 4250 1398 4047 \nQ 1172 3844 1172 3481 \nz\n\" transform=\"scale(0.015625)\"/>\n       </defs>\n       <use xlink:href=\"#DejaVuSans-38\"/>\n       <use xlink:href=\"#DejaVuSans-30\" x=\"63.623047\"/>\n       <use xlink:href=\"#DejaVuSans-20\" x=\"127.246094\"/>\n       <use xlink:href=\"#DejaVuSans-74\" x=\"159.033203\"/>\n       <use xlink:href=\"#DejaVuSans-6f\" x=\"198.242188\"/>\n       <use xlink:href=\"#DejaVuSans-20\" x=\"259.423828\"/>\n       <use xlink:href=\"#DejaVuSans-38\" x=\"291.210938\"/>\n       <use xlink:href=\"#DejaVuSans-34\" x=\"354.833984\"/>\n       <use xlink:href=\"#DejaVuSans-20\" x=\"418.457031\"/>\n       <use xlink:href=\"#DejaVuSans-79\" x=\"450.244141\"/>\n       <use xlink:href=\"#DejaVuSans-65\" x=\"509.423828\"/>\n       <use xlink:href=\"#DejaVuSans-61\" x=\"570.947266\"/>\n       <use xlink:href=\"#DejaVuSans-72\" x=\"632.226562\"/>\n       <use xlink:href=\"#DejaVuSans-73\" x=\"673.339844\"/>\n      </g>\n     </g>\n    </g>\n    <g id=\"xtick_18\">\n     <g id=\"line2d_18\">\n      <g>\n       <use xlink:href=\"#mf7632b84ef\" x=\"267.029023\" y=\"622.8\" style=\"stroke: #000000; stroke-width: 0.8\"/>\n      </g>\n     </g>\n     <g id=\"text_18\">\n      <!-- 85 years and over -->\n      <g transform=\"translate(221.581367 637.398437)scale(0.1 -0.1)\">\n       <defs>\n        <path id=\"DejaVuSans-76\" d=\"M 191 3500 \nL 800 3500 \nL 1894 563 \nL 2988 3500 \nL 3597 3500 \nL 2284 0 \nL 1503 0 \nL 191 3500 \nz\n\" transform=\"scale(0.015625)\"/>\n       </defs>\n       <use xlink:href=\"#DejaVuSans-38\"/>\n       <use xlink:href=\"#DejaVuSans-35\" x=\"63.623047\"/>\n       <use xlink:href=\"#DejaVuSans-20\" x=\"127.246094\"/>\n       <use xlink:href=\"#DejaVuSans-79\" x=\"159.033203\"/>\n       <use xlink:href=\"#DejaVuSans-65\" x=\"218.212891\"/>\n       <use xlink:href=\"#DejaVuSans-61\" x=\"279.736328\"/>\n       <use xlink:href=\"#DejaVuSans-72\" x=\"341.015625\"/>\n       <use xlink:href=\"#DejaVuSans-73\" x=\"382.128906\"/>\n       <use xlink:href=\"#DejaVuSans-20\" x=\"434.228516\"/>\n       <use xlink:href=\"#DejaVuSans-61\" x=\"466.015625\"/>\n       <use xlink:href=\"#DejaVuSans-6e\" x=\"527.294922\"/>\n       <use xlink:href=\"#DejaVuSans-64\" x=\"590.673828\"/>\n       <use xlink:href=\"#DejaVuSans-20\" x=\"654.150391\"/>\n       <use xlink:href=\"#DejaVuSans-6f\" x=\"685.9375\"/>\n       <use xlink:href=\"#DejaVuSans-76\" x=\"747.119141\"/>\n       <use xlink:href=\"#DejaVuSans-65\" x=\"806.298828\"/>\n       <use xlink:href=\"#DejaVuSans-72\" x=\"867.822266\"/>\n      </g>\n     </g>\n    </g>\n   </g>\n   <g id=\"matplotlib.axis_2\">\n    <g id=\"ytick_1\">\n     <g id=\"line2d_19\">\n      <defs>\n       <path id=\"md588dbbe79\" d=\"M 0 0 \nL -3.5 0 \n\" style=\"stroke: #000000; stroke-width: 0.8\"/>\n      </defs>\n      <g>\n       <use xlink:href=\"#md588dbbe79\" x=\"30.103125\" y=\"622.8\" style=\"stroke: #000000; stroke-width: 0.8\"/>\n      </g>\n     </g>\n     <g id=\"text_19\">\n      <!-- 0.0 -->\n      <g transform=\"translate(7.2 626.599219)scale(0.1 -0.1)\">\n       <defs>\n        <path id=\"DejaVuSans-2e\" d=\"M 684 794 \nL 1344 794 \nL 1344 0 \nL 684 0 \nL 684 794 \nz\n\" transform=\"scale(0.015625)\"/>\n       </defs>\n       <use xlink:href=\"#DejaVuSans-30\"/>\n       <use xlink:href=\"#DejaVuSans-2e\" x=\"63.623047\"/>\n       <use xlink:href=\"#DejaVuSans-30\" x=\"95.410156\"/>\n      </g>\n     </g>\n    </g>\n    <g id=\"ytick_2\">\n     <g id=\"line2d_20\">\n      <g>\n       <use xlink:href=\"#md588dbbe79\" x=\"30.103125\" y=\"509.640584\" style=\"stroke: #000000; stroke-width: 0.8\"/>\n      </g>\n     </g>\n     <g id=\"text_20\">\n      <!-- 0.5 -->\n      <g transform=\"translate(7.2 513.439803)scale(0.1 -0.1)\">\n       <use xlink:href=\"#DejaVuSans-30\"/>\n       <use xlink:href=\"#DejaVuSans-2e\" x=\"63.623047\"/>\n       <use xlink:href=\"#DejaVuSans-35\" x=\"95.410156\"/>\n      </g>\n     </g>\n    </g>\n    <g id=\"ytick_3\">\n     <g id=\"line2d_21\">\n      <g>\n       <use xlink:href=\"#md588dbbe79\" x=\"30.103125\" y=\"396.481168\" style=\"stroke: #000000; stroke-width: 0.8\"/>\n      </g>\n     </g>\n     <g id=\"text_21\">\n      <!-- 1.0 -->\n      <g transform=\"translate(7.2 400.280387)scale(0.1 -0.1)\">\n       <use xlink:href=\"#DejaVuSans-31\"/>\n       <use xlink:href=\"#DejaVuSans-2e\" x=\"63.623047\"/>\n       <use xlink:href=\"#DejaVuSans-30\" x=\"95.410156\"/>\n      </g>\n     </g>\n    </g>\n    <g id=\"ytick_4\">\n     <g id=\"line2d_22\">\n      <g>\n       <use xlink:href=\"#md588dbbe79\" x=\"30.103125\" y=\"283.321752\" style=\"stroke: #000000; stroke-width: 0.8\"/>\n      </g>\n     </g>\n     <g id=\"text_22\">\n      <!-- 1.5 -->\n      <g transform=\"translate(7.2 287.120971)scale(0.1 -0.1)\">\n       <use xlink:href=\"#DejaVuSans-31\"/>\n       <use xlink:href=\"#DejaVuSans-2e\" x=\"63.623047\"/>\n       <use xlink:href=\"#DejaVuSans-35\" x=\"95.410156\"/>\n      </g>\n     </g>\n    </g>\n    <g id=\"ytick_5\">\n     <g id=\"line2d_23\">\n      <g>\n       <use xlink:href=\"#md588dbbe79\" x=\"30.103125\" y=\"170.162336\" style=\"stroke: #000000; stroke-width: 0.8\"/>\n      </g>\n     </g>\n     <g id=\"text_23\">\n      <!-- 2.0 -->\n      <g transform=\"translate(7.2 173.961555)scale(0.1 -0.1)\">\n       <use xlink:href=\"#DejaVuSans-32\"/>\n       <use xlink:href=\"#DejaVuSans-2e\" x=\"63.623047\"/>\n       <use xlink:href=\"#DejaVuSans-30\" x=\"95.410156\"/>\n      </g>\n     </g>\n    </g>\n    <g id=\"text_24\">\n     <!-- 1e6 -->\n     <g transform=\"translate(30.103125 76.2)scale(0.1 -0.1)\">\n      <use xlink:href=\"#DejaVuSans-31\"/>\n      <use xlink:href=\"#DejaVuSans-65\" x=\"63.623047\"/>\n      <use xlink:href=\"#DejaVuSans-36\" x=\"125.146484\"/>\n     </g>\n    </g>\n   </g>\n   <g id=\"patch_21\">\n    <path d=\"M 30.103125 622.8 \nL 30.103125 79.2 \n\" style=\"fill: none; stroke: #000000; stroke-width: 0.8; stroke-linejoin: miter; stroke-linecap: square\"/>\n   </g>\n   <g id=\"patch_22\">\n    <path d=\"M 283.739489 622.8 \nL 283.739489 79.2 \n\" style=\"fill: none; stroke: #000000; stroke-width: 0.8; stroke-linejoin: miter; stroke-linecap: square\"/>\n   </g>\n   <g id=\"patch_23\">\n    <path d=\"M 30.103125 622.8 \nL 283.739489 622.8 \n\" style=\"fill: none; stroke: #000000; stroke-width: 0.8; stroke-linejoin: miter; stroke-linecap: square\"/>\n   </g>\n   <g id=\"patch_24\">\n    <path d=\"M 30.103125 79.2 \nL 283.739489 79.2 \n\" style=\"fill: none; stroke: #000000; stroke-width: 0.8; stroke-linejoin: miter; stroke-linecap: square\"/>\n   </g>\n  </g>\n  <g id=\"axes_2\">\n   <g id=\"patch_25\">\n    <path d=\"M 334.466761 622.8 \nL 588.103125 622.8 \nL 588.103125 79.2 \nL 334.466761 79.2 \nz\n\" style=\"fill: #ffffff\"/>\n   </g>\n   <g id=\"patch_26\">\n    <path d=\"M 345.995687 622.8 \nL 356.358766 622.8 \nL 356.358766 590.736496 \nL 345.995687 590.736496 \nz\n\" clip-path=\"url(#p9283503fb7)\" style=\"fill: #ffa500\"/>\n   </g>\n   <g id=\"patch_27\">\n    <path d=\"M 358.949536 622.8 \nL 369.312615 622.8 \nL 369.312615 553.370233 \nL 358.949536 553.370233 \nz\n\" clip-path=\"url(#p9283503fb7)\" style=\"fill: #ffa500\"/>\n   </g>\n   <g id=\"patch_28\">\n    <path d=\"M 371.903385 622.8 \nL 382.266464 622.8 \nL 382.266464 530.740573 \nL 371.903385 530.740573 \nz\n\" clip-path=\"url(#p9283503fb7)\" style=\"fill: #ffa500\"/>\n   </g>\n   <g id=\"patch_29\">\n    <path d=\"M 384.857234 622.8 \nL 395.220313 622.8 \nL 395.220313 473.28973 \nL 384.857234 473.28973 \nz\n\" clip-path=\"url(#p9283503fb7)\" style=\"fill: #ffa500\"/>\n   </g>\n   <g id=\"patch_30\">\n    <path d=\"M 397.811083 622.8 \nL 408.174162 622.8 \nL 408.174162 395.945603 \nL 397.811083 395.945603 \nz\n\" clip-path=\"url(#p9283503fb7)\" style=\"fill: #ffa500\"/>\n   </g>\n   <g id=\"patch_31\">\n    <path d=\"M 410.764932 622.8 \nL 421.128011 622.8 \nL 421.128011 285.367818 \nL 410.764932 285.367818 \nz\n\" clip-path=\"url(#p9283503fb7)\" style=\"fill: #ffa500\"/>\n   </g>\n   <g id=\"patch_32\">\n    <path d=\"M 423.718781 622.8 \nL 434.08186 622.8 \nL 434.08186 185.349468 \nL 423.718781 185.349468 \nz\n\" clip-path=\"url(#p9283503fb7)\" style=\"fill: #ffa500\"/>\n   </g>\n   <g id=\"patch_33\">\n    <path d=\"M 436.67263 622.8 \nL 447.035709 622.8 \nL 447.035709 123.121272 \nL 436.67263 123.121272 \nz\n\" clip-path=\"url(#p9283503fb7)\" style=\"fill: #ffa500\"/>\n   </g>\n   <g id=\"patch_34\">\n    <path d=\"M 449.626479 622.8 \nL 459.989558 622.8 \nL 459.989558 105.085714 \nL 449.626479 105.085714 \nz\n\" clip-path=\"url(#p9283503fb7)\" style=\"fill: #ffa500\"/>\n   </g>\n   <g id=\"patch_35\">\n    <path d=\"M 462.580328 622.8 \nL 472.943407 622.8 \nL 472.943407 106.835403 \nL 462.580328 106.835403 \nz\n\" clip-path=\"url(#p9283503fb7)\" style=\"fill: #ffa500\"/>\n   </g>\n   <g id=\"patch_36\">\n    <path d=\"M 475.534177 622.8 \nL 485.897256 622.8 \nL 485.897256 159.94713 \nL 475.534177 159.94713 \nz\n\" clip-path=\"url(#p9283503fb7)\" style=\"fill: #ffa500\"/>\n   </g>\n   <g id=\"patch_37\">\n    <path d=\"M 488.488026 622.8 \nL 498.851105 622.8 \nL 498.851105 204.984288 \nL 488.488026 204.984288 \nz\n\" clip-path=\"url(#p9283503fb7)\" style=\"fill: #ffa500\"/>\n   </g>\n   <g id=\"patch_38\">\n    <path d=\"M 501.441875 622.8 \nL 511.804954 622.8 \nL 511.804954 263.647674 \nL 501.441875 263.647674 \nz\n\" clip-path=\"url(#p9283503fb7)\" style=\"fill: #ffa500\"/>\n   </g>\n   <g id=\"patch_39\">\n    <path d=\"M 514.395724 622.8 \nL 524.758803 622.8 \nL 524.758803 331.344056 \nL 514.395724 331.344056 \nz\n\" clip-path=\"url(#p9283503fb7)\" style=\"fill: #ffa500\"/>\n   </g>\n   <g id=\"patch_40\">\n    <path d=\"M 527.349573 622.8 \nL 537.712652 622.8 \nL 537.712652 391.008476 \nL 527.349573 391.008476 \nz\n\" clip-path=\"url(#p9283503fb7)\" style=\"fill: #ffa500\"/>\n   </g>\n   <g id=\"patch_41\">\n    <path d=\"M 540.303422 622.8 \nL 550.666501 622.8 \nL 550.666501 454.134884 \nL 540.303422 454.134884 \nz\n\" clip-path=\"url(#p9283503fb7)\" style=\"fill: #ffa500\"/>\n   </g>\n   <g id=\"patch_42\">\n    <path d=\"M 553.257271 622.8 \nL 563.62035 622.8 \nL 563.62035 500.381326 \nL 553.257271 500.381326 \nz\n\" clip-path=\"url(#p9283503fb7)\" style=\"fill: #ffa500\"/>\n   </g>\n   <g id=\"patch_43\">\n    <path d=\"M 566.21112 622.8 \nL 576.574199 622.8 \nL 576.574199 497.436266 \nL 566.21112 497.436266 \nz\n\" clip-path=\"url(#p9283503fb7)\" style=\"fill: #ffa500\"/>\n   </g>\n   <g id=\"matplotlib.axis_3\">\n    <g id=\"xtick_19\">\n     <g id=\"line2d_24\">\n      <g>\n       <use xlink:href=\"#mf7632b84ef\" x=\"351.177227\" y=\"622.8\" style=\"stroke: #000000; stroke-width: 0.8\"/>\n      </g>\n     </g>\n     <g id=\"text_25\">\n      <!-- Under 5 years -->\n      <g transform=\"translate(353.936602 700.307812)rotate(-90)scale(0.1 -0.1)\">\n       <use xlink:href=\"#DejaVuSans-55\"/>\n       <use xlink:href=\"#DejaVuSans-6e\" x=\"73.193359\"/>\n       <use xlink:href=\"#DejaVuSans-64\" x=\"136.572266\"/>\n       <use xlink:href=\"#DejaVuSans-65\" x=\"200.048828\"/>\n       <use xlink:href=\"#DejaVuSans-72\" x=\"261.572266\"/>\n       <use xlink:href=\"#DejaVuSans-20\" x=\"302.685547\"/>\n       <use xlink:href=\"#DejaVuSans-35\" x=\"334.472656\"/>\n       <use xlink:href=\"#DejaVuSans-20\" x=\"398.095703\"/>\n       <use xlink:href=\"#DejaVuSans-79\" x=\"429.882812\"/>\n       <use xlink:href=\"#DejaVuSans-65\" x=\"489.0625\"/>\n       <use xlink:href=\"#DejaVuSans-61\" x=\"550.585938\"/>\n       <use xlink:href=\"#DejaVuSans-72\" x=\"611.865234\"/>\n       <use xlink:href=\"#DejaVuSans-73\" x=\"652.978516\"/>\n      </g>\n     </g>\n    </g>\n    <g id=\"xtick_20\">\n     <g id=\"line2d_25\">\n      <g>\n       <use xlink:href=\"#mf7632b84ef\" x=\"364.131076\" y=\"622.8\" style=\"stroke: #000000; stroke-width: 0.8\"/>\n      </g>\n     </g>\n     <g id=\"text_26\">\n      <!-- 5 to 9 years -->\n      <g transform=\"translate(366.890451 689.61875)rotate(-90)scale(0.1 -0.1)\">\n       <use xlink:href=\"#DejaVuSans-35\"/>\n       <use xlink:href=\"#DejaVuSans-20\" x=\"63.623047\"/>\n       <use xlink:href=\"#DejaVuSans-74\" x=\"95.410156\"/>\n       <use xlink:href=\"#DejaVuSans-6f\" x=\"134.619141\"/>\n       <use xlink:href=\"#DejaVuSans-20\" x=\"195.800781\"/>\n       <use xlink:href=\"#DejaVuSans-39\" x=\"227.587891\"/>\n       <use xlink:href=\"#DejaVuSans-20\" x=\"291.210938\"/>\n       <use xlink:href=\"#DejaVuSans-79\" x=\"322.998047\"/>\n       <use xlink:href=\"#DejaVuSans-65\" x=\"382.177734\"/>\n       <use xlink:href=\"#DejaVuSans-61\" x=\"443.701172\"/>\n       <use xlink:href=\"#DejaVuSans-72\" x=\"504.980469\"/>\n       <use xlink:href=\"#DejaVuSans-73\" x=\"546.09375\"/>\n      </g>\n     </g>\n    </g>\n    <g id=\"xtick_21\">\n     <g id=\"line2d_26\">\n      <g>\n       <use xlink:href=\"#mf7632b84ef\" x=\"377.084925\" y=\"622.8\" style=\"stroke: #000000; stroke-width: 0.8\"/>\n      </g>\n     </g>\n     <g id=\"text_27\">\n      <!-- 10 to 14 years -->\n      <g transform=\"translate(379.8443 702.34375)rotate(-90)scale(0.1 -0.1)\">\n       <use xlink:href=\"#DejaVuSans-31\"/>\n       <use xlink:href=\"#DejaVuSans-30\" x=\"63.623047\"/>\n       <use xlink:href=\"#DejaVuSans-20\" x=\"127.246094\"/>\n       <use xlink:href=\"#DejaVuSans-74\" x=\"159.033203\"/>\n       <use xlink:href=\"#DejaVuSans-6f\" x=\"198.242188\"/>\n       <use xlink:href=\"#DejaVuSans-20\" x=\"259.423828\"/>\n       <use xlink:href=\"#DejaVuSans-31\" x=\"291.210938\"/>\n       <use xlink:href=\"#DejaVuSans-34\" x=\"354.833984\"/>\n       <use xlink:href=\"#DejaVuSans-20\" x=\"418.457031\"/>\n       <use xlink:href=\"#DejaVuSans-79\" x=\"450.244141\"/>\n       <use xlink:href=\"#DejaVuSans-65\" x=\"509.423828\"/>\n       <use xlink:href=\"#DejaVuSans-61\" x=\"570.947266\"/>\n       <use xlink:href=\"#DejaVuSans-72\" x=\"632.226562\"/>\n       <use xlink:href=\"#DejaVuSans-73\" x=\"673.339844\"/>\n      </g>\n     </g>\n    </g>\n    <g id=\"xtick_22\">\n     <g id=\"line2d_27\">\n      <g>\n       <use xlink:href=\"#mf7632b84ef\" x=\"390.038774\" y=\"622.8\" style=\"stroke: #000000; stroke-width: 0.8\"/>\n      </g>\n     </g>\n     <g id=\"text_28\">\n      <!-- 15 to 19 years -->\n      <g transform=\"translate(392.798149 702.34375)rotate(-90)scale(0.1 -0.1)\">\n       <use xlink:href=\"#DejaVuSans-31\"/>\n       <use xlink:href=\"#DejaVuSans-35\" x=\"63.623047\"/>\n       <use xlink:href=\"#DejaVuSans-20\" x=\"127.246094\"/>\n       <use xlink:href=\"#DejaVuSans-74\" x=\"159.033203\"/>\n       <use xlink:href=\"#DejaVuSans-6f\" x=\"198.242188\"/>\n       <use xlink:href=\"#DejaVuSans-20\" x=\"259.423828\"/>\n       <use xlink:href=\"#DejaVuSans-31\" x=\"291.210938\"/>\n       <use xlink:href=\"#DejaVuSans-39\" x=\"354.833984\"/>\n       <use xlink:href=\"#DejaVuSans-20\" x=\"418.457031\"/>\n       <use xlink:href=\"#DejaVuSans-79\" x=\"450.244141\"/>\n       <use xlink:href=\"#DejaVuSans-65\" x=\"509.423828\"/>\n       <use xlink:href=\"#DejaVuSans-61\" x=\"570.947266\"/>\n       <use xlink:href=\"#DejaVuSans-72\" x=\"632.226562\"/>\n       <use xlink:href=\"#DejaVuSans-73\" x=\"673.339844\"/>\n      </g>\n     </g>\n    </g>\n    <g id=\"xtick_23\">\n     <g id=\"line2d_28\">\n      <g>\n       <use xlink:href=\"#mf7632b84ef\" x=\"402.992623\" y=\"622.8\" style=\"stroke: #000000; stroke-width: 0.8\"/>\n      </g>\n     </g>\n     <g id=\"text_29\">\n      <!-- 20 to 24 years -->\n      <g transform=\"translate(405.751998 702.34375)rotate(-90)scale(0.1 -0.1)\">\n       <use xlink:href=\"#DejaVuSans-32\"/>\n       <use xlink:href=\"#DejaVuSans-30\" x=\"63.623047\"/>\n       <use xlink:href=\"#DejaVuSans-20\" x=\"127.246094\"/>\n       <use xlink:href=\"#DejaVuSans-74\" x=\"159.033203\"/>\n       <use xlink:href=\"#DejaVuSans-6f\" x=\"198.242188\"/>\n       <use xlink:href=\"#DejaVuSans-20\" x=\"259.423828\"/>\n       <use xlink:href=\"#DejaVuSans-32\" x=\"291.210938\"/>\n       <use xlink:href=\"#DejaVuSans-34\" x=\"354.833984\"/>\n       <use xlink:href=\"#DejaVuSans-20\" x=\"418.457031\"/>\n       <use xlink:href=\"#DejaVuSans-79\" x=\"450.244141\"/>\n       <use xlink:href=\"#DejaVuSans-65\" x=\"509.423828\"/>\n       <use xlink:href=\"#DejaVuSans-61\" x=\"570.947266\"/>\n       <use xlink:href=\"#DejaVuSans-72\" x=\"632.226562\"/>\n       <use xlink:href=\"#DejaVuSans-73\" x=\"673.339844\"/>\n      </g>\n     </g>\n    </g>\n    <g id=\"xtick_24\">\n     <g id=\"line2d_29\">\n      <g>\n       <use xlink:href=\"#mf7632b84ef\" x=\"415.946472\" y=\"622.8\" style=\"stroke: #000000; stroke-width: 0.8\"/>\n      </g>\n     </g>\n     <g id=\"text_30\">\n      <!-- 25 to 29 years -->\n      <g transform=\"translate(418.705847 702.34375)rotate(-90)scale(0.1 -0.1)\">\n       <use xlink:href=\"#DejaVuSans-32\"/>\n       <use xlink:href=\"#DejaVuSans-35\" x=\"63.623047\"/>\n       <use xlink:href=\"#DejaVuSans-20\" x=\"127.246094\"/>\n       <use xlink:href=\"#DejaVuSans-74\" x=\"159.033203\"/>\n       <use xlink:href=\"#DejaVuSans-6f\" x=\"198.242188\"/>\n       <use xlink:href=\"#DejaVuSans-20\" x=\"259.423828\"/>\n       <use xlink:href=\"#DejaVuSans-32\" x=\"291.210938\"/>\n       <use xlink:href=\"#DejaVuSans-39\" x=\"354.833984\"/>\n       <use xlink:href=\"#DejaVuSans-20\" x=\"418.457031\"/>\n       <use xlink:href=\"#DejaVuSans-79\" x=\"450.244141\"/>\n       <use xlink:href=\"#DejaVuSans-65\" x=\"509.423828\"/>\n       <use xlink:href=\"#DejaVuSans-61\" x=\"570.947266\"/>\n       <use xlink:href=\"#DejaVuSans-72\" x=\"632.226562\"/>\n       <use xlink:href=\"#DejaVuSans-73\" x=\"673.339844\"/>\n      </g>\n     </g>\n    </g>\n    <g id=\"xtick_25\">\n     <g id=\"line2d_30\">\n      <g>\n       <use xlink:href=\"#mf7632b84ef\" x=\"428.900321\" y=\"622.8\" style=\"stroke: #000000; stroke-width: 0.8\"/>\n      </g>\n     </g>\n     <g id=\"text_31\">\n      <!-- 30 to 34 years -->\n      <g transform=\"translate(431.659696 702.34375)rotate(-90)scale(0.1 -0.1)\">\n       <use xlink:href=\"#DejaVuSans-33\"/>\n       <use xlink:href=\"#DejaVuSans-30\" x=\"63.623047\"/>\n       <use xlink:href=\"#DejaVuSans-20\" x=\"127.246094\"/>\n       <use xlink:href=\"#DejaVuSans-74\" x=\"159.033203\"/>\n       <use xlink:href=\"#DejaVuSans-6f\" x=\"198.242188\"/>\n       <use xlink:href=\"#DejaVuSans-20\" x=\"259.423828\"/>\n       <use xlink:href=\"#DejaVuSans-33\" x=\"291.210938\"/>\n       <use xlink:href=\"#DejaVuSans-34\" x=\"354.833984\"/>\n       <use xlink:href=\"#DejaVuSans-20\" x=\"418.457031\"/>\n       <use xlink:href=\"#DejaVuSans-79\" x=\"450.244141\"/>\n       <use xlink:href=\"#DejaVuSans-65\" x=\"509.423828\"/>\n       <use xlink:href=\"#DejaVuSans-61\" x=\"570.947266\"/>\n       <use xlink:href=\"#DejaVuSans-72\" x=\"632.226562\"/>\n       <use xlink:href=\"#DejaVuSans-73\" x=\"673.339844\"/>\n      </g>\n     </g>\n    </g>\n    <g id=\"xtick_26\">\n     <g id=\"line2d_31\">\n      <g>\n       <use xlink:href=\"#mf7632b84ef\" x=\"441.85417\" y=\"622.8\" style=\"stroke: #000000; stroke-width: 0.8\"/>\n      </g>\n     </g>\n     <g id=\"text_32\">\n      <!-- 35 to 39 years -->\n      <g transform=\"translate(444.613545 702.34375)rotate(-90)scale(0.1 -0.1)\">\n       <use xlink:href=\"#DejaVuSans-33\"/>\n       <use xlink:href=\"#DejaVuSans-35\" x=\"63.623047\"/>\n       <use xlink:href=\"#DejaVuSans-20\" x=\"127.246094\"/>\n       <use xlink:href=\"#DejaVuSans-74\" x=\"159.033203\"/>\n       <use xlink:href=\"#DejaVuSans-6f\" x=\"198.242188\"/>\n       <use xlink:href=\"#DejaVuSans-20\" x=\"259.423828\"/>\n       <use xlink:href=\"#DejaVuSans-33\" x=\"291.210938\"/>\n       <use xlink:href=\"#DejaVuSans-39\" x=\"354.833984\"/>\n       <use xlink:href=\"#DejaVuSans-20\" x=\"418.457031\"/>\n       <use xlink:href=\"#DejaVuSans-79\" x=\"450.244141\"/>\n       <use xlink:href=\"#DejaVuSans-65\" x=\"509.423828\"/>\n       <use xlink:href=\"#DejaVuSans-61\" x=\"570.947266\"/>\n       <use xlink:href=\"#DejaVuSans-72\" x=\"632.226562\"/>\n       <use xlink:href=\"#DejaVuSans-73\" x=\"673.339844\"/>\n      </g>\n     </g>\n    </g>\n    <g id=\"xtick_27\">\n     <g id=\"line2d_32\">\n      <g>\n       <use xlink:href=\"#mf7632b84ef\" x=\"454.808019\" y=\"622.8\" style=\"stroke: #000000; stroke-width: 0.8\"/>\n      </g>\n     </g>\n     <g id=\"text_33\">\n      <!-- 40 to 44 years -->\n      <g transform=\"translate(457.567394 702.34375)rotate(-90)scale(0.1 -0.1)\">\n       <use xlink:href=\"#DejaVuSans-34\"/>\n       <use xlink:href=\"#DejaVuSans-30\" x=\"63.623047\"/>\n       <use xlink:href=\"#DejaVuSans-20\" x=\"127.246094\"/>\n       <use xlink:href=\"#DejaVuSans-74\" x=\"159.033203\"/>\n       <use xlink:href=\"#DejaVuSans-6f\" x=\"198.242188\"/>\n       <use xlink:href=\"#DejaVuSans-20\" x=\"259.423828\"/>\n       <use xlink:href=\"#DejaVuSans-34\" x=\"291.210938\"/>\n       <use xlink:href=\"#DejaVuSans-34\" x=\"354.833984\"/>\n       <use xlink:href=\"#DejaVuSans-20\" x=\"418.457031\"/>\n       <use xlink:href=\"#DejaVuSans-79\" x=\"450.244141\"/>\n       <use xlink:href=\"#DejaVuSans-65\" x=\"509.423828\"/>\n       <use xlink:href=\"#DejaVuSans-61\" x=\"570.947266\"/>\n       <use xlink:href=\"#DejaVuSans-72\" x=\"632.226562\"/>\n       <use xlink:href=\"#DejaVuSans-73\" x=\"673.339844\"/>\n      </g>\n     </g>\n    </g>\n    <g id=\"xtick_28\">\n     <g id=\"line2d_33\">\n      <g>\n       <use xlink:href=\"#mf7632b84ef\" x=\"467.761868\" y=\"622.8\" style=\"stroke: #000000; stroke-width: 0.8\"/>\n      </g>\n     </g>\n     <g id=\"text_34\">\n      <!-- 45 to 49 years -->\n      <g transform=\"translate(470.521243 702.34375)rotate(-90)scale(0.1 -0.1)\">\n       <use xlink:href=\"#DejaVuSans-34\"/>\n       <use xlink:href=\"#DejaVuSans-35\" x=\"63.623047\"/>\n       <use xlink:href=\"#DejaVuSans-20\" x=\"127.246094\"/>\n       <use xlink:href=\"#DejaVuSans-74\" x=\"159.033203\"/>\n       <use xlink:href=\"#DejaVuSans-6f\" x=\"198.242188\"/>\n       <use xlink:href=\"#DejaVuSans-20\" x=\"259.423828\"/>\n       <use xlink:href=\"#DejaVuSans-34\" x=\"291.210938\"/>\n       <use xlink:href=\"#DejaVuSans-39\" x=\"354.833984\"/>\n       <use xlink:href=\"#DejaVuSans-20\" x=\"418.457031\"/>\n       <use xlink:href=\"#DejaVuSans-79\" x=\"450.244141\"/>\n       <use xlink:href=\"#DejaVuSans-65\" x=\"509.423828\"/>\n       <use xlink:href=\"#DejaVuSans-61\" x=\"570.947266\"/>\n       <use xlink:href=\"#DejaVuSans-72\" x=\"632.226562\"/>\n       <use xlink:href=\"#DejaVuSans-73\" x=\"673.339844\"/>\n      </g>\n     </g>\n    </g>\n    <g id=\"xtick_29\">\n     <g id=\"line2d_34\">\n      <g>\n       <use xlink:href=\"#mf7632b84ef\" x=\"480.715717\" y=\"622.8\" style=\"stroke: #000000; stroke-width: 0.8\"/>\n      </g>\n     </g>\n     <g id=\"text_35\">\n      <!-- 50 to 54 years -->\n      <g transform=\"translate(483.475092 702.34375)rotate(-90)scale(0.1 -0.1)\">\n       <use xlink:href=\"#DejaVuSans-35\"/>\n       <use xlink:href=\"#DejaVuSans-30\" x=\"63.623047\"/>\n       <use xlink:href=\"#DejaVuSans-20\" x=\"127.246094\"/>\n       <use xlink:href=\"#DejaVuSans-74\" x=\"159.033203\"/>\n       <use xlink:href=\"#DejaVuSans-6f\" x=\"198.242188\"/>\n       <use xlink:href=\"#DejaVuSans-20\" x=\"259.423828\"/>\n       <use xlink:href=\"#DejaVuSans-35\" x=\"291.210938\"/>\n       <use xlink:href=\"#DejaVuSans-34\" x=\"354.833984\"/>\n       <use xlink:href=\"#DejaVuSans-20\" x=\"418.457031\"/>\n       <use xlink:href=\"#DejaVuSans-79\" x=\"450.244141\"/>\n       <use xlink:href=\"#DejaVuSans-65\" x=\"509.423828\"/>\n       <use xlink:href=\"#DejaVuSans-61\" x=\"570.947266\"/>\n       <use xlink:href=\"#DejaVuSans-72\" x=\"632.226562\"/>\n       <use xlink:href=\"#DejaVuSans-73\" x=\"673.339844\"/>\n      </g>\n     </g>\n    </g>\n    <g id=\"xtick_30\">\n     <g id=\"line2d_35\">\n      <g>\n       <use xlink:href=\"#mf7632b84ef\" x=\"493.669566\" y=\"622.8\" style=\"stroke: #000000; stroke-width: 0.8\"/>\n      </g>\n     </g>\n     <g id=\"text_36\">\n      <!-- 55 to 59 years -->\n      <g transform=\"translate(496.428941 702.34375)rotate(-90)scale(0.1 -0.1)\">\n       <use xlink:href=\"#DejaVuSans-35\"/>\n       <use xlink:href=\"#DejaVuSans-35\" x=\"63.623047\"/>\n       <use xlink:href=\"#DejaVuSans-20\" x=\"127.246094\"/>\n       <use xlink:href=\"#DejaVuSans-74\" x=\"159.033203\"/>\n       <use xlink:href=\"#DejaVuSans-6f\" x=\"198.242188\"/>\n       <use xlink:href=\"#DejaVuSans-20\" x=\"259.423828\"/>\n       <use xlink:href=\"#DejaVuSans-35\" x=\"291.210938\"/>\n       <use xlink:href=\"#DejaVuSans-39\" x=\"354.833984\"/>\n       <use xlink:href=\"#DejaVuSans-20\" x=\"418.457031\"/>\n       <use xlink:href=\"#DejaVuSans-79\" x=\"450.244141\"/>\n       <use xlink:href=\"#DejaVuSans-65\" x=\"509.423828\"/>\n       <use xlink:href=\"#DejaVuSans-61\" x=\"570.947266\"/>\n       <use xlink:href=\"#DejaVuSans-72\" x=\"632.226562\"/>\n       <use xlink:href=\"#DejaVuSans-73\" x=\"673.339844\"/>\n      </g>\n     </g>\n    </g>\n    <g id=\"xtick_31\">\n     <g id=\"line2d_36\">\n      <g>\n       <use xlink:href=\"#mf7632b84ef\" x=\"506.623415\" y=\"622.8\" style=\"stroke: #000000; stroke-width: 0.8\"/>\n      </g>\n     </g>\n     <g id=\"text_37\">\n      <!-- 60 to 64 years -->\n      <g transform=\"translate(509.38279 702.34375)rotate(-90)scale(0.1 -0.1)\">\n       <use xlink:href=\"#DejaVuSans-36\"/>\n       <use xlink:href=\"#DejaVuSans-30\" x=\"63.623047\"/>\n       <use xlink:href=\"#DejaVuSans-20\" x=\"127.246094\"/>\n       <use xlink:href=\"#DejaVuSans-74\" x=\"159.033203\"/>\n       <use xlink:href=\"#DejaVuSans-6f\" x=\"198.242188\"/>\n       <use xlink:href=\"#DejaVuSans-20\" x=\"259.423828\"/>\n       <use xlink:href=\"#DejaVuSans-36\" x=\"291.210938\"/>\n       <use xlink:href=\"#DejaVuSans-34\" x=\"354.833984\"/>\n       <use xlink:href=\"#DejaVuSans-20\" x=\"418.457031\"/>\n       <use xlink:href=\"#DejaVuSans-79\" x=\"450.244141\"/>\n       <use xlink:href=\"#DejaVuSans-65\" x=\"509.423828\"/>\n       <use xlink:href=\"#DejaVuSans-61\" x=\"570.947266\"/>\n       <use xlink:href=\"#DejaVuSans-72\" x=\"632.226562\"/>\n       <use xlink:href=\"#DejaVuSans-73\" x=\"673.339844\"/>\n      </g>\n     </g>\n    </g>\n    <g id=\"xtick_32\">\n     <g id=\"line2d_37\">\n      <g>\n       <use xlink:href=\"#mf7632b84ef\" x=\"519.577264\" y=\"622.8\" style=\"stroke: #000000; stroke-width: 0.8\"/>\n      </g>\n     </g>\n     <g id=\"text_38\">\n      <!-- 65 to 69 years -->\n      <g transform=\"translate(522.336639 702.34375)rotate(-90)scale(0.1 -0.1)\">\n       <use xlink:href=\"#DejaVuSans-36\"/>\n       <use xlink:href=\"#DejaVuSans-35\" x=\"63.623047\"/>\n       <use xlink:href=\"#DejaVuSans-20\" x=\"127.246094\"/>\n       <use xlink:href=\"#DejaVuSans-74\" x=\"159.033203\"/>\n       <use xlink:href=\"#DejaVuSans-6f\" x=\"198.242188\"/>\n       <use xlink:href=\"#DejaVuSans-20\" x=\"259.423828\"/>\n       <use xlink:href=\"#DejaVuSans-36\" x=\"291.210938\"/>\n       <use xlink:href=\"#DejaVuSans-39\" x=\"354.833984\"/>\n       <use xlink:href=\"#DejaVuSans-20\" x=\"418.457031\"/>\n       <use xlink:href=\"#DejaVuSans-79\" x=\"450.244141\"/>\n       <use xlink:href=\"#DejaVuSans-65\" x=\"509.423828\"/>\n       <use xlink:href=\"#DejaVuSans-61\" x=\"570.947266\"/>\n       <use xlink:href=\"#DejaVuSans-72\" x=\"632.226562\"/>\n       <use xlink:href=\"#DejaVuSans-73\" x=\"673.339844\"/>\n      </g>\n     </g>\n    </g>\n    <g id=\"xtick_33\">\n     <g id=\"line2d_38\">\n      <g>\n       <use xlink:href=\"#mf7632b84ef\" x=\"532.531113\" y=\"622.8\" style=\"stroke: #000000; stroke-width: 0.8\"/>\n      </g>\n     </g>\n     <g id=\"text_39\">\n      <!-- 70 to 74 years -->\n      <g transform=\"translate(535.290488 702.34375)rotate(-90)scale(0.1 -0.1)\">\n       <use xlink:href=\"#DejaVuSans-37\"/>\n       <use xlink:href=\"#DejaVuSans-30\" x=\"63.623047\"/>\n       <use xlink:href=\"#DejaVuSans-20\" x=\"127.246094\"/>\n       <use xlink:href=\"#DejaVuSans-74\" x=\"159.033203\"/>\n       <use xlink:href=\"#DejaVuSans-6f\" x=\"198.242188\"/>\n       <use xlink:href=\"#DejaVuSans-20\" x=\"259.423828\"/>\n       <use xlink:href=\"#DejaVuSans-37\" x=\"291.210938\"/>\n       <use xlink:href=\"#DejaVuSans-34\" x=\"354.833984\"/>\n       <use xlink:href=\"#DejaVuSans-20\" x=\"418.457031\"/>\n       <use xlink:href=\"#DejaVuSans-79\" x=\"450.244141\"/>\n       <use xlink:href=\"#DejaVuSans-65\" x=\"509.423828\"/>\n       <use xlink:href=\"#DejaVuSans-61\" x=\"570.947266\"/>\n       <use xlink:href=\"#DejaVuSans-72\" x=\"632.226562\"/>\n       <use xlink:href=\"#DejaVuSans-73\" x=\"673.339844\"/>\n      </g>\n     </g>\n    </g>\n    <g id=\"xtick_34\">\n     <g id=\"line2d_39\">\n      <g>\n       <use xlink:href=\"#mf7632b84ef\" x=\"545.484962\" y=\"622.8\" style=\"stroke: #000000; stroke-width: 0.8\"/>\n      </g>\n     </g>\n     <g id=\"text_40\">\n      <!-- 75 to 79 years -->\n      <g transform=\"translate(548.244337 702.34375)rotate(-90)scale(0.1 -0.1)\">\n       <use xlink:href=\"#DejaVuSans-37\"/>\n       <use xlink:href=\"#DejaVuSans-35\" x=\"63.623047\"/>\n       <use xlink:href=\"#DejaVuSans-20\" x=\"127.246094\"/>\n       <use xlink:href=\"#DejaVuSans-74\" x=\"159.033203\"/>\n       <use xlink:href=\"#DejaVuSans-6f\" x=\"198.242188\"/>\n       <use xlink:href=\"#DejaVuSans-20\" x=\"259.423828\"/>\n       <use xlink:href=\"#DejaVuSans-37\" x=\"291.210938\"/>\n       <use xlink:href=\"#DejaVuSans-39\" x=\"354.833984\"/>\n       <use xlink:href=\"#DejaVuSans-20\" x=\"418.457031\"/>\n       <use xlink:href=\"#DejaVuSans-79\" x=\"450.244141\"/>\n       <use xlink:href=\"#DejaVuSans-65\" x=\"509.423828\"/>\n       <use xlink:href=\"#DejaVuSans-61\" x=\"570.947266\"/>\n       <use xlink:href=\"#DejaVuSans-72\" x=\"632.226562\"/>\n       <use xlink:href=\"#DejaVuSans-73\" x=\"673.339844\"/>\n      </g>\n     </g>\n    </g>\n    <g id=\"xtick_35\">\n     <g id=\"line2d_40\">\n      <g>\n       <use xlink:href=\"#mf7632b84ef\" x=\"558.438811\" y=\"622.8\" style=\"stroke: #000000; stroke-width: 0.8\"/>\n      </g>\n     </g>\n     <g id=\"text_41\">\n      <!-- 80 to 84 years -->\n      <g transform=\"translate(561.198186 702.34375)rotate(-90)scale(0.1 -0.1)\">\n       <use xlink:href=\"#DejaVuSans-38\"/>\n       <use xlink:href=\"#DejaVuSans-30\" x=\"63.623047\"/>\n       <use xlink:href=\"#DejaVuSans-20\" x=\"127.246094\"/>\n       <use xlink:href=\"#DejaVuSans-74\" x=\"159.033203\"/>\n       <use xlink:href=\"#DejaVuSans-6f\" x=\"198.242188\"/>\n       <use xlink:href=\"#DejaVuSans-20\" x=\"259.423828\"/>\n       <use xlink:href=\"#DejaVuSans-38\" x=\"291.210938\"/>\n       <use xlink:href=\"#DejaVuSans-34\" x=\"354.833984\"/>\n       <use xlink:href=\"#DejaVuSans-20\" x=\"418.457031\"/>\n       <use xlink:href=\"#DejaVuSans-79\" x=\"450.244141\"/>\n       <use xlink:href=\"#DejaVuSans-65\" x=\"509.423828\"/>\n       <use xlink:href=\"#DejaVuSans-61\" x=\"570.947266\"/>\n       <use xlink:href=\"#DejaVuSans-72\" x=\"632.226562\"/>\n       <use xlink:href=\"#DejaVuSans-73\" x=\"673.339844\"/>\n      </g>\n     </g>\n    </g>\n    <g id=\"xtick_36\">\n     <g id=\"line2d_41\">\n      <g>\n       <use xlink:href=\"#mf7632b84ef\" x=\"571.39266\" y=\"622.8\" style=\"stroke: #000000; stroke-width: 0.8\"/>\n      </g>\n     </g>\n     <g id=\"text_42\">\n      <!-- 85 years and over -->\n      <g transform=\"translate(574.152035 720.695312)rotate(-90)scale(0.1 -0.1)\">\n       <use xlink:href=\"#DejaVuSans-38\"/>\n       <use xlink:href=\"#DejaVuSans-35\" x=\"63.623047\"/>\n       <use xlink:href=\"#DejaVuSans-20\" x=\"127.246094\"/>\n       <use xlink:href=\"#DejaVuSans-79\" x=\"159.033203\"/>\n       <use xlink:href=\"#DejaVuSans-65\" x=\"218.212891\"/>\n       <use xlink:href=\"#DejaVuSans-61\" x=\"279.736328\"/>\n       <use xlink:href=\"#DejaVuSans-72\" x=\"341.015625\"/>\n       <use xlink:href=\"#DejaVuSans-73\" x=\"382.128906\"/>\n       <use xlink:href=\"#DejaVuSans-20\" x=\"434.228516\"/>\n       <use xlink:href=\"#DejaVuSans-61\" x=\"466.015625\"/>\n       <use xlink:href=\"#DejaVuSans-6e\" x=\"527.294922\"/>\n       <use xlink:href=\"#DejaVuSans-64\" x=\"590.673828\"/>\n       <use xlink:href=\"#DejaVuSans-20\" x=\"654.150391\"/>\n       <use xlink:href=\"#DejaVuSans-6f\" x=\"685.9375\"/>\n       <use xlink:href=\"#DejaVuSans-76\" x=\"747.119141\"/>\n       <use xlink:href=\"#DejaVuSans-65\" x=\"806.298828\"/>\n       <use xlink:href=\"#DejaVuSans-72\" x=\"867.822266\"/>\n      </g>\n     </g>\n    </g>\n   </g>\n   <g id=\"matplotlib.axis_4\">\n    <g id=\"ytick_6\">\n     <g id=\"line2d_42\">\n      <g>\n       <use xlink:href=\"#md588dbbe79\" x=\"334.466761\" y=\"622.8\" style=\"stroke: #000000; stroke-width: 0.8\"/>\n      </g>\n     </g>\n     <g id=\"text_43\">\n      <!-- 0.0 -->\n      <g transform=\"translate(311.563636 626.599219)scale(0.1 -0.1)\">\n       <use xlink:href=\"#DejaVuSans-30\"/>\n       <use xlink:href=\"#DejaVuSans-2e\" x=\"63.623047\"/>\n       <use xlink:href=\"#DejaVuSans-30\" x=\"95.410156\"/>\n      </g>\n     </g>\n    </g>\n    <g id=\"ytick_7\">\n     <g id=\"line2d_43\">\n      <g>\n       <use xlink:href=\"#md588dbbe79\" x=\"334.466761\" y=\"514.110157\" style=\"stroke: #000000; stroke-width: 0.8\"/>\n      </g>\n     </g>\n     <g id=\"text_44\">\n      <!-- 0.5 -->\n      <g transform=\"translate(311.563636 517.909376)scale(0.1 -0.1)\">\n       <use xlink:href=\"#DejaVuSans-30\"/>\n       <use xlink:href=\"#DejaVuSans-2e\" x=\"63.623047\"/>\n       <use xlink:href=\"#DejaVuSans-35\" x=\"95.410156\"/>\n      </g>\n     </g>\n    </g>\n    <g id=\"ytick_8\">\n     <g id=\"line2d_44\">\n      <g>\n       <use xlink:href=\"#md588dbbe79\" x=\"334.466761\" y=\"405.420314\" style=\"stroke: #000000; stroke-width: 0.8\"/>\n      </g>\n     </g>\n     <g id=\"text_45\">\n      <!-- 1.0 -->\n      <g transform=\"translate(311.563636 409.219533)scale(0.1 -0.1)\">\n       <use xlink:href=\"#DejaVuSans-31\"/>\n       <use xlink:href=\"#DejaVuSans-2e\" x=\"63.623047\"/>\n       <use xlink:href=\"#DejaVuSans-30\" x=\"95.410156\"/>\n      </g>\n     </g>\n    </g>\n    <g id=\"ytick_9\">\n     <g id=\"line2d_45\">\n      <g>\n       <use xlink:href=\"#md588dbbe79\" x=\"334.466761\" y=\"296.730471\" style=\"stroke: #000000; stroke-width: 0.8\"/>\n      </g>\n     </g>\n     <g id=\"text_46\">\n      <!-- 1.5 -->\n      <g transform=\"translate(311.563636 300.52969)scale(0.1 -0.1)\">\n       <use xlink:href=\"#DejaVuSans-31\"/>\n       <use xlink:href=\"#DejaVuSans-2e\" x=\"63.623047\"/>\n       <use xlink:href=\"#DejaVuSans-35\" x=\"95.410156\"/>\n      </g>\n     </g>\n    </g>\n    <g id=\"ytick_10\">\n     <g id=\"line2d_46\">\n      <g>\n       <use xlink:href=\"#md588dbbe79\" x=\"334.466761\" y=\"188.040628\" style=\"stroke: #000000; stroke-width: 0.8\"/>\n      </g>\n     </g>\n     <g id=\"text_47\">\n      <!-- 2.0 -->\n      <g transform=\"translate(311.563636 191.839847)scale(0.1 -0.1)\">\n       <use xlink:href=\"#DejaVuSans-32\"/>\n       <use xlink:href=\"#DejaVuSans-2e\" x=\"63.623047\"/>\n       <use xlink:href=\"#DejaVuSans-30\" x=\"95.410156\"/>\n      </g>\n     </g>\n    </g>\n    <g id=\"ytick_11\">\n     <g id=\"line2d_47\">\n      <g>\n       <use xlink:href=\"#md588dbbe79\" x=\"334.466761\" y=\"79.350785\" style=\"stroke: #000000; stroke-width: 0.8\"/>\n      </g>\n     </g>\n     <g id=\"text_48\">\n      <!-- 2.5 -->\n      <g transform=\"translate(311.563636 83.150004)scale(0.1 -0.1)\">\n       <use xlink:href=\"#DejaVuSans-32\"/>\n       <use xlink:href=\"#DejaVuSans-2e\" x=\"63.623047\"/>\n       <use xlink:href=\"#DejaVuSans-35\" x=\"95.410156\"/>\n      </g>\n     </g>\n    </g>\n    <g id=\"text_49\">\n     <!-- 1e6 -->\n     <g transform=\"translate(334.466761 76.2)scale(0.1 -0.1)\">\n      <use xlink:href=\"#DejaVuSans-31\"/>\n      <use xlink:href=\"#DejaVuSans-65\" x=\"63.623047\"/>\n      <use xlink:href=\"#DejaVuSans-36\" x=\"125.146484\"/>\n     </g>\n    </g>\n   </g>\n   <g id=\"patch_44\">\n    <path d=\"M 334.466761 622.8 \nL 334.466761 79.2 \n\" style=\"fill: none; stroke: #000000; stroke-width: 0.8; stroke-linejoin: miter; stroke-linecap: square\"/>\n   </g>\n   <g id=\"patch_45\">\n    <path d=\"M 588.103125 622.8 \nL 588.103125 79.2 \n\" style=\"fill: none; stroke: #000000; stroke-width: 0.8; stroke-linejoin: miter; stroke-linecap: square\"/>\n   </g>\n   <g id=\"patch_46\">\n    <path d=\"M 334.466761 622.8 \nL 588.103125 622.8 \n\" style=\"fill: none; stroke: #000000; stroke-width: 0.8; stroke-linejoin: miter; stroke-linecap: square\"/>\n   </g>\n   <g id=\"patch_47\">\n    <path d=\"M 334.466761 79.2 \nL 588.103125 79.2 \n\" style=\"fill: none; stroke: #000000; stroke-width: 0.8; stroke-linejoin: miter; stroke-linecap: square\"/>\n   </g>\n  </g>\n  <g id=\"text_50\">\n   <!-- Age By Gender For USA -->\n   <g transform=\"translate(229.303125 16.318125)scale(0.12 -0.12)\">\n    <defs>\n     <path id=\"DejaVuSans-41\" d=\"M 2188 4044 \nL 1331 1722 \nL 3047 1722 \nL 2188 4044 \nz\nM 1831 4666 \nL 2547 4666 \nL 4325 0 \nL 3669 0 \nL 3244 1197 \nL 1141 1197 \nL 716 0 \nL 50 0 \nL 1831 4666 \nz\n\" transform=\"scale(0.015625)\"/>\n     <path id=\"DejaVuSans-67\" d=\"M 2906 1791 \nQ 2906 2416 2648 2759 \nQ 2391 3103 1925 3103 \nQ 1463 3103 1205 2759 \nQ 947 2416 947 1791 \nQ 947 1169 1205 825 \nQ 1463 481 1925 481 \nQ 2391 481 2648 825 \nQ 2906 1169 2906 1791 \nz\nM 3481 434 \nQ 3481 -459 3084 -895 \nQ 2688 -1331 1869 -1331 \nQ 1566 -1331 1297 -1286 \nQ 1028 -1241 775 -1147 \nL 775 -588 \nQ 1028 -725 1275 -790 \nQ 1522 -856 1778 -856 \nQ 2344 -856 2625 -561 \nQ 2906 -266 2906 331 \nL 2906 616 \nQ 2728 306 2450 153 \nQ 2172 0 1784 0 \nQ 1141 0 747 490 \nQ 353 981 353 1791 \nQ 353 2603 747 3093 \nQ 1141 3584 1784 3584 \nQ 2172 3584 2450 3431 \nQ 2728 3278 2906 2969 \nL 2906 3500 \nL 3481 3500 \nL 3481 434 \nz\n\" transform=\"scale(0.015625)\"/>\n     <path id=\"DejaVuSans-42\" d=\"M 1259 2228 \nL 1259 519 \nL 2272 519 \nQ 2781 519 3026 730 \nQ 3272 941 3272 1375 \nQ 3272 1813 3026 2020 \nQ 2781 2228 2272 2228 \nL 1259 2228 \nz\nM 1259 4147 \nL 1259 2741 \nL 2194 2741 \nQ 2656 2741 2882 2914 \nQ 3109 3088 3109 3444 \nQ 3109 3797 2882 3972 \nQ 2656 4147 2194 4147 \nL 1259 4147 \nz\nM 628 4666 \nL 2241 4666 \nQ 2963 4666 3353 4366 \nQ 3744 4066 3744 3513 \nQ 3744 3084 3544 2831 \nQ 3344 2578 2956 2516 \nQ 3422 2416 3680 2098 \nQ 3938 1781 3938 1306 \nQ 3938 681 3513 340 \nQ 3088 0 2303 0 \nL 628 0 \nL 628 4666 \nz\n\" transform=\"scale(0.015625)\"/>\n     <path id=\"DejaVuSans-47\" d=\"M 3809 666 \nL 3809 1919 \nL 2778 1919 \nL 2778 2438 \nL 4434 2438 \nL 4434 434 \nQ 4069 175 3628 42 \nQ 3188 -91 2688 -91 \nQ 1594 -91 976 548 \nQ 359 1188 359 2328 \nQ 359 3472 976 4111 \nQ 1594 4750 2688 4750 \nQ 3144 4750 3555 4637 \nQ 3966 4525 4313 4306 \nL 4313 3634 \nQ 3963 3931 3569 4081 \nQ 3175 4231 2741 4231 \nQ 1884 4231 1454 3753 \nQ 1025 3275 1025 2328 \nQ 1025 1384 1454 906 \nQ 1884 428 2741 428 \nQ 3075 428 3337 486 \nQ 3600 544 3809 666 \nz\n\" transform=\"scale(0.015625)\"/>\n     <path id=\"DejaVuSans-46\" d=\"M 628 4666 \nL 3309 4666 \nL 3309 4134 \nL 1259 4134 \nL 1259 2759 \nL 3109 2759 \nL 3109 2228 \nL 1259 2228 \nL 1259 0 \nL 628 0 \nL 628 4666 \nz\n\" transform=\"scale(0.015625)\"/>\n     <path id=\"DejaVuSans-53\" d=\"M 3425 4513 \nL 3425 3897 \nQ 3066 4069 2747 4153 \nQ 2428 4238 2131 4238 \nQ 1616 4238 1336 4038 \nQ 1056 3838 1056 3469 \nQ 1056 3159 1242 3001 \nQ 1428 2844 1947 2747 \nL 2328 2669 \nQ 3034 2534 3370 2195 \nQ 3706 1856 3706 1288 \nQ 3706 609 3251 259 \nQ 2797 -91 1919 -91 \nQ 1588 -91 1214 -16 \nQ 841 59 441 206 \nL 441 856 \nQ 825 641 1194 531 \nQ 1563 422 1919 422 \nQ 2459 422 2753 634 \nQ 3047 847 3047 1241 \nQ 3047 1584 2836 1778 \nQ 2625 1972 2144 2069 \nL 1759 2144 \nQ 1053 2284 737 2584 \nQ 422 2884 422 3419 \nQ 422 4038 858 4394 \nQ 1294 4750 2059 4750 \nQ 2388 4750 2728 4690 \nQ 3069 4631 3425 4513 \nz\n\" transform=\"scale(0.015625)\"/>\n    </defs>\n    <use xlink:href=\"#DejaVuSans-41\"/>\n    <use xlink:href=\"#DejaVuSans-67\" x=\"68.408203\"/>\n    <use xlink:href=\"#DejaVuSans-65\" x=\"131.884766\"/>\n    <use xlink:href=\"#DejaVuSans-20\" x=\"193.408203\"/>\n    <use xlink:href=\"#DejaVuSans-42\" x=\"225.195312\"/>\n    <use xlink:href=\"#DejaVuSans-79\" x=\"293.798828\"/>\n    <use xlink:href=\"#DejaVuSans-20\" x=\"352.978516\"/>\n    <use xlink:href=\"#DejaVuSans-47\" x=\"384.765625\"/>\n    <use xlink:href=\"#DejaVuSans-65\" x=\"462.255859\"/>\n    <use xlink:href=\"#DejaVuSans-6e\" x=\"523.779297\"/>\n    <use xlink:href=\"#DejaVuSans-64\" x=\"587.158203\"/>\n    <use xlink:href=\"#DejaVuSans-65\" x=\"650.634766\"/>\n    <use xlink:href=\"#DejaVuSans-72\" x=\"712.158203\"/>\n    <use xlink:href=\"#DejaVuSans-20\" x=\"753.271484\"/>\n    <use xlink:href=\"#DejaVuSans-46\" x=\"785.058594\"/>\n    <use xlink:href=\"#DejaVuSans-6f\" x=\"838.953125\"/>\n    <use xlink:href=\"#DejaVuSans-72\" x=\"900.134766\"/>\n    <use xlink:href=\"#DejaVuSans-20\" x=\"941.248047\"/>\n    <use xlink:href=\"#DejaVuSans-55\" x=\"973.035156\"/>\n    <use xlink:href=\"#DejaVuSans-53\" x=\"1046.228516\"/>\n    <use xlink:href=\"#DejaVuSans-41\" x=\"1111.580078\"/>\n   </g>\n  </g>\n </g>\n <defs>\n  <clipPath id=\"p42c54ae2df\">\n   <rect x=\"30.103125\" y=\"79.2\" width=\"253.636364\" height=\"543.6\"/>\n  </clipPath>\n  <clipPath id=\"p9283503fb7\">\n   <rect x=\"334.466761\" y=\"79.2\" width=\"253.636364\" height=\"543.6\"/>\n  </clipPath>\n </defs>\n</svg>\n",
      "text/plain": [
       "<Figure size 720x720 with 2 Axes>"
      ]
     },
     "metadata": {
      "needs_background": "light"
     },
     "output_type": "display_data"
    }
   ],
   "source": [
    "male, female = Sex_distro(Slice_list,Us_Age)\n",
    "\n",
    "\n",
    "# plot\n",
    "fig, ax = plt.subplots(1,2,figsize=(10, 10))\n",
    "fig.suptitle('Age By Gender For USA')\n",
    "plt.xticks(rotation=90)\n",
    "plt.xticks(rotation=90)\n",
    "\n",
    "width = 0.2\n",
    "\n",
    "ax[0].bar(male['Header'], male['Value'], color='cyan', linewidth=0.7, label='Male')\n",
    "ax[1].bar(female['Header'], female['Value'], color='orange', linewidth=0.7, label='Female')\n",
    "\n",
    "#ax.set_xticklabels(ax.get_yticks(), rotation = 90)\n",
    "\n",
    "plt.show()\n"
   ]
  },
  {
   "cell_type": "markdown",
   "metadata": {},
   "source": [
    "##### G10 To US"
   ]
  },
  {
   "cell_type": "code",
   "execution_count": null,
   "metadata": {},
   "outputs": [],
   "source": []
  },
  {
   "cell_type": "markdown",
   "metadata": {},
   "source": [
    "## Data Analysis/Interpretation"
   ]
  }
 ],
 "metadata": {
  "kernelspec": {
   "display_name": "Python 3.8.10 ('venv': venv)",
   "language": "python",
   "name": "python3"
  },
  "language_info": {
   "codemirror_mode": {
    "name": "ipython",
    "version": 3
   },
   "file_extension": ".py",
   "mimetype": "text/x-python",
   "name": "python",
   "nbconvert_exporter": "python",
   "pygments_lexer": "ipython3",
   "version": "3.8.10"
  },
  "orig_nbformat": 4,
  "vscode": {
   "interpreter": {
    "hash": "a9bc2eca252ca9104bad7a4b64c25eb2799c1932a27d48f0dbe729dd29c09cb7"
   }
  }
 },
 "nbformat": 4,
 "nbformat_minor": 2
}
