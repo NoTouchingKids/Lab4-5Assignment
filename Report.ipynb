{
 "cells": [
  {
   "cell_type": "markdown",
   "metadata": {},
   "source": [
    "---\n",
    "### Declaration\n",
    "\n",
    "We are aware of the University’s [policy on academic conduct](https://www.governance.uwa.edu.au/procedures/policies/policies-and-procedures?method=document&id=UP07/21) and we declare that this assignment is our own work entirely and that suitable acknowledgement has been made for any sources of information used in preparing it. We have retained a hard copy for my own records.\n",
    "\n",
    "Names: Alexia Fassetta and Kashish Patel\n",
    "\n",
    "Date: 09/09/22"
   ]
  },
  {
   "cell_type": "markdown",
   "metadata": {},
   "source": [
    "---\n",
    "<span style=\"font-size:x-large;\">Lab 4: Mini-Assignment</span>\n",
    "\n",
    "# Census Lab Assignment\n",
    "\n",
    "## Task\n",
    "\n",
    "This assingment aims to investigate the similarities and difference between the United States and Australia.  We use census data provided by the Australian Bureau of Statistics (ABS) and the United States Census Bureau to derive insights.\n",
    "\n",
    "---\n",
    "\n",
    "# Multiculturalism: Australia VS America\n",
    "\n",
    "## Context\n",
    "\n",
    "\n",
    "## Data Acquisition\n",
    "\n",
    "The Data used for Australia's Analysis was collected from the [ABS 2021 Census DataPacks](>> provide link?? ). \n",
    "\n",
    "For the 3 steps listed we have selected:\n",
    "- Census Year: **2021 Census Datapacks**\n",
    "- DataPacks Type: **General Community Profile**\n",
    "- Geography: **Australia**\n",
    "\n",
    "From this particular DataPack we will utilise the tables:\n",
    "- **G09**: *Country of Birth of Person by Age by Sex*\n",
    "- **G10**: *Country of Birth by Year of Arrival in Australia*\n",
    "\n",
    "This data provides information to allow us to conduct our analysis:\n",
    "- Country of birth\n",
    "- Gender\n",
    "- Year of arrival\n",
    "- Age at immigration\n",
    "\n",
    "---\n",
    "# Australia\n",
    "## Data Cleaning/Conversion\n",
    "\n",
    "Firstly, we will read in the required packages and import the required software"
   ]
  },
  {
   "cell_type": "code",
   "execution_count": 19,
   "metadata": {},
   "outputs": [],
   "source": [
    "import numpy as np\n",
    "import matplotlib.pyplot as plt"
   ]
  },
  {
   "cell_type": "markdown",
   "metadata": {},
   "source": [
    "# America\n",
    "## Data Cleaning/Conversion"
   ]
  }
 ],
 "metadata": {
  "kernelspec": {
   "display_name": "Python 3.10.6 ('venv': venv)",
   "language": "python",
   "name": "python3"
  },
  "language_info": {
   "codemirror_mode": {
    "name": "ipython",
    "version": 3
   },
   "file_extension": ".py",
   "mimetype": "text/x-python",
   "name": "python",
   "nbconvert_exporter": "python",
   "pygments_lexer": "ipython3",
   "version": "3.10.6"
  },
  "orig_nbformat": 4,
  "vscode": {
   "interpreter": {
    "hash": "d54c97a48544b052d059cf2f2b79a33ce3e4a02c3573ad5e49241979bddd619f"
   }
  }
 },
 "nbformat": 4,
 "nbformat_minor": 2
}
