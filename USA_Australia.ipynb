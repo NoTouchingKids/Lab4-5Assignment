{
 "cells": [
  {
   "cell_type": "markdown",
   "metadata": {
    "collapsed": false
   },
   "source": [
    "<h3>Lab 4/5: Assignment</h3>\n",
    "\n",
    "# USA - Australia Comparison on Census Data\n",
    "\n",
    "---"
   ]
  },
  {
   "cell_type": "markdown",
   "metadata": {
    "collapsed": false,
    "deletable": false
   },
   "source": [
    "## Declaration\n",
    "\n",
    "This declaration should be completed and remain attached to the top of your submission.\n",
    "\n",
    "*I/we am/are aware of the University’s [policy on academic conduct](https://www.uwa.edu.au/policy/-/media/Project/UWA/UWA/Policy-Library/Policy/Student-Administration/Academic-Integrity/Academic-Integrity-Policy.doc) and I declare that this assignment is entirely the work of the author(s) listed below and that suitable acknowledgement has been made for any sources of information used in preparing it. I have retained a hard copy for my own records.*\n",
    "\n",
    "* Name 1:\n",
    "* Student ID 1:\n",
    "* Name 2:\n",
    "* Student ID 2:\n",
    "* Name 3:\n",
    "* Student ID 3:\n",
    "* Date:\n",
    "\n",
    "If the assignment was completed in a group, please enter the student numbers in the \"StudyBuddy\" declaration below:\n",
    "\n"
   ]
  },
  {
   "cell_type": "code",
   "execution_count": 353,
   "metadata": {
    "collapsed": false
   },
   "outputs": [
   ],
   "source": [
    "StudyBuddies = []"
   ]
  },
  {
   "cell_type": "code",
   "execution_count": 0,
   "metadata": {
    "collapsed": false
   },
   "outputs": [
   ],
   "source": [
   ]
  },
  {
   "cell_type": "markdown",
   "metadata": {
    "collapsed": false,
    "deletable": false,
    "editable": false,
    "nbgrader": {
     "grade": false,
     "grade_id": "assignment",
     "locked": true,
     "points": 15,
     "schema_version": 3,
     "solution": false,
     "task": true
    }
   },
   "source": [
    "\n",
    "<hr>\n"
   ]
  },
  {
   "cell_type": "code",
   "execution_count": 354,
   "metadata": {
    "collapsed": false
   },
   "outputs": [
   ],
   "source": [
    "# Your work starts here..."
   ]
  },
  {
   "cell_type": "code",
   "execution_count": 355,
   "metadata": {
    "collapsed": false
   },
   "outputs": [
   ],
   "source": [
    "G13_FILES = [\"2021Census_G09F_AUS_AUS.csv\",\n",
    "             \"2021Census_G09G_AUS_AUS.csv\",\n",
    "             \"2021Census_G09H_AUS_AUS.csv\"\n",
    "            ]"
   ]
  },
  {
   "cell_type": "code",
   "execution_count": 0,
   "metadata": {
    "collapsed": false
   },
   "outputs": [
   ],
   "source": [
   ]
  },
  {
   "cell_type": "code",
   "execution_count": 402,
   "metadata": {
    "collapsed": false
   },
   "outputs": [
    {
     "name": "stdout",
     "output_type": "stream",
     "text": [
      "['P_Pakistan_0_4', 'P_Pakistan_5_14', 'P_Pakistan_15_24', 'P_Pakistan_25_44', 'P_Pakistan_45_54', 'P_Pakistan_55_64', 'P_Pakistan_65_74', 'P_Pakistan_75_84', 'P_Pakistan_85ov', 'P_Pakistan_Tot', 'P_PNG_0_4', 'P_PNG_5_14', 'P_PNG_15_24', 'P_PNG_25_44', 'P_PNG_45_54', 'P_PNG_55_64', 'P_PNG_65_74', 'P_PNG_75_84', 'P_PNG_85ov', 'P_PNG_Tot', 'P_Philippines_0_4', 'P_Philippines_5_14', 'P_Philippines_15_24', 'P_Philippines_25_44', 'P_Philippines_45_54', 'P_Philippines_55_64', 'P_Philippines_65_74', 'P_Philippines_75_84', 'P_Philippines_85ov', 'P_Philippines_Tot', 'P_Poland_0_4', 'P_Poland_5_14', 'P_Poland_15_24', 'P_Poland_25_44', 'P_Poland_45_54', 'P_Poland_55_64', 'P_Poland_65_74', 'P_Poland_75_84', 'P_Poland_85ov', 'P_Poland_Tot', 'P_Samoa_0_4', 'P_Samoa_5_14', 'P_Samoa_15_24', 'P_Samoa_25_44', 'P_Samoa_45_54', 'P_Samoa_55_64', 'P_Samoa_65_74', 'P_Samoa_75_84', 'P_Samoa_85ov', 'P_Samoa_Tot', 'P_Scotland_0_4', 'P_Scotland_5_14', 'P_Scotland_15_24', 'P_Scotland_25_44', 'P_Scotland_45_54', 'P_Scotland_55_64', 'P_Scotland_65_74', 'P_Scotland_75_84', 'P_Scotland_85ov', 'P_Scotland_Tot', 'P_Singapore_0_4', 'P_Singapore_5_14', 'P_Singapore_15_24', 'P_Singapore_25_44', 'P_Singapore_45_54', 'P_Singapore_55_64', 'P_Singapore_65_74', 'P_Singapore_75_84', 'P_Singapore_85ov', 'P_Singapore_Tot', 'P_South_Africa_0_4', 'P_South_Africa_5_14', 'P_South_Africa_15_24', 'P_South_Africa_25_44', 'P_South_Africa_45_54', 'P_South_Africa_55_64', 'P_South_Africa_65_74', 'P_South_Africa_75_84', 'P_South_Africa_85ov', 'P_South_Africa_Tot', 'P_Sri_Lanka_0_4', 'P_Sri_Lanka_5_14', 'P_Sri_Lanka_15_24', 'P_Sri_Lanka_25_44', 'P_Sri_Lanka_45_54', 'P_Sri_Lanka_55_64', 'P_Sri_Lanka_65_74', 'P_Sri_Lanka_75_84', 'P_Sri_Lanka_85ov', 'P_Sri_Lanka_Tot', 'P_Taiwan_0_4', 'P_Taiwan_5_14', 'P_Taiwan_15_24', 'P_Taiwan_25_44', 'P_Taiwan_45_54', 'P_Taiwan_55_64', 'P_Taiwan_65_74', 'P_Taiwan_75_84', 'P_Taiwan_85ov', 'P_Taiwan_Tot', 'P_Thailand_0_4', 'P_Thailand_5_14', 'P_Thailand_15_24', 'P_Thailand_25_44', 'P_Thailand_45_54', 'P_Thailand_55_64', 'P_Thailand_65_74', 'P_Thailand_75_84', 'P_Thailand_85ov', 'P_Thailand_Tot', 'P_Turkey_0_4', 'P_Turkey_5_14', 'P_Turkey_15_24', 'P_Turkey_25_44', 'P_Turkey_45_54', 'P_Turkey_55_64', 'P_Turkey_65_74', 'P_Turkey_75_84', 'P_Turkey_85ov', 'P_Turkey_Tot', 'P_USA_0_4', 'P_USA_5_14', 'P_USA_15_24', 'P_USA_25_44', 'P_USA_45_54', 'P_USA_55_64', 'P_USA_65_74', 'P_USA_75_84', 'P_USA_85ov', 'P_USA_Tot', 'P_Vietnam_0_4', 'P_Vietnam_5_14', 'P_Vietnam_15_24', 'P_Vietnam_25_44', 'P_Vietnam_45_54', 'P_Vietnam_55_64', 'P_Vietnam_65_74', 'P_Vietnam_75_84', 'P_Vietnam_85ov', 'P_Vietnam_Tot', 'P_Wales_0_4', 'P_Wales_5_14', 'P_Wales_15_24', 'P_Wales_25_44', 'P_Wales_45_54', 'P_Wales_55_64', 'P_Wales_65_74', 'P_Wales_75_84', 'P_Wales_85ov', 'P_Wales_Tot', 'P_Zimbabwe_0_4', 'P_Zimbabwe_5_14', 'P_Zimbabwe_15_24', 'P_Zimbabwe_25_44', 'P_Zimbabwe_45_54', 'P_Zimbabwe_55_64', 'P_Zimbabwe_65_74', 'P_Zimbabwe_75_84', 'P_Zimbabwe_85ov', 'P_Zimbabwe_Tot', 'P_Elsewhere_0_4', 'P_Elsewhere_5_14', 'P_Elsewhere_15_24', 'P_Elsewhere_25_44', 'P_Elsewhere_45_54', 'P_Elsewhere_55_64', 'P_Elsewhere_65_74', 'P_Elsewhere_75_84', 'P_Elsewhere_85ov', 'P_Elsewhere_Tot', 'P_COB_NS_0_4', 'P_COB_NS_5_14', 'P_COB_NS_15_24', 'P_COB_NS_25_44', 'P_COB_NS_45_54', 'P_COB_NS_55_64', 'P_COB_NS_65_74', 'P_COB_NS_75_84', 'P_COB_NS_85ov', 'P_COB_NS_Tot', 'P_Tot_0_4', 'P_Tot_5_14', 'P_Tot_15_24', 'P_Tot_25_44', 'P_Tot_45_54', 'P_Tot_55_64', 'P_Tot_65_74', 'P_Tot_75_84', 'P_Tot_85ov', 'P_Tot_Tot']\n"
     ]
    }
   ],
   "source": [
    "def read_file(filename):\n",
    "    \"\"\"\n",
    "    Reads in a file, removing the first column of each row (\"AUS_CODE_2020\"). Returns a list containing a list of every row.\n",
    "    \"\"\"\n",
    "    with open(filename, 'r') as file:\n",
    "        contents = file.readlines()\n",
    "\n",
    "    for (index, value) in enumerate(contents):\n",
    "        contents[index] = value.strip(\"\\n\").split(\",\")[1:]\n",
    "    return contents\n",
    "#Test \n",
    "filename = \"2021Census_G09H_AUS_AUS.csv\"\n",
    "a = read_file(filename)\n",
    "b = a[0]\n",
    "print(b)"
   ]
  },
  {
   "cell_type": "code",
   "execution_count": 403,
   "metadata": {
    "collapsed": false
   },
   "outputs": [
   ],
   "source": [
    "def cleanheader(string):\n",
    "    index1 = string.find('_') # find first \"\n",
    "    index2 = string.index('_', index1 + 1) ## will throw value error if it cant find the second \"\n",
    "    cleanString = string[index1:index2+1].replace(',','').replace('\"','')\n",
    "    string =  string[:index1] + cleanString + string[index2+1:]\n",
    "    return string"
   ]
  },
  {
   "cell_type": "code",
   "execution_count": 278,
   "metadata": {
    "collapsed": false
   },
   "outputs": [
   ],
   "source": [
    "def create_dictionary(keys, value, dictionary):\n",
    "    \"\"\"\n",
    "    Takes two lists (one of keys and the other of values) and adds to specified dictionary\n",
    "    \"\"\"\n",
    "    for (index, key) in enumerate(keys): # enumerate maintains a counter as a key for each value within an object, allowing easier access to items\n",
    "        dictionary[key] = value[index]\n",
    "    return dictionary\n"
   ]
  },
  {
   "cell_type": "code",
   "execution_count": 0,
   "metadata": {
    "collapsed": false
   },
   "outputs": [
   ],
   "source": [
   ]
  },
  {
   "cell_type": "code",
   "execution_count": 279,
   "metadata": {
    "collapsed": false
   },
   "outputs": [
   ],
   "source": [
    "G13 = {}\n",
    "\n",
    "for file in G13_FILES:\n",
    "    temp13 = read_file(file)\n",
    "    G13 = create_dictionary(temp13[0], temp13[1],G13)"
   ]
  },
  {
   "cell_type": "code",
   "execution_count": 280,
   "metadata": {
    "collapsed": false
   },
   "outputs": [
    {
     "name": "stdout",
     "output_type": "stream",
     "text": [
      "Beginning of G13 headers:  ['F_Vietnam_0_4', 'F_Vietnam_5_14', 'F_Vietnam_15_24', 'F_Vietnam_25_44', 'F_Vietnam_45_54', 'F_Vietnam_55_64', 'F_Vietnam_65_74', 'F_Vietnam_75_84', 'F_Vietnam_85ov', 'F_Vietnam_Tot', 'F_Wales_0_4', 'F_Wales_5_14', 'F_Wales_15_24', 'F_Wales_25_44', 'F_Wales_45_54', 'F_Wales_55_64', 'F_Wales_65_74', 'F_Wales_75_84', 'F_Wales_85ov', 'F_Wales_Tot'] \n",
      ",\n",
      "End of G13 headers:  ['P_COB_NS_0_4', 'P_COB_NS_5_14', 'P_COB_NS_15_24', 'P_COB_NS_25_44', 'P_COB_NS_45_54', 'P_COB_NS_55_64', 'P_COB_NS_65_74', 'P_COB_NS_75_84', 'P_COB_NS_85ov', 'P_COB_NS_Tot', 'P_Tot_0_4', 'P_Tot_5_14', 'P_Tot_15_24', 'P_Tot_25_44', 'P_Tot_45_54', 'P_Tot_55_64', 'P_Tot_65_74', 'P_Tot_75_84', 'P_Tot_85ov', 'P_Tot_Tot']\n"
     ]
    }
   ],
   "source": [
    "print(\"Beginning of G13 headers: \", list(G13)[:20],'\\n,' \"\\nEnd of G13 headers: \", list(G13)[len(G13)-20:])"
   ]
  },
  {
   "cell_type": "code",
   "execution_count": 314,
   "metadata": {
    "collapsed": false
   },
   "outputs": [
   ],
   "source": [
    "def clean_dictionary(from_dictionary):\n",
    "    G13_Total = {}\n",
    "    G13_AusPop = {}\n",
    "    for (key,value) in from_dictionary.items():\n",
    "        if \"Australia\" in key:\n",
    "            G13_AusPop[key] = int(value)\n",
    "        elif key[0] == \"P\":\n",
    "            G13_Total[key] = int(value)\n",
    "    return G13_Total, G13_AusPop\n"
   ]
  },
  {
   "cell_type": "code",
   "execution_count": 365,
   "metadata": {
    "collapsed": false
   },
   "outputs": [
    {
     "name": "stdout",
     "output_type": "stream",
     "text": [
      "{'P_Afghanistan_0_4': 322, 'P_Afghanistan_5_14': 3896, 'P_Afghanistan_15_24': 9223, 'P_Afghanistan_25_44': 30560, 'P_Afghanistan_45_54': 8467, 'P_Afghanistan_55_64': 4585, 'P_Afghanistan_65_74': 2012, 'P_Afghanistan_75_84': 602, 'P_Afghanistan_85ov': 135, 'P_Afghanistan_Tot': 59797, 'P_Bangladesh_0_4': 333, 'P_Bangladesh_5_14': 2982, 'P_Bangladesh_15_24': 4281, 'P_Bangladesh_25_44': 31695, 'P_Bangladesh_45_54': 6876, 'P_Bangladesh_55_64': 3482, 'P_Bangladesh_65_74': 1560, 'P_Bangladesh_75_84': 254, 'P_Bangladesh_85ov': 33, 'P_Bangladesh_Tot': 51491, 'P_Bosnia_Herzegov_0_4': 17, 'P_Bosnia_Herzegov_5_14': 123, 'P_Bosnia_Herzegov_15_24': 400, 'P_Bosnia_Herzegov_25_44': 8709, 'P_Bosnia_Herzegov_45_54': 4340, 'P_Bosnia_Herzegov_55_64': 6289, 'P_Bosnia_Herzegov_65_74': 3815, 'P_Bosnia_Herzegov_75_84': 1952, 'P_Bosnia_Herzegov_85ov': 522, 'P_Bosnia_Herzegov_Tot': 26171, 'P_Brazil_0_4': 207, 'P_Brazil_5_14': 1496, 'P_Brazil_15_24': 2882, 'P_Brazil_25_44': 35170, 'P_Brazil_45_54': 4136, 'P_Brazil_55_64': 1712, 'P_Brazil_65_74': 765, 'P_Brazil_75_84': 287, 'P_Brazil_85ov': 69, 'P_Brazil_Tot': 46720, 'P_Cambodia_0_4': 181, 'P_Cambodia_5_14': 1091, 'P_Cambodia_15_24': 2921, 'P_Cambodia_25_44': 13229, 'P_Cambodia_45_54': 7942, 'P_Cambodia_55_64': 6785, 'P_Cambodia_65_74': 4665, 'P_Cambodia_75_84': 1671, 'P_Cambodia_85ov': 556, 'P_Cambodia_Tot': 39043, 'P_Canada_0_4': 727, 'P_Canada_5_14': 2944, 'P_Canada_15_24': 3415, 'P_Canada_25_44': 20124, 'P_Canada_45_54': 9061, 'P_Canada_55_64': 7045, 'P_Canada_65_74': 4601, 'P_Canada_75_84': 1855, 'P_Canada_85ov': 451, 'P_Canada_Tot': 50223, 'P_Chile_0_4': 105, 'P_Chile_5_14': 528, 'P_Chile_15_24': 846, 'P_Chile_25_44': 9410, 'P_Chile_45_54': 5608, 'P_Chile_55_64': 5146, 'P_Chile_65_74': 4838, 'P_Chile_75_84': 2885, 'P_Chile_85ov': 496, 'P_Chile_Tot': 29860, 'P_China_0_4': 1875, 'P_China_5_14': 20206, 'P_China_15_24': 56384, 'P_China_25_44': 243970, 'P_China_45_54': 74649, 'P_China_55_64': 76298, 'P_China_65_74': 48562, 'P_China_75_84': 18472, 'P_China_85ov': 9196, 'P_China_Tot': 549618, 'P_Croatia_0_4': 14, 'P_Croatia_5_14': 146, 'P_Croatia_15_24': 245, 'P_Croatia_25_44': 5102, 'P_Croatia_45_54': 4225, 'P_Croatia_55_64': 8867, 'P_Croatia_65_74': 10842, 'P_Croatia_75_84': 10215, 'P_Croatia_85ov': 3652, 'P_Croatia_Tot': 43302, 'P_Egypt_0_4': 279, 'P_Egypt_5_14': 2799, 'P_Egypt_15_24': 3073, 'P_Egypt_25_44': 10951, 'P_Egypt_45_54': 4148, 'P_Egypt_55_64': 6220, 'P_Egypt_65_74': 8097, 'P_Egypt_75_84': 5533, 'P_Egypt_85ov': 2119, 'P_Egypt_Tot': 43213, 'P_England_0_4': 3057, 'P_England_5_14': 30418, 'P_England_15_24': 50526, 'P_England_25_44': 163957, 'P_England_45_54': 144491, 'P_England_55_64': 196480, 'P_England_65_74': 170659, 'P_England_75_84': 124330, 'P_England_85ov': 43567, 'P_England_Tot': 927490, 'P_Fiji_0_4': 110, 'P_Fiji_5_14': 1307, 'P_Fiji_15_24': 3611, 'P_Fiji_25_44': 24683, 'P_Fiji_45_54': 14288, 'P_Fiji_55_64': 13120, 'P_Fiji_65_74': 7787, 'P_Fiji_75_84': 3265, 'P_Fiji_85ov': 774, 'P_Fiji_Tot': 68947, 'P_France_0_4': 242, 'P_France_5_14': 1510, 'P_France_15_24': 2289, 'P_France_25_44': 17282, 'P_France_45_54': 5096, 'P_France_55_64': 4109, 'P_France_65_74': 3083, 'P_France_75_84': 1689, 'P_France_85ov': 711, 'P_France_Tot': 36019, 'P_Germany_0_4': 340, 'P_Germany_5_14': 1523, 'P_Germany_15_24': 3222, 'P_Germany_25_44': 19380, 'P_Germany_45_54': 11341, 'P_Germany_55_64': 12992, 'P_Germany_65_74': 25494, 'P_Germany_75_84': 19779, 'P_Germany_85ov': 7191, 'P_Germany_Tot': 101255, 'P_Greece_0_4': 80, 'P_Greece_5_14': 944, 'P_Greece_15_24': 1857, 'P_Greece_25_44': 4963, 'P_Greece_45_54': 4934, 'P_Greece_55_64': 12371, 'P_Greece_65_74': 22597, 'P_Greece_75_84': 30866, 'P_Greece_85ov': 13699, 'P_Greece_Tot': 92314, 'P_Hong_Kong_SAR_Ch_0_4': 902, 'P_Hong_Kong_SAR_Ch_5_14': 5773, 'P_Hong_Kong_SAR_Ch_15_24': 10069, 'P_Hong_Kong_SAR_Ch_25_44': 36190, 'P_Hong_Kong_SAR_Ch_45_54': 12546, 'P_Hong_Kong_SAR_Ch_55_64': 17143, 'P_Hong_Kong_SAR_Ch_65_74': 13686, 'P_Hong_Kong_SAR_Ch_75_84': 2884, 'P_Hong_Kong_SAR_Ch_85ov': 950, 'P_Hong_Kong_SAR_Ch_Tot': 100148, 'P_India_0_4': 6597, 'P_India_5_14': 43134, 'P_India_15_24': 64295, 'P_India_25_44': 415298, 'P_India_45_54': 65098, 'P_India_55_64': 36640, 'P_India_65_74': 25804, 'P_India_75_84': 12394, 'P_India_85ov': 4097, 'P_India_Tot': 673352, 'P_Indonesia_0_4': 540, 'P_Indonesia_5_14': 3110, 'P_Indonesia_15_24': 10714, 'P_Indonesia_25_44': 40151, 'P_Indonesia_45_54': 13752, 'P_Indonesia_55_64': 7533, 'P_Indonesia_65_74': 7421, 'P_Indonesia_75_84': 2922, 'P_Indonesia_85ov': 928, 'P_Indonesia_Tot': 87075, 'P_Iran_0_4': 240, 'P_Iran_5_14': 3984, 'P_Iran_15_24': 6283, 'P_Iran_25_44': 37259, 'P_Iran_45_54': 9820, 'P_Iran_55_64': 6729, 'P_Iran_65_74': 4222, 'P_Iran_75_84': 1769, 'P_Iran_85ov': 586, 'P_Iran_Tot': 70899, 'P_Iraq_0_4': 326, 'P_Iraq_5_14': 8162, 'P_Iraq_15_24': 11264, 'P_Iraq_25_44': 34962, 'P_Iraq_45_54': 16142, 'P_Iraq_55_64': 11979, 'P_Iraq_65_74': 6499, 'P_Iraq_75_84': 2756, 'P_Iraq_85ov': 838, 'P_Iraq_Tot': 92922, 'P_Ireland_0_4': 263, 'P_Ireland_5_14': 3625, 'P_Ireland_15_24': 3604, 'P_Ireland_25_44': 35143, 'P_Ireland_45_54': 11279, 'P_Ireland_55_64': 9628, 'P_Ireland_65_74': 8851, 'P_Ireland_75_84': 6145, 'P_Ireland_85ov': 2390, 'P_Ireland_Tot': 80927, 'P_Italy_0_4': 156, 'P_Italy_5_14': 1329, 'P_Italy_15_24': 2267, 'P_Italy_25_44': 18727, 'P_Italy_45_54': 8373, 'P_Italy_55_64': 20939, 'P_Italy_65_74': 43109, 'P_Italy_75_84': 42025, 'P_Italy_85ov': 26388, 'P_Italy_Tot': 163326, 'P_Japan_0_4': 591, 'P_Japan_5_14': 2884, 'P_Japan_15_24': 4002, 'P_Japan_25_44': 18767, 'P_Japan_45_54': 10695, 'P_Japan_55_64': 4524, 'P_Japan_65_74': 2516, 'P_Japan_75_84': 906, 'P_Japan_85ov': 374, 'P_Japan_Tot': 45267, 'P_Korea_South_0_4': 565, 'P_Korea_South_5_14': 4447, 'P_Korea_South_15_24': 9046, 'P_Korea_South_25_44': 51549, 'P_Korea_South_45_54': 18385, 'P_Korea_South_55_64': 10032, 'P_Korea_South_65_74': 5024, 'P_Korea_South_75_84': 2400, 'P_Korea_South_85ov': 651, 'P_Korea_South_Tot': 102092, 'P_Lebanon_0_4': 423, 'P_Lebanon_5_14': 1673, 'P_Lebanon_15_24': 2905, 'P_Lebanon_25_44': 21044, 'P_Lebanon_45_54': 18111, 'P_Lebanon_55_64': 19937, 'P_Lebanon_65_74': 14478, 'P_Lebanon_75_84': 6869, 'P_Lebanon_85ov': 1904, 'P_Lebanon_Tot': 87340, 'P_Malaysia_0_4': 793, 'P_Malaysia_5_14': 7053, 'P_Malaysia_15_24': 17135, 'P_Malaysia_25_44': 65508, 'P_Malaysia_45_54': 23979, 'P_Malaysia_55_64': 21930, 'P_Malaysia_65_74': 19804, 'P_Malaysia_75_84': 7642, 'P_Malaysia_85ov': 1770, 'P_Malaysia_Tot': 165616, 'P_Malta_0_4': 14, 'P_Malta_5_14': 81, 'P_Malta_15_24': 190, 'P_Malta_25_44': 1158, 'P_Malta_45_54': 1483, 'P_Malta_55_64': 5357, 'P_Malta_65_74': 13930, 'P_Malta_75_84': 10068, 'P_Malta_85ov': 3141, 'P_Malta_Tot': 35413, 'P_Mauritius_0_4': 24, 'P_Mauritius_5_14': 376, 'P_Mauritius_15_24': 1707, 'P_Mauritius_25_44': 8854, 'P_Mauritius_45_54': 3219, 'P_Mauritius_55_64': 4867, 'P_Mauritius_65_74': 4117, 'P_Mauritius_75_84': 1990, 'P_Mauritius_85ov': 831, 'P_Mauritius_Tot': 25981, 'P_Myanmar_0_4': 77, 'P_Myanmar_5_14': 1057, 'P_Myanmar_15_24': 4372, 'P_Myanmar_25_44': 17519, 'P_Myanmar_45_54': 6302, 'P_Myanmar_55_64': 4512, 'P_Myanmar_65_74': 3284, 'P_Myanmar_75_84': 1418, 'P_Myanmar_85ov': 628, 'P_Myanmar_Tot': 39171, 'P_Nepal_0_4': 284, 'P_Nepal_5_14': 2528, 'P_Nepal_15_24': 31008, 'P_Nepal_25_44': 82591, 'P_Nepal_45_54': 3831, 'P_Nepal_55_64': 1462, 'P_Nepal_65_74': 650, 'P_Nepal_75_84': 131, 'P_Nepal_85ov': 16, 'P_Nepal_Tot': 122506, 'P_Netherlands_0_4': 177, 'P_Netherlands_5_14': 1056, 'P_Netherlands_15_24': 1648, 'P_Netherlands_25_44': 7136, 'P_Netherlands_45_54': 5764, 'P_Netherlands_55_64': 7597, 'P_Netherlands_65_74': 20908, 'P_Netherlands_75_84': 16086, 'P_Netherlands_85ov': 6105, 'P_Netherlands_Tot': 66481, 'P_New_Zealand_0_4': 3797, 'P_New_Zealand_5_14': 31331, 'P_New_Zealand_15_24': 53472, 'P_New_Zealand_25_44': 169380, 'P_New_Zealand_45_54': 97071, 'P_New_Zealand_55_64': 88279, 'P_New_Zealand_65_74': 58826, 'P_New_Zealand_75_84': 23032, 'P_New_Zealand_85ov': 5304, 'P_New_Zealand_Tot': 530492, 'P_North_Macedonia_0_4': 29, 'P_North_Macedonia_5_14': 253, 'P_North_Macedonia_15_24': 628, 'P_North_Macedonia_25_44': 6873, 'P_North_Macedonia_45_54': 6139, 'P_North_Macedonia_55_64': 9336, 'P_North_Macedonia_65_74': 11243, 'P_North_Macedonia_75_84': 5502, 'P_North_Macedonia_85ov': 1794, 'P_North_Macedonia_Tot': 41786, 'P_Pakistan_0_4': 1339, 'P_Pakistan_5_14': 10249, 'P_Pakistan_15_24': 11196, 'P_Pakistan_25_44': 51512, 'P_Pakistan_45_54': 8195, 'P_Pakistan_55_64': 4262, 'P_Pakistan_65_74': 2207, 'P_Pakistan_75_84': 544, 'P_Pakistan_85ov': 125, 'P_Pakistan_Tot': 89633, 'P_PNG_0_4': 86, 'P_PNG_5_14': 1056, 'P_PNG_15_24': 2686, 'P_PNG_25_44': 7084, 'P_PNG_45_54': 9073, 'P_PNG_55_64': 5854, 'P_PNG_65_74': 3005, 'P_PNG_75_84': 825, 'P_PNG_85ov': 311, 'P_PNG_Tot': 29984, 'P_Philippines_0_4': 1493, 'P_Philippines_5_14': 16816, 'P_Philippines_15_24': 30705, 'P_Philippines_25_44': 123444, 'P_Philippines_45_54': 51342, 'P_Philippines_55_64': 38898, 'P_Philippines_65_74': 23800, 'P_Philippines_75_84': 5954, 'P_Philippines_85ov': 1435, 'P_Philippines_Tot': 293892, 'P_Poland_0_4': 59, 'P_Poland_5_14': 445, 'P_Poland_15_24': 652, 'P_Poland_25_44': 11569, 'P_Poland_45_54': 5970, 'P_Poland_55_64': 7814, 'P_Poland_65_74': 11377, 'P_Poland_75_84': 4662, 'P_Poland_85ov': 3335, 'P_Poland_Tot': 45884, 'P_Samoa_0_4': 78, 'P_Samoa_5_14': 1342, 'P_Samoa_15_24': 2852, 'P_Samoa_25_44': 8350, 'P_Samoa_45_54': 5932, 'P_Samoa_55_64': 5548, 'P_Samoa_65_74': 2951, 'P_Samoa_75_84': 912, 'P_Samoa_85ov': 145, 'P_Samoa_Tot': 28107, 'P_Scotland_0_4': 199, 'P_Scotland_5_14': 2551, 'P_Scotland_15_24': 4696, 'P_Scotland_25_44': 19009, 'P_Scotland_45_54': 16799, 'P_Scotland_55_64': 25460, 'P_Scotland_65_74': 25713, 'P_Scotland_75_84': 17937, 'P_Scotland_85ov': 6125, 'P_Scotland_Tot': 118496, 'P_Singapore_0_4': 750, 'P_Singapore_5_14': 6044, 'P_Singapore_15_24': 7924, 'P_Singapore_25_44': 19412, 'P_Singapore_45_54': 9593, 'P_Singapore_55_64': 7980, 'P_Singapore_65_74': 6630, 'P_Singapore_75_84': 2168, 'P_Singapore_85ov': 561, 'P_Singapore_Tot': 61056, 'P_South_Africa_0_4': 1059, 'P_South_Africa_5_14': 10760, 'P_South_Africa_15_24': 20334, 'P_South_Africa_25_44': 61441, 'P_South_Africa_45_54': 40265, 'P_South_Africa_55_64': 27128, 'P_South_Africa_65_74': 17796, 'P_South_Africa_75_84': 8131, 'P_South_Africa_85ov': 2297, 'P_South_Africa_Tot': 189207, 'P_Sri_Lanka_0_4': 604, 'P_Sri_Lanka_5_14': 5585, 'P_Sri_Lanka_15_24': 11067, 'P_Sri_Lanka_25_44': 55190, 'P_Sri_Lanka_45_54': 21173, 'P_Sri_Lanka_55_64': 17521, 'P_Sri_Lanka_65_74': 12862, 'P_Sri_Lanka_75_84': 5913, 'P_Sri_Lanka_85ov': 1992, 'P_Sri_Lanka_Tot': 131904, 'P_Taiwan_0_4': 476, 'P_Taiwan_5_14': 1862, 'P_Taiwan_15_24': 3014, 'P_Taiwan_25_44': 30873, 'P_Taiwan_45_54': 5198, 'P_Taiwan_55_64': 3595, 'P_Taiwan_65_74': 3601, 'P_Taiwan_75_84': 769, 'P_Taiwan_85ov': 121, 'P_Taiwan_Tot': 49511, 'P_Thailand_0_4': 706, 'P_Thailand_5_14': 6098, 'P_Thailand_15_24': 10270, 'P_Thailand_25_44': 43902, 'P_Thailand_45_54': 13014, 'P_Thailand_55_64': 6263, 'P_Thailand_65_74': 2808, 'P_Thailand_75_84': 595, 'P_Thailand_85ov': 116, 'P_Thailand_Tot': 83779, 'P_Turkey_0_4': 180, 'P_Turkey_5_14': 975, 'P_Turkey_15_24': 1141, 'P_Turkey_25_44': 10916, 'P_Turkey_45_54': 9056, 'P_Turkey_55_64': 8376, 'P_Turkey_65_74': 4631, 'P_Turkey_75_84': 2732, 'P_Turkey_85ov': 565, 'P_Turkey_Tot': 38568, 'P_USA_0_4': 2699, 'P_USA_5_14': 10669, 'P_USA_15_24': 11403, 'P_USA_25_44': 34600, 'P_USA_45_54': 13936, 'P_USA_55_64': 12566, 'P_USA_65_74': 10511, 'P_USA_75_84': 4122, 'P_USA_85ov': 798, 'P_USA_Tot': 101309, 'P_Vietnam_0_4': 919, 'P_Vietnam_5_14': 7196, 'P_Vietnam_15_24': 19709, 'P_Vietnam_25_44': 83513, 'P_Vietnam_45_54': 55467, 'P_Vietnam_55_64': 50109, 'P_Vietnam_65_74': 28938, 'P_Vietnam_75_84': 8473, 'P_Vietnam_85ov': 3672, 'P_Vietnam_Tot': 257997, 'P_Wales_0_4': 57, 'P_Wales_5_14': 750, 'P_Wales_15_24': 1453, 'P_Wales_25_44': 6144, 'P_Wales_45_54': 4971, 'P_Wales_55_64': 5851, 'P_Wales_65_74': 5215, 'P_Wales_75_84': 3590, 'P_Wales_85ov': 1222, 'P_Wales_Tot': 29250, 'P_Zimbabwe_0_4': 102, 'P_Zimbabwe_5_14': 1093, 'P_Zimbabwe_15_24': 4327, 'P_Zimbabwe_25_44': 14685, 'P_Zimbabwe_45_54': 8525, 'P_Zimbabwe_55_64': 6479, 'P_Zimbabwe_65_74': 3344, 'P_Zimbabwe_75_84': 938, 'P_Zimbabwe_85ov': 223, 'P_Zimbabwe_Tot': 39714, 'P_Elsewhere_0_4': 5221, 'P_Elsewhere_5_14': 39436, 'P_Elsewhere_15_24': 59144, 'P_Elsewhere_25_44': 271238, 'P_Elsewhere_45_54': 114021, 'P_Elsewhere_55_64': 102923, 'P_Elsewhere_65_74': 87171, 'P_Elsewhere_75_84': 57073, 'P_Elsewhere_85ov': 22942, 'P_Elsewhere_Tot': 759173, 'P_COB_NS_0_4': 61345, 'P_COB_NS_5_14': 145841, 'P_COB_NS_15_24': 150994, 'P_COB_NS_25_44': 394515, 'P_COB_NS_45_54': 168253, 'P_COB_NS_55_64': 157912, 'P_COB_NS_65_74': 134407, 'P_COB_NS_75_84': 94757, 'P_COB_NS_85ov': 50649, 'P_COB_NS_Tot': 1358658, 'P_Tot_0_4': 1463817, 'P_Tot_5_14': 3174191, 'P_Tot_15_24': 3037348, 'P_Tot_25_44': 7112427, 'P_Tot_45_54': 3246908, 'P_Tot_55_64': 3010014, 'P_Tot_65_74': 2459233, 'P_Tot_75_84': 1376519, 'P_Tot_85ov': 542342, 'P_Tot_Tot': 25422788}\n",
      "\n",
      "\n"
     ]
    },
    {
     "ename": "KeyError",
     "evalue": "0",
     "output_type": "error",
     "traceback": [
      "\u001b[0;31m---------------------------------------------------------------------------\u001b[0m",
      "\u001b[0;31mKeyError\u001b[0m                                  Traceback (most recent call last)",
      "\u001b[0;32m/tmp/ipykernel_359/2483640202.py\u001b[0m in \u001b[0;36m<cell line: 5>\u001b[0;34m()\u001b[0m\n\u001b[1;32m      3\u001b[0m \u001b[0mprint\u001b[0m\u001b[0;34m(\u001b[0m\u001b[0mG13_Total\u001b[0m\u001b[0;34m)\u001b[0m\u001b[0;34m\u001b[0m\u001b[0;34m\u001b[0m\u001b[0m\n\u001b[1;32m      4\u001b[0m \u001b[0mprint\u001b[0m\u001b[0;34m(\u001b[0m\u001b[0;34m\"\\n\"\u001b[0m\u001b[0;34m)\u001b[0m\u001b[0;34m\u001b[0m\u001b[0;34m\u001b[0m\u001b[0m\n\u001b[0;32m----> 5\u001b[0;31m \u001b[0mprint\u001b[0m\u001b[0;34m(\u001b[0m\u001b[0mG13_AusPop\u001b[0m\u001b[0;34m[\u001b[0m\u001b[0;36m0\u001b[0m\u001b[0;34m]\u001b[0m\u001b[0;34m[\u001b[0m\u001b[0;34m:\u001b[0m\u001b[0;36m10\u001b[0m\u001b[0;34m]\u001b[0m\u001b[0;34m)\u001b[0m\u001b[0;34m\u001b[0m\u001b[0;34m\u001b[0m\u001b[0m\n\u001b[0m",
      "\u001b[0;31mKeyError\u001b[0m: 0"
     ]
    }
   ],
   "source": [
    "G13_Total,G13_AusPop = clean_dictionary(G13)\n",
    "\n",
    "print(G13_Total)\n",
    "print(\"\\n\")\n",
    "print(G13_AusPop)"
   ]
  },
  {
   "cell_type": "code",
   "execution_count": 391,
   "metadata": {
    "collapsed": false
   },
   "outputs": [
   ],
   "source": [
    "def dictionary_by_country(dct):\n",
    "    \"\"\"\n",
    "    Splits G09 by country. Returns dictionary containing dictionaries of countries for each age group\n",
    "    \"\"\"\n",
    "    tmp_dct = {}\n",
    "\n",
    "    start = 0        # first index\n",
    "    stop = 10        # each country has 10 entries\n",
    "\n",
    "    dct_lst = list(dct.items())\n",
    "\n",
    "    while stop <= len(dct):\n",
    "        country_dct = {}\n",
    "        country_name = dct_lst[start][0]\n",
    "\n",
    "        # Create the associated age groups\n",
    "        for i in range(start, stop):\n",
    "            key = dct_lst[i][0]\n",
    "            value = int(dct_lst[i][1])\n",
    "            country_dct[key] = value\n",
    "\n",
    "        #create the country Name\n",
    "        tmp_dct[country_name] = country_dct\n",
    "\n",
    "        start += 10\n",
    "        stop += 10\n",
    "\n",
    "    return tmp_dct"
   ]
  },
  {
   "cell_type": "code",
   "execution_count": 0,
   "metadata": {
    "collapsed": false
   },
   "outputs": [
   ],
   "source": [
   ]
  },
  {
   "cell_type": "code",
   "execution_count": 392,
   "metadata": {
    "collapsed": false
   },
   "outputs": [
    {
     "name": "stdout",
     "output_type": "stream",
     "text": [
      "{'P_Afghanistan_0_4': {'P_Afghanistan_0_4': 322, 'P_Afghanistan_5_14': 3896, 'P_Afghanistan_15_24': 9223, 'P_Afghanistan_25_44': 30560, 'P_Afghanistan_45_54': 8467, 'P_Afghanistan_55_64': 4585, 'P_Afghanistan_65_74': 2012, 'P_Afghanistan_75_84': 602, 'P_Afghanistan_85ov': 135, 'P_Afghanistan_Tot': 59797}, 'P_Bangladesh_0_4': {'P_Bangladesh_0_4': 333, 'P_Bangladesh_5_14': 2982, 'P_Bangladesh_15_24': 4281, 'P_Bangladesh_25_44': 31695, 'P_Bangladesh_45_54': 6876, 'P_Bangladesh_55_64': 3482, 'P_Bangladesh_65_74': 1560, 'P_Bangladesh_75_84': 254, 'P_Bangladesh_85ov': 33, 'P_Bangladesh_Tot': 51491}, 'P_Bosnia_Herzegov_0_4': {'P_Bosnia_Herzegov_0_4': 17, 'P_Bosnia_Herzegov_5_14': 123, 'P_Bosnia_Herzegov_15_24': 400, 'P_Bosnia_Herzegov_25_44': 8709, 'P_Bosnia_Herzegov_45_54': 4340, 'P_Bosnia_Herzegov_55_64': 6289, 'P_Bosnia_Herzegov_65_74': 3815, 'P_Bosnia_Herzegov_75_84': 1952, 'P_Bosnia_Herzegov_85ov': 522, 'P_Bosnia_Herzegov_Tot': 26171}, 'P_Brazil_0_4': {'P_Brazil_0_4': 207, 'P_Brazil_5_14': 1496, 'P_Brazil_15_24': 2882, 'P_Brazil_25_44': 35170, 'P_Brazil_45_54': 4136, 'P_Brazil_55_64': 1712, 'P_Brazil_65_74': 765, 'P_Brazil_75_84': 287, 'P_Brazil_85ov': 69, 'P_Brazil_Tot': 46720}, 'P_Cambodia_0_4': {'P_Cambodia_0_4': 181, 'P_Cambodia_5_14': 1091, 'P_Cambodia_15_24': 2921, 'P_Cambodia_25_44': 13229, 'P_Cambodia_45_54': 7942, 'P_Cambodia_55_64': 6785, 'P_Cambodia_65_74': 4665, 'P_Cambodia_75_84': 1671, 'P_Cambodia_85ov': 556, 'P_Cambodia_Tot': 39043}, 'P_Canada_0_4': {'P_Canada_0_4': 727, 'P_Canada_5_14': 2944, 'P_Canada_15_24': 3415, 'P_Canada_25_44': 20124, 'P_Canada_45_54': 9061, 'P_Canada_55_64': 7045, 'P_Canada_65_74': 4601, 'P_Canada_75_84': 1855, 'P_Canada_85ov': 451, 'P_Canada_Tot': 50223}, 'P_Chile_0_4': {'P_Chile_0_4': 105, 'P_Chile_5_14': 528, 'P_Chile_15_24': 846, 'P_Chile_25_44': 9410, 'P_Chile_45_54': 5608, 'P_Chile_55_64': 5146, 'P_Chile_65_74': 4838, 'P_Chile_75_84': 2885, 'P_Chile_85ov': 496, 'P_Chile_Tot': 29860}, 'P_China_0_4': {'P_China_0_4': 1875, 'P_China_5_14': 20206, 'P_China_15_24': 56384, 'P_China_25_44': 243970, 'P_China_45_54': 74649, 'P_China_55_64': 76298, 'P_China_65_74': 48562, 'P_China_75_84': 18472, 'P_China_85ov': 9196, 'P_China_Tot': 549618}, 'P_Croatia_0_4': {'P_Croatia_0_4': 14, 'P_Croatia_5_14': 146, 'P_Croatia_15_24': 245, 'P_Croatia_25_44': 5102, 'P_Croatia_45_54': 4225, 'P_Croatia_55_64': 8867, 'P_Croatia_65_74': 10842, 'P_Croatia_75_84': 10215, 'P_Croatia_85ov': 3652, 'P_Croatia_Tot': 43302}, 'P_Egypt_0_4': {'P_Egypt_0_4': 279, 'P_Egypt_5_14': 2799, 'P_Egypt_15_24': 3073, 'P_Egypt_25_44': 10951, 'P_Egypt_45_54': 4148, 'P_Egypt_55_64': 6220, 'P_Egypt_65_74': 8097, 'P_Egypt_75_84': 5533, 'P_Egypt_85ov': 2119, 'P_Egypt_Tot': 43213}, 'P_England_0_4': {'P_England_0_4': 3057, 'P_England_5_14': 30418, 'P_England_15_24': 50526, 'P_England_25_44': 163957, 'P_England_45_54': 144491, 'P_England_55_64': 196480, 'P_England_65_74': 170659, 'P_England_75_84': 124330, 'P_England_85ov': 43567, 'P_England_Tot': 927490}, 'P_Fiji_0_4': {'P_Fiji_0_4': 110, 'P_Fiji_5_14': 1307, 'P_Fiji_15_24': 3611, 'P_Fiji_25_44': 24683, 'P_Fiji_45_54': 14288, 'P_Fiji_55_64': 13120, 'P_Fiji_65_74': 7787, 'P_Fiji_75_84': 3265, 'P_Fiji_85ov': 774, 'P_Fiji_Tot': 68947}, 'P_France_0_4': {'P_France_0_4': 242, 'P_France_5_14': 1510, 'P_France_15_24': 2289, 'P_France_25_44': 17282, 'P_France_45_54': 5096, 'P_France_55_64': 4109, 'P_France_65_74': 3083, 'P_France_75_84': 1689, 'P_France_85ov': 711, 'P_France_Tot': 36019}, 'P_Germany_0_4': {'P_Germany_0_4': 340, 'P_Germany_5_14': 1523, 'P_Germany_15_24': 3222, 'P_Germany_25_44': 19380, 'P_Germany_45_54': 11341, 'P_Germany_55_64': 12992, 'P_Germany_65_74': 25494, 'P_Germany_75_84': 19779, 'P_Germany_85ov': 7191, 'P_Germany_Tot': 101255}, 'P_Greece_0_4': {'P_Greece_0_4': 80, 'P_Greece_5_14': 944, 'P_Greece_15_24': 1857, 'P_Greece_25_44': 4963, 'P_Greece_45_54': 4934, 'P_Greece_55_64': 12371, 'P_Greece_65_74': 22597, 'P_Greece_75_84': 30866, 'P_Greece_85ov': 13699, 'P_Greece_Tot': 92314}, 'P_Hong_Kong_SAR_Ch_0_4': {'P_Hong_Kong_SAR_Ch_0_4': 902, 'P_Hong_Kong_SAR_Ch_5_14': 5773, 'P_Hong_Kong_SAR_Ch_15_24': 10069, 'P_Hong_Kong_SAR_Ch_25_44': 36190, 'P_Hong_Kong_SAR_Ch_45_54': 12546, 'P_Hong_Kong_SAR_Ch_55_64': 17143, 'P_Hong_Kong_SAR_Ch_65_74': 13686, 'P_Hong_Kong_SAR_Ch_75_84': 2884, 'P_Hong_Kong_SAR_Ch_85ov': 950, 'P_Hong_Kong_SAR_Ch_Tot': 100148}, 'P_India_0_4': {'P_India_0_4': 6597, 'P_India_5_14': 43134, 'P_India_15_24': 64295, 'P_India_25_44': 415298, 'P_India_45_54': 65098, 'P_India_55_64': 36640, 'P_India_65_74': 25804, 'P_India_75_84': 12394, 'P_India_85ov': 4097, 'P_India_Tot': 673352}, 'P_Indonesia_0_4': {'P_Indonesia_0_4': 540, 'P_Indonesia_5_14': 3110, 'P_Indonesia_15_24': 10714, 'P_Indonesia_25_44': 40151, 'P_Indonesia_45_54': 13752, 'P_Indonesia_55_64': 7533, 'P_Indonesia_65_74': 7421, 'P_Indonesia_75_84': 2922, 'P_Indonesia_85ov': 928, 'P_Indonesia_Tot': 87075}, 'P_Iran_0_4': {'P_Iran_0_4': 240, 'P_Iran_5_14': 3984, 'P_Iran_15_24': 6283, 'P_Iran_25_44': 37259, 'P_Iran_45_54': 9820, 'P_Iran_55_64': 6729, 'P_Iran_65_74': 4222, 'P_Iran_75_84': 1769, 'P_Iran_85ov': 586, 'P_Iran_Tot': 70899}, 'P_Iraq_0_4': {'P_Iraq_0_4': 326, 'P_Iraq_5_14': 8162, 'P_Iraq_15_24': 11264, 'P_Iraq_25_44': 34962, 'P_Iraq_45_54': 16142, 'P_Iraq_55_64': 11979, 'P_Iraq_65_74': 6499, 'P_Iraq_75_84': 2756, 'P_Iraq_85ov': 838, 'P_Iraq_Tot': 92922}, 'P_Ireland_0_4': {'P_Ireland_0_4': 263, 'P_Ireland_5_14': 3625, 'P_Ireland_15_24': 3604, 'P_Ireland_25_44': 35143, 'P_Ireland_45_54': 11279, 'P_Ireland_55_64': 9628, 'P_Ireland_65_74': 8851, 'P_Ireland_75_84': 6145, 'P_Ireland_85ov': 2390, 'P_Ireland_Tot': 80927}, 'P_Italy_0_4': {'P_Italy_0_4': 156, 'P_Italy_5_14': 1329, 'P_Italy_15_24': 2267, 'P_Italy_25_44': 18727, 'P_Italy_45_54': 8373, 'P_Italy_55_64': 20939, 'P_Italy_65_74': 43109, 'P_Italy_75_84': 42025, 'P_Italy_85ov': 26388, 'P_Italy_Tot': 163326}, 'P_Japan_0_4': {'P_Japan_0_4': 591, 'P_Japan_5_14': 2884, 'P_Japan_15_24': 4002, 'P_Japan_25_44': 18767, 'P_Japan_45_54': 10695, 'P_Japan_55_64': 4524, 'P_Japan_65_74': 2516, 'P_Japan_75_84': 906, 'P_Japan_85ov': 374, 'P_Japan_Tot': 45267}, 'P_Korea_South_0_4': {'P_Korea_South_0_4': 565, 'P_Korea_South_5_14': 4447, 'P_Korea_South_15_24': 9046, 'P_Korea_South_25_44': 51549, 'P_Korea_South_45_54': 18385, 'P_Korea_South_55_64': 10032, 'P_Korea_South_65_74': 5024, 'P_Korea_South_75_84': 2400, 'P_Korea_South_85ov': 651, 'P_Korea_South_Tot': 102092}, 'P_Lebanon_0_4': {'P_Lebanon_0_4': 423, 'P_Lebanon_5_14': 1673, 'P_Lebanon_15_24': 2905, 'P_Lebanon_25_44': 21044, 'P_Lebanon_45_54': 18111, 'P_Lebanon_55_64': 19937, 'P_Lebanon_65_74': 14478, 'P_Lebanon_75_84': 6869, 'P_Lebanon_85ov': 1904, 'P_Lebanon_Tot': 87340}, 'P_Malaysia_0_4': {'P_Malaysia_0_4': 793, 'P_Malaysia_5_14': 7053, 'P_Malaysia_15_24': 17135, 'P_Malaysia_25_44': 65508, 'P_Malaysia_45_54': 23979, 'P_Malaysia_55_64': 21930, 'P_Malaysia_65_74': 19804, 'P_Malaysia_75_84': 7642, 'P_Malaysia_85ov': 1770, 'P_Malaysia_Tot': 165616}, 'P_Malta_0_4': {'P_Malta_0_4': 14, 'P_Malta_5_14': 81, 'P_Malta_15_24': 190, 'P_Malta_25_44': 1158, 'P_Malta_45_54': 1483, 'P_Malta_55_64': 5357, 'P_Malta_65_74': 13930, 'P_Malta_75_84': 10068, 'P_Malta_85ov': 3141, 'P_Malta_Tot': 35413}, 'P_Mauritius_0_4': {'P_Mauritius_0_4': 24, 'P_Mauritius_5_14': 376, 'P_Mauritius_15_24': 1707, 'P_Mauritius_25_44': 8854, 'P_Mauritius_45_54': 3219, 'P_Mauritius_55_64': 4867, 'P_Mauritius_65_74': 4117, 'P_Mauritius_75_84': 1990, 'P_Mauritius_85ov': 831, 'P_Mauritius_Tot': 25981}, 'P_Myanmar_0_4': {'P_Myanmar_0_4': 77, 'P_Myanmar_5_14': 1057, 'P_Myanmar_15_24': 4372, 'P_Myanmar_25_44': 17519, 'P_Myanmar_45_54': 6302, 'P_Myanmar_55_64': 4512, 'P_Myanmar_65_74': 3284, 'P_Myanmar_75_84': 1418, 'P_Myanmar_85ov': 628, 'P_Myanmar_Tot': 39171}, 'P_Nepal_0_4': {'P_Nepal_0_4': 284, 'P_Nepal_5_14': 2528, 'P_Nepal_15_24': 31008, 'P_Nepal_25_44': 82591, 'P_Nepal_45_54': 3831, 'P_Nepal_55_64': 1462, 'P_Nepal_65_74': 650, 'P_Nepal_75_84': 131, 'P_Nepal_85ov': 16, 'P_Nepal_Tot': 122506}, 'P_Netherlands_0_4': {'P_Netherlands_0_4': 177, 'P_Netherlands_5_14': 1056, 'P_Netherlands_15_24': 1648, 'P_Netherlands_25_44': 7136, 'P_Netherlands_45_54': 5764, 'P_Netherlands_55_64': 7597, 'P_Netherlands_65_74': 20908, 'P_Netherlands_75_84': 16086, 'P_Netherlands_85ov': 6105, 'P_Netherlands_Tot': 66481}, 'P_New_Zealand_0_4': {'P_New_Zealand_0_4': 3797, 'P_New_Zealand_5_14': 31331, 'P_New_Zealand_15_24': 53472, 'P_New_Zealand_25_44': 169380, 'P_New_Zealand_45_54': 97071, 'P_New_Zealand_55_64': 88279, 'P_New_Zealand_65_74': 58826, 'P_New_Zealand_75_84': 23032, 'P_New_Zealand_85ov': 5304, 'P_New_Zealand_Tot': 530492}, 'P_North_Macedonia_0_4': {'P_North_Macedonia_0_4': 29, 'P_North_Macedonia_5_14': 253, 'P_North_Macedonia_15_24': 628, 'P_North_Macedonia_25_44': 6873, 'P_North_Macedonia_45_54': 6139, 'P_North_Macedonia_55_64': 9336, 'P_North_Macedonia_65_74': 11243, 'P_North_Macedonia_75_84': 5502, 'P_North_Macedonia_85ov': 1794, 'P_North_Macedonia_Tot': 41786}, 'P_Pakistan_0_4': {'P_Pakistan_0_4': 1339, 'P_Pakistan_5_14': 10249, 'P_Pakistan_15_24': 11196, 'P_Pakistan_25_44': 51512, 'P_Pakistan_45_54': 8195, 'P_Pakistan_55_64': 4262, 'P_Pakistan_65_74': 2207, 'P_Pakistan_75_84': 544, 'P_Pakistan_85ov': 125, 'P_Pakistan_Tot': 89633}, 'P_PNG_0_4': {'P_PNG_0_4': 86, 'P_PNG_5_14': 1056, 'P_PNG_15_24': 2686, 'P_PNG_25_44': 7084, 'P_PNG_45_54': 9073, 'P_PNG_55_64': 5854, 'P_PNG_65_74': 3005, 'P_PNG_75_84': 825, 'P_PNG_85ov': 311, 'P_PNG_Tot': 29984}, 'P_Philippines_0_4': {'P_Philippines_0_4': 1493, 'P_Philippines_5_14': 16816, 'P_Philippines_15_24': 30705, 'P_Philippines_25_44': 123444, 'P_Philippines_45_54': 51342, 'P_Philippines_55_64': 38898, 'P_Philippines_65_74': 23800, 'P_Philippines_75_84': 5954, 'P_Philippines_85ov': 1435, 'P_Philippines_Tot': 293892}, 'P_Poland_0_4': {'P_Poland_0_4': 59, 'P_Poland_5_14': 445, 'P_Poland_15_24': 652, 'P_Poland_25_44': 11569, 'P_Poland_45_54': 5970, 'P_Poland_55_64': 7814, 'P_Poland_65_74': 11377, 'P_Poland_75_84': 4662, 'P_Poland_85ov': 3335, 'P_Poland_Tot': 45884}, 'P_Samoa_0_4': {'P_Samoa_0_4': 78, 'P_Samoa_5_14': 1342, 'P_Samoa_15_24': 2852, 'P_Samoa_25_44': 8350, 'P_Samoa_45_54': 5932, 'P_Samoa_55_64': 5548, 'P_Samoa_65_74': 2951, 'P_Samoa_75_84': 912, 'P_Samoa_85ov': 145, 'P_Samoa_Tot': 28107}, 'P_Scotland_0_4': {'P_Scotland_0_4': 199, 'P_Scotland_5_14': 2551, 'P_Scotland_15_24': 4696, 'P_Scotland_25_44': 19009, 'P_Scotland_45_54': 16799, 'P_Scotland_55_64': 25460, 'P_Scotland_65_74': 25713, 'P_Scotland_75_84': 17937, 'P_Scotland_85ov': 6125, 'P_Scotland_Tot': 118496}, 'P_Singapore_0_4': {'P_Singapore_0_4': 750, 'P_Singapore_5_14': 6044, 'P_Singapore_15_24': 7924, 'P_Singapore_25_44': 19412, 'P_Singapore_45_54': 9593, 'P_Singapore_55_64': 7980, 'P_Singapore_65_74': 6630, 'P_Singapore_75_84': 2168, 'P_Singapore_85ov': 561, 'P_Singapore_Tot': 61056}, 'P_South_Africa_0_4': {'P_South_Africa_0_4': 1059, 'P_South_Africa_5_14': 10760, 'P_South_Africa_15_24': 20334, 'P_South_Africa_25_44': 61441, 'P_South_Africa_45_54': 40265, 'P_South_Africa_55_64': 27128, 'P_South_Africa_65_74': 17796, 'P_South_Africa_75_84': 8131, 'P_South_Africa_85ov': 2297, 'P_South_Africa_Tot': 189207}, 'P_Sri_Lanka_0_4': {'P_Sri_Lanka_0_4': 604, 'P_Sri_Lanka_5_14': 5585, 'P_Sri_Lanka_15_24': 11067, 'P_Sri_Lanka_25_44': 55190, 'P_Sri_Lanka_45_54': 21173, 'P_Sri_Lanka_55_64': 17521, 'P_Sri_Lanka_65_74': 12862, 'P_Sri_Lanka_75_84': 5913, 'P_Sri_Lanka_85ov': 1992, 'P_Sri_Lanka_Tot': 131904}, 'P_Taiwan_0_4': {'P_Taiwan_0_4': 476, 'P_Taiwan_5_14': 1862, 'P_Taiwan_15_24': 3014, 'P_Taiwan_25_44': 30873, 'P_Taiwan_45_54': 5198, 'P_Taiwan_55_64': 3595, 'P_Taiwan_65_74': 3601, 'P_Taiwan_75_84': 769, 'P_Taiwan_85ov': 121, 'P_Taiwan_Tot': 49511}, 'P_Thailand_0_4': {'P_Thailand_0_4': 706, 'P_Thailand_5_14': 6098, 'P_Thailand_15_24': 10270, 'P_Thailand_25_44': 43902, 'P_Thailand_45_54': 13014, 'P_Thailand_55_64': 6263, 'P_Thailand_65_74': 2808, 'P_Thailand_75_84': 595, 'P_Thailand_85ov': 116, 'P_Thailand_Tot': 83779}, 'P_Turkey_0_4': {'P_Turkey_0_4': 180, 'P_Turkey_5_14': 975, 'P_Turkey_15_24': 1141, 'P_Turkey_25_44': 10916, 'P_Turkey_45_54': 9056, 'P_Turkey_55_64': 8376, 'P_Turkey_65_74': 4631, 'P_Turkey_75_84': 2732, 'P_Turkey_85ov': 565, 'P_Turkey_Tot': 38568}, 'P_USA_0_4': {'P_USA_0_4': 2699, 'P_USA_5_14': 10669, 'P_USA_15_24': 11403, 'P_USA_25_44': 34600, 'P_USA_45_54': 13936, 'P_USA_55_64': 12566, 'P_USA_65_74': 10511, 'P_USA_75_84': 4122, 'P_USA_85ov': 798, 'P_USA_Tot': 101309}, 'P_Vietnam_0_4': {'P_Vietnam_0_4': 919, 'P_Vietnam_5_14': 7196, 'P_Vietnam_15_24': 19709, 'P_Vietnam_25_44': 83513, 'P_Vietnam_45_54': 55467, 'P_Vietnam_55_64': 50109, 'P_Vietnam_65_74': 28938, 'P_Vietnam_75_84': 8473, 'P_Vietnam_85ov': 3672, 'P_Vietnam_Tot': 257997}, 'P_Wales_0_4': {'P_Wales_0_4': 57, 'P_Wales_5_14': 750, 'P_Wales_15_24': 1453, 'P_Wales_25_44': 6144, 'P_Wales_45_54': 4971, 'P_Wales_55_64': 5851, 'P_Wales_65_74': 5215, 'P_Wales_75_84': 3590, 'P_Wales_85ov': 1222, 'P_Wales_Tot': 29250}, 'P_Zimbabwe_0_4': {'P_Zimbabwe_0_4': 102, 'P_Zimbabwe_5_14': 1093, 'P_Zimbabwe_15_24': 4327, 'P_Zimbabwe_25_44': 14685, 'P_Zimbabwe_45_54': 8525, 'P_Zimbabwe_55_64': 6479, 'P_Zimbabwe_65_74': 3344, 'P_Zimbabwe_75_84': 938, 'P_Zimbabwe_85ov': 223, 'P_Zimbabwe_Tot': 39714}, 'P_Elsewhere_0_4': {'P_Elsewhere_0_4': 5221, 'P_Elsewhere_5_14': 39436, 'P_Elsewhere_15_24': 59144, 'P_Elsewhere_25_44': 271238, 'P_Elsewhere_45_54': 114021, 'P_Elsewhere_55_64': 102923, 'P_Elsewhere_65_74': 87171, 'P_Elsewhere_75_84': 57073, 'P_Elsewhere_85ov': 22942, 'P_Elsewhere_Tot': 759173}, 'P_COB_NS_0_4': {'P_COB_NS_0_4': 61345, 'P_COB_NS_5_14': 145841, 'P_COB_NS_15_24': 150994, 'P_COB_NS_25_44': 394515, 'P_COB_NS_45_54': 168253, 'P_COB_NS_55_64': 157912, 'P_COB_NS_65_74': 134407, 'P_COB_NS_75_84': 94757, 'P_COB_NS_85ov': 50649, 'P_COB_NS_Tot': 1358658}, 'P_Tot_0_4': {'P_Tot_0_4': 1463817, 'P_Tot_5_14': 3174191, 'P_Tot_15_24': 3037348, 'P_Tot_25_44': 7112427, 'P_Tot_45_54': 3246908, 'P_Tot_55_64': 3010014, 'P_Tot_65_74': 2459233, 'P_Tot_75_84': 1376519, 'P_Tot_85ov': 542342, 'P_Tot_Tot': 25422788}}\n"
     ]
    }
   ],
   "source": [
    "Final = dictionary_by_country(G13_Total)\n",
    "print(Final)"
   ]
  },
  {
   "cell_type": "code",
   "execution_count": 312,
   "metadata": {
    "collapsed": false
   },
   "outputs": [
    {
     "ename": "AttributeError",
     "evalue": "'int' object has no attribute 'replace'",
     "output_type": "error",
     "traceback": [
      "\u001b[0;31m---------------------------------------------------------------------------\u001b[0m",
      "\u001b[0;31mAttributeError\u001b[0m                            Traceback (most recent call last)",
      "\u001b[0;32m/tmp/ipykernel_359/1141753474.py\u001b[0m in \u001b[0;36m<cell line: 1>\u001b[0;34m()\u001b[0m\n\u001b[0;32m----> 1\u001b[0;31m \u001b[0mG13_Total\u001b[0m\u001b[0;34m,\u001b[0m\u001b[0mG13_AusPop\u001b[0m \u001b[0;34m=\u001b[0m \u001b[0mclean_dictionary\u001b[0m\u001b[0;34m(\u001b[0m\u001b[0mG13\u001b[0m\u001b[0;34m)\u001b[0m\u001b[0;34m\u001b[0m\u001b[0;34m\u001b[0m\u001b[0m\n\u001b[0m\u001b[1;32m      2\u001b[0m \u001b[0;34m\u001b[0m\u001b[0m\n\u001b[1;32m      3\u001b[0m \u001b[0mprint\u001b[0m\u001b[0;34m(\u001b[0m\u001b[0mG13_Total\u001b[0m\u001b[0;34m)\u001b[0m\u001b[0;34m\u001b[0m\u001b[0;34m\u001b[0m\u001b[0m\n\u001b[1;32m      4\u001b[0m \u001b[0mprint\u001b[0m\u001b[0;34m(\u001b[0m\u001b[0;34m\"\\n\"\u001b[0m\u001b[0;34m)\u001b[0m\u001b[0;34m\u001b[0m\u001b[0;34m\u001b[0m\u001b[0m\n\u001b[1;32m      5\u001b[0m \u001b[0mprint\u001b[0m\u001b[0;34m(\u001b[0m\u001b[0mG13_AusPop\u001b[0m\u001b[0;34m)\u001b[0m\u001b[0;34m\u001b[0m\u001b[0;34m\u001b[0m\u001b[0m\n",
      "\u001b[0;32m/tmp/ipykernel_359/2430005897.py\u001b[0m in \u001b[0;36mclean_dictionary\u001b[0;34m(from_dictionary)\u001b[0m\n\u001b[1;32m      8\u001b[0m             \u001b[0mG13_Total\u001b[0m\u001b[0;34m[\u001b[0m\u001b[0mkey\u001b[0m\u001b[0;34m]\u001b[0m \u001b[0;34m=\u001b[0m \u001b[0mint\u001b[0m\u001b[0;34m(\u001b[0m\u001b[0mvalue\u001b[0m\u001b[0;34m)\u001b[0m\u001b[0;34m\u001b[0m\u001b[0;34m\u001b[0m\u001b[0m\n\u001b[1;32m      9\u001b[0m \u001b[0;34m\u001b[0m\u001b[0m\n\u001b[0;32m---> 10\u001b[0;31m     \u001b[0mkey\u001b[0m \u001b[0;34m=\u001b[0m \u001b[0mG13_Total\u001b[0m\u001b[0;34m[\u001b[0m\u001b[0mkey\u001b[0m\u001b[0;34m]\u001b[0m\u001b[0;34m.\u001b[0m\u001b[0mreplace\u001b[0m\u001b[0;34m(\u001b[0m\u001b[0;34m'P_'\u001b[0m\u001b[0;34m,\u001b[0m\u001b[0;34m''\u001b[0m\u001b[0;34m)\u001b[0m\u001b[0;34m\u001b[0m\u001b[0;34m\u001b[0m\u001b[0m\n\u001b[0m\u001b[1;32m     11\u001b[0m     \u001b[0;32mreturn\u001b[0m \u001b[0mG13_Total\u001b[0m\u001b[0;34m,\u001b[0m \u001b[0mG13_AusPop\u001b[0m\u001b[0;34m\u001b[0m\u001b[0;34m\u001b[0m\u001b[0m\n",
      "\u001b[0;31mAttributeError\u001b[0m: 'int' object has no attribute 'replace'"
     ]
    }
   ],
   "source": [
    "\n"
   ]
  },
  {
   "cell_type": "code",
   "execution_count": 269,
   "metadata": {
    "collapsed": false
   },
   "outputs": [
   ],
   "source": [
    "\n"
   ]
  },
  {
   "cell_type": "code",
   "execution_count": 0,
   "metadata": {
    "collapsed": false
   },
   "outputs": [
   ],
   "source": [
   ]
  },
  {
   "cell_type": "code",
   "execution_count": 0,
   "metadata": {
    "collapsed": false
   },
   "outputs": [
   ],
   "source": [
   ]
  },
  {
   "cell_type": "code",
   "execution_count": 0,
   "metadata": {
    "collapsed": false
   },
   "outputs": [
   ],
   "source": [
   ]
  },
  {
   "cell_type": "code",
   "execution_count": 0,
   "metadata": {
    "collapsed": false
   },
   "outputs": [
   ],
   "source": [
   ]
  }
 ],
 "metadata": {
  "kernelspec": {
   "display_name": "Python 3 (system-wide)",
   "language": "python",
   "metadata": {
    "cocalc": {
     "description": "Python 3 programming language",
     "priority": 100,
     "url": "https://www.python.org/"
    }
   },
   "name": "python3",
   "resource_dir": "/ext/jupyter/kernels/python3"
  },
  "language_info": {
   "codemirror_mode": {
    "name": "ipython",
    "version": 3
   },
   "file_extension": ".py",
   "mimetype": "text/x-python",
   "name": "python",
   "nbconvert_exporter": "python",
   "pygments_lexer": "ipython3",
   "version": "3.8.10"
  },
  "nbgrader": {
   "__altered": false,
   "__hash": -335098374,
   "_root": {
    "entries": [
     [
      "cocalc_minimal_stubs",
      false
     ]
    ],
    "ownerID": {
    }
   },
   "cocalc_minimal_stubs": false,
   "size": 1
  }
 },
 "nbformat": 4,
 "nbformat_minor": 4
}