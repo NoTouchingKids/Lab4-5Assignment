{
 "cells": [
  {
   "cell_type": "code",
   "execution_count": 2,
   "metadata": {},
   "outputs": [],
   "source": [
    "import csv\n",
    "import re\n",
    "import matplotlib.pyplot as plt\n",
    "import seaborn as sns\n",
    "import numpy as np\n",
    "import pandas as pd\n"
   ]
  },
  {
   "cell_type": "code",
   "execution_count": 12,
   "metadata": {},
   "outputs": [],
   "source": [
    "files = ['AUS census Data/2021Census_G09A_AUS_AUS.csv',\n",
    "'AUS census Data/2021Census_G09B_AUS_AUS.csv',\n",
    "'AUS census Data/2021Census_G09C_AUS_AUS.csv',\n",
    "'AUS census Data/2021Census_G09D_AUS_AUS.csv',\n",
    "'AUS census Data/2021Census_G09E_AUS_AUS.csv',\n",
    "'AUS census Data/2021Census_G09F_AUS_AUS.csv',\n",
    "'AUS census Data/2021Census_G09G_AUS_AUS.csv',\n",
    "'AUS census Data/2021Census_G09H_AUS_AUS.csv']"
   ]
  },
  {
   "cell_type": "code",
   "execution_count": 13,
   "metadata": {},
   "outputs": [],
   "source": [
    "df_list= []\n",
    "for f in files:\n",
    "    df_list.append(pd.read_csv(f).drop(columns='AUS_CODE_2021'))\n"
   ]
  },
  {
   "cell_type": "code",
   "execution_count": 19,
   "metadata": {},
   "outputs": [],
   "source": [
    "df = pd.concat(df_list, axis=1).melt()"
   ]
  },
  {
   "cell_type": "code",
   "execution_count": 21,
   "metadata": {},
   "outputs": [],
   "source": [
    "df2 = df['variable'].replace({'_': ' '}, regex=True).str.split(' ', expand=True)"
   ]
  },
  {
   "cell_type": "code",
   "execution_count": 25,
   "metadata": {},
   "outputs": [],
   "source": [
    "pd.DataFrame(df2[1].unique()).to_csv('AUS_Forgien_Country.csv', index=False)"
   ]
  },
  {
   "cell_type": "code",
   "execution_count": null,
   "metadata": {},
   "outputs": [],
   "source": []
  }
 ],
 "metadata": {
  "kernelspec": {
   "display_name": "Python 3.8.10 ('venv': venv)",
   "language": "python",
   "name": "python3"
  },
  "language_info": {
   "codemirror_mode": {
    "name": "ipython",
    "version": 3
   },
   "file_extension": ".py",
   "mimetype": "text/x-python",
   "name": "python",
   "nbconvert_exporter": "python",
   "pygments_lexer": "ipython3",
   "version": "3.8.10"
  },
  "orig_nbformat": 4,
  "vscode": {
   "interpreter": {
    "hash": "a9bc2eca252ca9104bad7a4b64c25eb2799c1932a27d48f0dbe729dd29c09cb7"
   }
  }
 },
 "nbformat": 4,
 "nbformat_minor": 2
}
